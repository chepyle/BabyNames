{
 "cells": [
  {
   "cell_type": "markdown",
   "metadata": {},
   "source": [
    "# Data, Baby: Baby Names done with Data\n",
    "\n",
    "I need a good name for a baby!  It should be unique, but not too weird.  Lets analyze baby names in the US.\n",
    "\n",
    "First get some baby names from the social security administration:"
   ]
  },
  {
   "cell_type": "code",
   "execution_count": 1,
   "metadata": {},
   "outputs": [
    {
     "data": {
      "text/plain": [
       "('./names.zip', <http.client.HTTPMessage at 0x7f1e7813cf60>)"
      ]
     },
     "execution_count": 1,
     "metadata": {},
     "output_type": "execute_result"
    }
   ],
   "source": [
    "import urllib\n",
    "urllib.request.urlretrieve('https://www.ssa.gov/oact/babynames/names.zip','./names.zip')"
   ]
  },
  {
   "cell_type": "markdown",
   "metadata": {},
   "source": [
    "Next, extract the name info:"
   ]
  },
  {
   "cell_type": "code",
   "execution_count": 2,
   "metadata": {},
   "outputs": [],
   "source": [
    "import zipfile\n",
    "zip_ref = zipfile.ZipFile('./names.zip', 'r')\n",
    "zip_ref.extractall('./names/')\n",
    "zip_ref.close()"
   ]
  },
  {
   "cell_type": "markdown",
   "metadata": {},
   "source": [
    "Load some libraries:"
   ]
  },
  {
   "cell_type": "code",
   "execution_count": 3,
   "metadata": {},
   "outputs": [],
   "source": [
    "import glob, re\n",
    "import matplotlib.pyplot as plt\n",
    "import pandas as pd\n",
    "import numpy as np\n",
    "import seaborn as sns\n",
    "sns.set(style=\"darkgrid\")  \n",
    "np.random.seed(8675309)\n",
    "%matplotlib inline\n"
   ]
  },
  {
   "cell_type": "code",
   "execution_count": null,
   "metadata": {},
   "outputs": [],
   "source": []
  },
  {
   "cell_type": "markdown",
   "metadata": {},
   "source": [
    "Read in the name files then take a peek to see what we have:"
   ]
  },
  {
   "cell_type": "code",
   "execution_count": 4,
   "metadata": {},
   "outputs": [
    {
     "data": {
      "text/html": [
       "<div>\n",
       "<style scoped>\n",
       "    .dataframe tbody tr th:only-of-type {\n",
       "        vertical-align: middle;\n",
       "    }\n",
       "\n",
       "    .dataframe tbody tr th {\n",
       "        vertical-align: top;\n",
       "    }\n",
       "\n",
       "    .dataframe thead th {\n",
       "        text-align: right;\n",
       "    }\n",
       "</style>\n",
       "<table border=\"1\" class=\"dataframe\">\n",
       "  <thead>\n",
       "    <tr style=\"text-align: right;\">\n",
       "      <th></th>\n",
       "      <th>Year</th>\n",
       "      <th>Name</th>\n",
       "      <th>Count F</th>\n",
       "      <th>Count M</th>\n",
       "      <th>Pct F</th>\n",
       "      <th>Pct M</th>\n",
       "    </tr>\n",
       "    <tr>\n",
       "      <th>index</th>\n",
       "      <th></th>\n",
       "      <th></th>\n",
       "      <th></th>\n",
       "      <th></th>\n",
       "      <th></th>\n",
       "      <th></th>\n",
       "    </tr>\n",
       "  </thead>\n",
       "  <tbody>\n",
       "    <tr>\n",
       "      <th>0</th>\n",
       "      <td>1880</td>\n",
       "      <td>aaron</td>\n",
       "      <td>0</td>\n",
       "      <td>102</td>\n",
       "      <td>0.000000</td>\n",
       "      <td>0.092315</td>\n",
       "    </tr>\n",
       "    <tr>\n",
       "      <th>1</th>\n",
       "      <td>1880</td>\n",
       "      <td>ab</td>\n",
       "      <td>0</td>\n",
       "      <td>5</td>\n",
       "      <td>0.000000</td>\n",
       "      <td>0.004525</td>\n",
       "    </tr>\n",
       "    <tr>\n",
       "      <th>2</th>\n",
       "      <td>1880</td>\n",
       "      <td>abbie</td>\n",
       "      <td>71</td>\n",
       "      <td>0</td>\n",
       "      <td>0.078028</td>\n",
       "      <td>0.000000</td>\n",
       "    </tr>\n",
       "    <tr>\n",
       "      <th>3</th>\n",
       "      <td>1880</td>\n",
       "      <td>abbott</td>\n",
       "      <td>0</td>\n",
       "      <td>5</td>\n",
       "      <td>0.000000</td>\n",
       "      <td>0.004525</td>\n",
       "    </tr>\n",
       "    <tr>\n",
       "      <th>4</th>\n",
       "      <td>1880</td>\n",
       "      <td>abby</td>\n",
       "      <td>6</td>\n",
       "      <td>0</td>\n",
       "      <td>0.006594</td>\n",
       "      <td>0.000000</td>\n",
       "    </tr>\n",
       "  </tbody>\n",
       "</table>\n",
       "</div>"
      ],
      "text/plain": [
       "       Year    Name  Count F  Count M     Pct F     Pct M\n",
       "index                                                    \n",
       "0      1880   aaron        0      102  0.000000  0.092315\n",
       "1      1880      ab        0        5  0.000000  0.004525\n",
       "2      1880   abbie       71        0  0.078028  0.000000\n",
       "3      1880  abbott        0        5  0.000000  0.004525\n",
       "4      1880    abby        6        0  0.006594  0.000000"
      ]
     },
     "execution_count": 4,
     "metadata": {},
     "output_type": "execute_result"
    }
   ],
   "source": [
    "rawnames = pd.DataFrame()\n",
    "for f in glob.glob('./names/yob*.txt'):\n",
    "    yr = int(re.findall('\\\\d+',f)[0])\n",
    "    dat=pd.read_csv(f,names=['Name','Gender','Count'])\n",
    "    dat['Year']=yr\n",
    "    dat['Name']=dat['Name'].str.lower()\n",
    "    dat['Pct'] = dat.groupby('Gender',group_keys=False).apply(lambda f: f.Count/f.Count.sum()*100)\n",
    "    rawnames=rawnames.append(dat)\n",
    "\n",
    "names = rawnames.pivot_table(index = ['Year','Name'], columns = 'Gender', values=['Count','Pct'], fill_value=0).reset_index()\n",
    "names.index.rename('index',inplace=True)\n",
    "names.columns = names.columns.map(' '.join).str.strip()\n",
    "names.head()\n"
   ]
  },
  {
   "cell_type": "markdown",
   "metadata": {},
   "source": [
    "# Ok, we have the data, so lets explore\n",
    "How do these name things work? Are there rules, or at least trends?"
   ]
  },
  {
   "cell_type": "markdown",
   "metadata": {},
   "source": [
    "Next, inspect the data \n",
    "how does the number of births change in a year?\n",
    "what is the proportion of M/F"
   ]
  },
  {
   "cell_type": "code",
   "execution_count": 5,
   "metadata": {},
   "outputs": [
    {
     "name": "stdout",
     "output_type": "stream",
     "text": [
      "         Year       Name  Count F  Count M     Pct F     Pct M\n",
      "index                                                         \n",
      "140017   1918      jenny      142        0  0.012266  0.000000\n",
      "1078459  1994      samia       44        0  0.002465  0.000000\n",
      "760308   1978    tennile       14        0  0.000914  0.000000\n",
      "495781   1958      cyndy       91        0  0.004525  0.000000\n",
      "1375397  2005    sareena       16        0  0.000867  0.000000\n",
      "1246745  2001     jacque        8       16  0.000445  0.000824\n",
      "177301   1922    glendon        7       84  0.000583  0.007719\n",
      "734259   1977    helaina        5        0  0.000326  0.000000\n",
      "733851   1977      georg        0        9  0.000000  0.000548\n",
      "1528429  2010       leni       28        5  0.001578  0.000261\n",
      "511711   1959  nicolette       69        0  0.003411  0.000000\n",
      "904818   1986      zahra       40        0  0.002332  0.000000\n",
      "813326   1981     tirell        0        5  0.000000  0.000279\n",
      "538635   1962     cyntia        5        0  0.000254  0.000000\n",
      "1007099  1991    rosalia       77        0  0.004107  0.000000\n",
      "1317238  2003    soniyah        5        0  0.000274  0.000000\n",
      "1687264  2015     nanako        6        0  0.000337  0.000000\n",
      "1516600  2010      daksh        0       31  0.000000  0.001618\n",
      "649293   1971       matt        0      807  0.000000  0.045619\n",
      "80767    1909       neta       21        0  0.006048  0.000000\n",
      "number of rows in data: 1756284\n",
      "number of unique names: 97310\n"
     ]
    }
   ],
   "source": [
    "print(names.sample(20))\n",
    "print(\"number of rows in data: {}\".format(names.shape[0]))\n",
    "print(\"number of unique names: {}\".format(len(set(names.Name))))"
   ]
  },
  {
   "cell_type": "markdown",
   "metadata": {},
   "source": [
    "Add some new calculated columns to the dataframe:"
   ]
  },
  {
   "cell_type": "code",
   "execution_count": 6,
   "metadata": {},
   "outputs": [],
   "source": [
    "names['namelength']=names.Name.apply(len)\n",
    "names['Count']=names['Count M']+ names['Count F']"
   ]
  },
  {
   "cell_type": "markdown",
   "metadata": {},
   "source": [
    "Create a new data frame that summarizes some annual metrics, number of unique names, total names, and the top names in each year:"
   ]
  },
  {
   "cell_type": "code",
   "execution_count": 192,
   "metadata": {},
   "outputs": [
    {
     "data": {
      "text/html": [
       "<div>\n",
       "<style scoped>\n",
       "    .dataframe tbody tr th:only-of-type {\n",
       "        vertical-align: middle;\n",
       "    }\n",
       "\n",
       "    .dataframe tbody tr th {\n",
       "        vertical-align: top;\n",
       "    }\n",
       "\n",
       "    .dataframe thead th {\n",
       "        text-align: right;\n",
       "    }\n",
       "</style>\n",
       "<table border=\"1\" class=\"dataframe\">\n",
       "  <thead>\n",
       "    <tr style=\"text-align: right;\">\n",
       "      <th></th>\n",
       "      <th>Name</th>\n",
       "      <th>Count F</th>\n",
       "      <th>Count M</th>\n",
       "      <th>Unique, M</th>\n",
       "      <th>Unique, F</th>\n",
       "      <th>Total</th>\n",
       "      <th>Top, M</th>\n",
       "      <th>Top, F</th>\n",
       "    </tr>\n",
       "    <tr>\n",
       "      <th>Year</th>\n",
       "      <th></th>\n",
       "      <th></th>\n",
       "      <th></th>\n",
       "      <th></th>\n",
       "      <th></th>\n",
       "      <th></th>\n",
       "      <th></th>\n",
       "      <th></th>\n",
       "    </tr>\n",
       "  </thead>\n",
       "  <tbody>\n",
       "    <tr>\n",
       "      <th>1940</th>\n",
       "      <td>7984</td>\n",
       "      <td>1143393</td>\n",
       "      <td>1158985</td>\n",
       "      <td>3936</td>\n",
       "      <td>5025</td>\n",
       "      <td>2302378</td>\n",
       "      <td>james</td>\n",
       "      <td>mary</td>\n",
       "    </tr>\n",
       "    <tr>\n",
       "      <th>1945</th>\n",
       "      <td>8079</td>\n",
       "      <td>1307020</td>\n",
       "      <td>1345618</td>\n",
       "      <td>3783</td>\n",
       "      <td>5241</td>\n",
       "      <td>2652638</td>\n",
       "      <td>james</td>\n",
       "      <td>mary</td>\n",
       "    </tr>\n",
       "    <tr>\n",
       "      <th>1950</th>\n",
       "      <td>9278</td>\n",
       "      <td>1713151</td>\n",
       "      <td>1790549</td>\n",
       "      <td>4191</td>\n",
       "      <td>6111</td>\n",
       "      <td>3503700</td>\n",
       "      <td>james</td>\n",
       "      <td>linda</td>\n",
       "    </tr>\n",
       "    <tr>\n",
       "      <th>1955</th>\n",
       "      <td>9997</td>\n",
       "      <td>1955034</td>\n",
       "      <td>2059007</td>\n",
       "      <td>4388</td>\n",
       "      <td>6725</td>\n",
       "      <td>4014041</td>\n",
       "      <td>michael</td>\n",
       "      <td>mary</td>\n",
       "    </tr>\n",
       "    <tr>\n",
       "      <th>1960</th>\n",
       "      <td>10748</td>\n",
       "      <td>2022018</td>\n",
       "      <td>2132359</td>\n",
       "      <td>4590</td>\n",
       "      <td>7331</td>\n",
       "      <td>4154377</td>\n",
       "      <td>david</td>\n",
       "      <td>mary</td>\n",
       "    </tr>\n",
       "    <tr>\n",
       "      <th>1965</th>\n",
       "      <td>10834</td>\n",
       "      <td>1765073</td>\n",
       "      <td>1860956</td>\n",
       "      <td>4420</td>\n",
       "      <td>7533</td>\n",
       "      <td>3626029</td>\n",
       "      <td>michael</td>\n",
       "      <td>lisa</td>\n",
       "    </tr>\n",
       "    <tr>\n",
       "      <th>1970</th>\n",
       "      <td>13405</td>\n",
       "      <td>1748175</td>\n",
       "      <td>1859245</td>\n",
       "      <td>5430</td>\n",
       "      <td>9350</td>\n",
       "      <td>3607420</td>\n",
       "      <td>michael</td>\n",
       "      <td>jennifer</td>\n",
       "    </tr>\n",
       "    <tr>\n",
       "      <th>1975</th>\n",
       "      <td>15377</td>\n",
       "      <td>1457772</td>\n",
       "      <td>1562138</td>\n",
       "      <td>6335</td>\n",
       "      <td>10609</td>\n",
       "      <td>3019910</td>\n",
       "      <td>michael</td>\n",
       "      <td>jennifer</td>\n",
       "    </tr>\n",
       "    <tr>\n",
       "      <th>1980</th>\n",
       "      <td>17717</td>\n",
       "      <td>1660147</td>\n",
       "      <td>1784390</td>\n",
       "      <td>7288</td>\n",
       "      <td>12157</td>\n",
       "      <td>3444537</td>\n",
       "      <td>michael</td>\n",
       "      <td>jennifer</td>\n",
       "    </tr>\n",
       "    <tr>\n",
       "      <th>1985</th>\n",
       "      <td>18245</td>\n",
       "      <td>1720425</td>\n",
       "      <td>1847650</td>\n",
       "      <td>7581</td>\n",
       "      <td>12500</td>\n",
       "      <td>3568075</td>\n",
       "      <td>michael</td>\n",
       "      <td>jessica</td>\n",
       "    </tr>\n",
       "    <tr>\n",
       "      <th>1990</th>\n",
       "      <td>22678</td>\n",
       "      <td>1898046</td>\n",
       "      <td>2052946</td>\n",
       "      <td>9484</td>\n",
       "      <td>15235</td>\n",
       "      <td>3950992</td>\n",
       "      <td>michael</td>\n",
       "      <td>jessica</td>\n",
       "    </tr>\n",
       "    <tr>\n",
       "      <th>1995</th>\n",
       "      <td>23963</td>\n",
       "      <td>1758166</td>\n",
       "      <td>1903185</td>\n",
       "      <td>10327</td>\n",
       "      <td>15753</td>\n",
       "      <td>3661351</td>\n",
       "      <td>michael</td>\n",
       "      <td>jessica</td>\n",
       "    </tr>\n",
       "    <tr>\n",
       "      <th>2000</th>\n",
       "      <td>27512</td>\n",
       "      <td>1815110</td>\n",
       "      <td>1962969</td>\n",
       "      <td>12116</td>\n",
       "      <td>17653</td>\n",
       "      <td>3778079</td>\n",
       "      <td>jacob</td>\n",
       "      <td>emily</td>\n",
       "    </tr>\n",
       "    <tr>\n",
       "      <th>2005</th>\n",
       "      <td>30153</td>\n",
       "      <td>1846258</td>\n",
       "      <td>1995746</td>\n",
       "      <td>13364</td>\n",
       "      <td>19182</td>\n",
       "      <td>3842004</td>\n",
       "      <td>jacob</td>\n",
       "      <td>emily</td>\n",
       "    </tr>\n",
       "    <tr>\n",
       "      <th>2010</th>\n",
       "      <td>31623</td>\n",
       "      <td>1774758</td>\n",
       "      <td>1915942</td>\n",
       "      <td>14256</td>\n",
       "      <td>19811</td>\n",
       "      <td>3690700</td>\n",
       "      <td>jacob</td>\n",
       "      <td>isabella</td>\n",
       "    </tr>\n",
       "    <tr>\n",
       "      <th>2015</th>\n",
       "      <td>30583</td>\n",
       "      <td>1778883</td>\n",
       "      <td>1909804</td>\n",
       "      <td>14024</td>\n",
       "      <td>19074</td>\n",
       "      <td>3688687</td>\n",
       "      <td>noah</td>\n",
       "      <td>emma</td>\n",
       "    </tr>\n",
       "  </tbody>\n",
       "</table>\n",
       "</div>"
      ],
      "text/plain": [
       "       Name  Count F  Count M  Unique, M  Unique, F    Total   Top, M  \\\n",
       "Year                                                                    \n",
       "1940   7984  1143393  1158985       3936       5025  2302378    james   \n",
       "1945   8079  1307020  1345618       3783       5241  2652638    james   \n",
       "1950   9278  1713151  1790549       4191       6111  3503700    james   \n",
       "1955   9997  1955034  2059007       4388       6725  4014041  michael   \n",
       "1960  10748  2022018  2132359       4590       7331  4154377    david   \n",
       "1965  10834  1765073  1860956       4420       7533  3626029  michael   \n",
       "1970  13405  1748175  1859245       5430       9350  3607420  michael   \n",
       "1975  15377  1457772  1562138       6335      10609  3019910  michael   \n",
       "1980  17717  1660147  1784390       7288      12157  3444537  michael   \n",
       "1985  18245  1720425  1847650       7581      12500  3568075  michael   \n",
       "1990  22678  1898046  2052946       9484      15235  3950992  michael   \n",
       "1995  23963  1758166  1903185      10327      15753  3661351  michael   \n",
       "2000  27512  1815110  1962969      12116      17653  3778079    jacob   \n",
       "2005  30153  1846258  1995746      13364      19182  3842004    jacob   \n",
       "2010  31623  1774758  1915942      14256      19811  3690700    jacob   \n",
       "2015  30583  1778883  1909804      14024      19074  3688687     noah   \n",
       "\n",
       "        Top, F  \n",
       "Year            \n",
       "1940      mary  \n",
       "1945      mary  \n",
       "1950     linda  \n",
       "1955      mary  \n",
       "1960      mary  \n",
       "1965      lisa  \n",
       "1970  jennifer  \n",
       "1975  jennifer  \n",
       "1980  jennifer  \n",
       "1985   jessica  \n",
       "1990   jessica  \n",
       "1995   jessica  \n",
       "2000     emily  \n",
       "2005     emily  \n",
       "2010  isabella  \n",
       "2015      emma  "
      ]
     },
     "execution_count": 192,
     "metadata": {},
     "output_type": "execute_result"
    }
   ],
   "source": [
    "# calculate some annual stats:\n",
    "annual_metrics = names.groupby('Year').agg({'Name':lambda x: x.nunique(),'Count F':sum,'Count M':sum})\n",
    "annual_metrics['Unique, M'] = names.groupby('Year').apply(lambda x: x.loc[x['Count M']>0,'Name'].nunique())\n",
    "annual_metrics['Unique, F'] = names.groupby('Year').apply(lambda x: x.loc[x['Count F']>0,'Name'].nunique())\n",
    "annual_metrics['Total'] = annual_metrics['Count F']+annual_metrics['Count M']\n",
    "annual_metrics['Top, M'] = names.groupby('Year').apply(lambda x: x.loc[x['Count M'].idxmax(),'Name'])\n",
    "annual_metrics['Top, F'] = names.groupby('Year').apply(lambda x: x.loc[x['Count F'].idxmax(),'Name'])\n",
    "\n",
    "annual_metrics.loc[1940:2017:5,:]"
   ]
  },
  {
   "cell_type": "markdown",
   "metadata": {},
   "source": [
    "# Inspect some names over time\n",
    "With the data in hand, lets take a look at a few names for boys and girls"
   ]
  },
  {
   "cell_type": "code",
   "execution_count": 8,
   "metadata": {},
   "outputs": [
    {
     "data": {
      "text/html": [
       "\n",
       "    <div class=\"bk-root\">\n",
       "        <a href=\"https://bokeh.pydata.org\" target=\"_blank\" class=\"bk-logo bk-logo-small bk-logo-notebook\"></a>\n",
       "        <span id=\"1001\">Loading BokehJS ...</span>\n",
       "    </div>"
      ]
     },
     "metadata": {},
     "output_type": "display_data"
    },
    {
     "data": {
      "application/javascript": [
       "\n",
       "(function(root) {\n",
       "  function now() {\n",
       "    return new Date();\n",
       "  }\n",
       "\n",
       "  var force = true;\n",
       "\n",
       "  if (typeof (root._bokeh_onload_callbacks) === \"undefined\" || force === true) {\n",
       "    root._bokeh_onload_callbacks = [];\n",
       "    root._bokeh_is_loading = undefined;\n",
       "  }\n",
       "\n",
       "  var JS_MIME_TYPE = 'application/javascript';\n",
       "  var HTML_MIME_TYPE = 'text/html';\n",
       "  var EXEC_MIME_TYPE = 'application/vnd.bokehjs_exec.v0+json';\n",
       "  var CLASS_NAME = 'output_bokeh rendered_html';\n",
       "\n",
       "  /**\n",
       "   * Render data to the DOM node\n",
       "   */\n",
       "  function render(props, node) {\n",
       "    var script = document.createElement(\"script\");\n",
       "    node.appendChild(script);\n",
       "  }\n",
       "\n",
       "  /**\n",
       "   * Handle when an output is cleared or removed\n",
       "   */\n",
       "  function handleClearOutput(event, handle) {\n",
       "    var cell = handle.cell;\n",
       "\n",
       "    var id = cell.output_area._bokeh_element_id;\n",
       "    var server_id = cell.output_area._bokeh_server_id;\n",
       "    // Clean up Bokeh references\n",
       "    if (id != null && id in Bokeh.index) {\n",
       "      Bokeh.index[id].model.document.clear();\n",
       "      delete Bokeh.index[id];\n",
       "    }\n",
       "\n",
       "    if (server_id !== undefined) {\n",
       "      // Clean up Bokeh references\n",
       "      var cmd = \"from bokeh.io.state import curstate; print(curstate().uuid_to_server['\" + server_id + \"'].get_sessions()[0].document.roots[0]._id)\";\n",
       "      cell.notebook.kernel.execute(cmd, {\n",
       "        iopub: {\n",
       "          output: function(msg) {\n",
       "            var id = msg.content.text.trim();\n",
       "            if (id in Bokeh.index) {\n",
       "              Bokeh.index[id].model.document.clear();\n",
       "              delete Bokeh.index[id];\n",
       "            }\n",
       "          }\n",
       "        }\n",
       "      });\n",
       "      // Destroy server and session\n",
       "      var cmd = \"import bokeh.io.notebook as ion; ion.destroy_server('\" + server_id + \"')\";\n",
       "      cell.notebook.kernel.execute(cmd);\n",
       "    }\n",
       "  }\n",
       "\n",
       "  /**\n",
       "   * Handle when a new output is added\n",
       "   */\n",
       "  function handleAddOutput(event, handle) {\n",
       "    var output_area = handle.output_area;\n",
       "    var output = handle.output;\n",
       "\n",
       "    // limit handleAddOutput to display_data with EXEC_MIME_TYPE content only\n",
       "    if ((output.output_type != \"display_data\") || (!output.data.hasOwnProperty(EXEC_MIME_TYPE))) {\n",
       "      return\n",
       "    }\n",
       "\n",
       "    var toinsert = output_area.element.find(\".\" + CLASS_NAME.split(' ')[0]);\n",
       "\n",
       "    if (output.metadata[EXEC_MIME_TYPE][\"id\"] !== undefined) {\n",
       "      toinsert[toinsert.length - 1].firstChild.textContent = output.data[JS_MIME_TYPE];\n",
       "      // store reference to embed id on output_area\n",
       "      output_area._bokeh_element_id = output.metadata[EXEC_MIME_TYPE][\"id\"];\n",
       "    }\n",
       "    if (output.metadata[EXEC_MIME_TYPE][\"server_id\"] !== undefined) {\n",
       "      var bk_div = document.createElement(\"div\");\n",
       "      bk_div.innerHTML = output.data[HTML_MIME_TYPE];\n",
       "      var script_attrs = bk_div.children[0].attributes;\n",
       "      for (var i = 0; i < script_attrs.length; i++) {\n",
       "        toinsert[toinsert.length - 1].firstChild.setAttribute(script_attrs[i].name, script_attrs[i].value);\n",
       "      }\n",
       "      // store reference to server id on output_area\n",
       "      output_area._bokeh_server_id = output.metadata[EXEC_MIME_TYPE][\"server_id\"];\n",
       "    }\n",
       "  }\n",
       "\n",
       "  function register_renderer(events, OutputArea) {\n",
       "\n",
       "    function append_mime(data, metadata, element) {\n",
       "      // create a DOM node to render to\n",
       "      var toinsert = this.create_output_subarea(\n",
       "        metadata,\n",
       "        CLASS_NAME,\n",
       "        EXEC_MIME_TYPE\n",
       "      );\n",
       "      this.keyboard_manager.register_events(toinsert);\n",
       "      // Render to node\n",
       "      var props = {data: data, metadata: metadata[EXEC_MIME_TYPE]};\n",
       "      render(props, toinsert[toinsert.length - 1]);\n",
       "      element.append(toinsert);\n",
       "      return toinsert\n",
       "    }\n",
       "\n",
       "    /* Handle when an output is cleared or removed */\n",
       "    events.on('clear_output.CodeCell', handleClearOutput);\n",
       "    events.on('delete.Cell', handleClearOutput);\n",
       "\n",
       "    /* Handle when a new output is added */\n",
       "    events.on('output_added.OutputArea', handleAddOutput);\n",
       "\n",
       "    /**\n",
       "     * Register the mime type and append_mime function with output_area\n",
       "     */\n",
       "    OutputArea.prototype.register_mime_type(EXEC_MIME_TYPE, append_mime, {\n",
       "      /* Is output safe? */\n",
       "      safe: true,\n",
       "      /* Index of renderer in `output_area.display_order` */\n",
       "      index: 0\n",
       "    });\n",
       "  }\n",
       "\n",
       "  // register the mime type if in Jupyter Notebook environment and previously unregistered\n",
       "  if (root.Jupyter !== undefined) {\n",
       "    var events = require('base/js/events');\n",
       "    var OutputArea = require('notebook/js/outputarea').OutputArea;\n",
       "\n",
       "    if (OutputArea.prototype.mime_types().indexOf(EXEC_MIME_TYPE) == -1) {\n",
       "      register_renderer(events, OutputArea);\n",
       "    }\n",
       "  }\n",
       "\n",
       "  \n",
       "  if (typeof (root._bokeh_timeout) === \"undefined\" || force === true) {\n",
       "    root._bokeh_timeout = Date.now() + 5000;\n",
       "    root._bokeh_failed_load = false;\n",
       "  }\n",
       "\n",
       "  var NB_LOAD_WARNING = {'data': {'text/html':\n",
       "     \"<div style='background-color: #fdd'>\\n\"+\n",
       "     \"<p>\\n\"+\n",
       "     \"BokehJS does not appear to have successfully loaded. If loading BokehJS from CDN, this \\n\"+\n",
       "     \"may be due to a slow or bad network connection. Possible fixes:\\n\"+\n",
       "     \"</p>\\n\"+\n",
       "     \"<ul>\\n\"+\n",
       "     \"<li>re-rerun `output_notebook()` to attempt to load from CDN again, or</li>\\n\"+\n",
       "     \"<li>use INLINE resources instead, as so:</li>\\n\"+\n",
       "     \"</ul>\\n\"+\n",
       "     \"<code>\\n\"+\n",
       "     \"from bokeh.resources import INLINE\\n\"+\n",
       "     \"output_notebook(resources=INLINE)\\n\"+\n",
       "     \"</code>\\n\"+\n",
       "     \"</div>\"}};\n",
       "\n",
       "  function display_loaded() {\n",
       "    var el = document.getElementById(\"1001\");\n",
       "    if (el != null) {\n",
       "      el.textContent = \"BokehJS is loading...\";\n",
       "    }\n",
       "    if (root.Bokeh !== undefined) {\n",
       "      if (el != null) {\n",
       "        el.textContent = \"BokehJS \" + root.Bokeh.version + \" successfully loaded.\";\n",
       "      }\n",
       "    } else if (Date.now() < root._bokeh_timeout) {\n",
       "      setTimeout(display_loaded, 100)\n",
       "    }\n",
       "  }\n",
       "\n",
       "\n",
       "  function run_callbacks() {\n",
       "    try {\n",
       "      root._bokeh_onload_callbacks.forEach(function(callback) { callback() });\n",
       "    }\n",
       "    finally {\n",
       "      delete root._bokeh_onload_callbacks\n",
       "    }\n",
       "    console.info(\"Bokeh: all callbacks have finished\");\n",
       "  }\n",
       "\n",
       "  function load_libs(js_urls, callback) {\n",
       "    root._bokeh_onload_callbacks.push(callback);\n",
       "    if (root._bokeh_is_loading > 0) {\n",
       "      console.log(\"Bokeh: BokehJS is being loaded, scheduling callback at\", now());\n",
       "      return null;\n",
       "    }\n",
       "    if (js_urls == null || js_urls.length === 0) {\n",
       "      run_callbacks();\n",
       "      return null;\n",
       "    }\n",
       "    console.log(\"Bokeh: BokehJS not loaded, scheduling load and callback at\", now());\n",
       "    root._bokeh_is_loading = js_urls.length;\n",
       "    for (var i = 0; i < js_urls.length; i++) {\n",
       "      var url = js_urls[i];\n",
       "      var s = document.createElement('script');\n",
       "      s.src = url;\n",
       "      s.async = false;\n",
       "      s.onreadystatechange = s.onload = function() {\n",
       "        root._bokeh_is_loading--;\n",
       "        if (root._bokeh_is_loading === 0) {\n",
       "          console.log(\"Bokeh: all BokehJS libraries loaded\");\n",
       "          run_callbacks()\n",
       "        }\n",
       "      };\n",
       "      s.onerror = function() {\n",
       "        console.warn(\"failed to load library \" + url);\n",
       "      };\n",
       "      console.log(\"Bokeh: injecting script tag for BokehJS library: \", url);\n",
       "      document.getElementsByTagName(\"head\")[0].appendChild(s);\n",
       "    }\n",
       "  };var element = document.getElementById(\"1001\");\n",
       "  if (element == null) {\n",
       "    console.log(\"Bokeh: ERROR: autoload.js configured with elementid '1001' but no matching script tag was found. \")\n",
       "    return false;\n",
       "  }\n",
       "\n",
       "  var js_urls = [\"https://cdn.pydata.org/bokeh/release/bokeh-1.0.2.min.js\", \"https://cdn.pydata.org/bokeh/release/bokeh-widgets-1.0.2.min.js\", \"https://cdn.pydata.org/bokeh/release/bokeh-tables-1.0.2.min.js\", \"https://cdn.pydata.org/bokeh/release/bokeh-gl-1.0.2.min.js\"];\n",
       "\n",
       "  var inline_js = [\n",
       "    function(Bokeh) {\n",
       "      Bokeh.set_log_level(\"info\");\n",
       "    },\n",
       "    \n",
       "    function(Bokeh) {\n",
       "      \n",
       "    },\n",
       "    function(Bokeh) {\n",
       "      console.log(\"Bokeh: injecting CSS: https://cdn.pydata.org/bokeh/release/bokeh-1.0.2.min.css\");\n",
       "      Bokeh.embed.inject_css(\"https://cdn.pydata.org/bokeh/release/bokeh-1.0.2.min.css\");\n",
       "      console.log(\"Bokeh: injecting CSS: https://cdn.pydata.org/bokeh/release/bokeh-widgets-1.0.2.min.css\");\n",
       "      Bokeh.embed.inject_css(\"https://cdn.pydata.org/bokeh/release/bokeh-widgets-1.0.2.min.css\");\n",
       "      console.log(\"Bokeh: injecting CSS: https://cdn.pydata.org/bokeh/release/bokeh-tables-1.0.2.min.css\");\n",
       "      Bokeh.embed.inject_css(\"https://cdn.pydata.org/bokeh/release/bokeh-tables-1.0.2.min.css\");\n",
       "    }\n",
       "  ];\n",
       "\n",
       "  function run_inline_js() {\n",
       "    \n",
       "    if ((root.Bokeh !== undefined) || (force === true)) {\n",
       "      for (var i = 0; i < inline_js.length; i++) {\n",
       "        inline_js[i].call(root, root.Bokeh);\n",
       "      }if (force === true) {\n",
       "        display_loaded();\n",
       "      }} else if (Date.now() < root._bokeh_timeout) {\n",
       "      setTimeout(run_inline_js, 100);\n",
       "    } else if (!root._bokeh_failed_load) {\n",
       "      console.log(\"Bokeh: BokehJS failed to load within specified timeout.\");\n",
       "      root._bokeh_failed_load = true;\n",
       "    } else if (force !== true) {\n",
       "      var cell = $(document.getElementById(\"1001\")).parents('.cell').data().cell;\n",
       "      cell.output_area.append_execute_result(NB_LOAD_WARNING)\n",
       "    }\n",
       "\n",
       "  }\n",
       "\n",
       "  if (root._bokeh_is_loading === 0) {\n",
       "    console.log(\"Bokeh: BokehJS loaded, going straight to plotting\");\n",
       "    run_inline_js();\n",
       "  } else {\n",
       "    load_libs(js_urls, function() {\n",
       "      console.log(\"Bokeh: BokehJS plotting callback run at\", now());\n",
       "      run_inline_js();\n",
       "    });\n",
       "  }\n",
       "}(window));"
      ],
      "application/vnd.bokehjs_load.v0+json": "\n(function(root) {\n  function now() {\n    return new Date();\n  }\n\n  var force = true;\n\n  if (typeof (root._bokeh_onload_callbacks) === \"undefined\" || force === true) {\n    root._bokeh_onload_callbacks = [];\n    root._bokeh_is_loading = undefined;\n  }\n\n  \n\n  \n  if (typeof (root._bokeh_timeout) === \"undefined\" || force === true) {\n    root._bokeh_timeout = Date.now() + 5000;\n    root._bokeh_failed_load = false;\n  }\n\n  var NB_LOAD_WARNING = {'data': {'text/html':\n     \"<div style='background-color: #fdd'>\\n\"+\n     \"<p>\\n\"+\n     \"BokehJS does not appear to have successfully loaded. If loading BokehJS from CDN, this \\n\"+\n     \"may be due to a slow or bad network connection. Possible fixes:\\n\"+\n     \"</p>\\n\"+\n     \"<ul>\\n\"+\n     \"<li>re-rerun `output_notebook()` to attempt to load from CDN again, or</li>\\n\"+\n     \"<li>use INLINE resources instead, as so:</li>\\n\"+\n     \"</ul>\\n\"+\n     \"<code>\\n\"+\n     \"from bokeh.resources import INLINE\\n\"+\n     \"output_notebook(resources=INLINE)\\n\"+\n     \"</code>\\n\"+\n     \"</div>\"}};\n\n  function display_loaded() {\n    var el = document.getElementById(\"1001\");\n    if (el != null) {\n      el.textContent = \"BokehJS is loading...\";\n    }\n    if (root.Bokeh !== undefined) {\n      if (el != null) {\n        el.textContent = \"BokehJS \" + root.Bokeh.version + \" successfully loaded.\";\n      }\n    } else if (Date.now() < root._bokeh_timeout) {\n      setTimeout(display_loaded, 100)\n    }\n  }\n\n\n  function run_callbacks() {\n    try {\n      root._bokeh_onload_callbacks.forEach(function(callback) { callback() });\n    }\n    finally {\n      delete root._bokeh_onload_callbacks\n    }\n    console.info(\"Bokeh: all callbacks have finished\");\n  }\n\n  function load_libs(js_urls, callback) {\n    root._bokeh_onload_callbacks.push(callback);\n    if (root._bokeh_is_loading > 0) {\n      console.log(\"Bokeh: BokehJS is being loaded, scheduling callback at\", now());\n      return null;\n    }\n    if (js_urls == null || js_urls.length === 0) {\n      run_callbacks();\n      return null;\n    }\n    console.log(\"Bokeh: BokehJS not loaded, scheduling load and callback at\", now());\n    root._bokeh_is_loading = js_urls.length;\n    for (var i = 0; i < js_urls.length; i++) {\n      var url = js_urls[i];\n      var s = document.createElement('script');\n      s.src = url;\n      s.async = false;\n      s.onreadystatechange = s.onload = function() {\n        root._bokeh_is_loading--;\n        if (root._bokeh_is_loading === 0) {\n          console.log(\"Bokeh: all BokehJS libraries loaded\");\n          run_callbacks()\n        }\n      };\n      s.onerror = function() {\n        console.warn(\"failed to load library \" + url);\n      };\n      console.log(\"Bokeh: injecting script tag for BokehJS library: \", url);\n      document.getElementsByTagName(\"head\")[0].appendChild(s);\n    }\n  };var element = document.getElementById(\"1001\");\n  if (element == null) {\n    console.log(\"Bokeh: ERROR: autoload.js configured with elementid '1001' but no matching script tag was found. \")\n    return false;\n  }\n\n  var js_urls = [\"https://cdn.pydata.org/bokeh/release/bokeh-1.0.2.min.js\", \"https://cdn.pydata.org/bokeh/release/bokeh-widgets-1.0.2.min.js\", \"https://cdn.pydata.org/bokeh/release/bokeh-tables-1.0.2.min.js\", \"https://cdn.pydata.org/bokeh/release/bokeh-gl-1.0.2.min.js\"];\n\n  var inline_js = [\n    function(Bokeh) {\n      Bokeh.set_log_level(\"info\");\n    },\n    \n    function(Bokeh) {\n      \n    },\n    function(Bokeh) {\n      console.log(\"Bokeh: injecting CSS: https://cdn.pydata.org/bokeh/release/bokeh-1.0.2.min.css\");\n      Bokeh.embed.inject_css(\"https://cdn.pydata.org/bokeh/release/bokeh-1.0.2.min.css\");\n      console.log(\"Bokeh: injecting CSS: https://cdn.pydata.org/bokeh/release/bokeh-widgets-1.0.2.min.css\");\n      Bokeh.embed.inject_css(\"https://cdn.pydata.org/bokeh/release/bokeh-widgets-1.0.2.min.css\");\n      console.log(\"Bokeh: injecting CSS: https://cdn.pydata.org/bokeh/release/bokeh-tables-1.0.2.min.css\");\n      Bokeh.embed.inject_css(\"https://cdn.pydata.org/bokeh/release/bokeh-tables-1.0.2.min.css\");\n    }\n  ];\n\n  function run_inline_js() {\n    \n    if ((root.Bokeh !== undefined) || (force === true)) {\n      for (var i = 0; i < inline_js.length; i++) {\n        inline_js[i].call(root, root.Bokeh);\n      }if (force === true) {\n        display_loaded();\n      }} else if (Date.now() < root._bokeh_timeout) {\n      setTimeout(run_inline_js, 100);\n    } else if (!root._bokeh_failed_load) {\n      console.log(\"Bokeh: BokehJS failed to load within specified timeout.\");\n      root._bokeh_failed_load = true;\n    } else if (force !== true) {\n      var cell = $(document.getElementById(\"1001\")).parents('.cell').data().cell;\n      cell.output_area.append_execute_result(NB_LOAD_WARNING)\n    }\n\n  }\n\n  if (root._bokeh_is_loading === 0) {\n    console.log(\"Bokeh: BokehJS loaded, going straight to plotting\");\n    run_inline_js();\n  } else {\n    load_libs(js_urls, function() {\n      console.log(\"Bokeh: BokehJS plotting callback run at\", now());\n      run_inline_js();\n    });\n  }\n}(window));"
     },
     "metadata": {},
     "output_type": "display_data"
    },
    {
     "data": {
      "text/html": [
       "\n",
       "\n",
       "\n",
       "\n",
       "\n",
       "\n",
       "  <div class=\"bk-root\" id=\"ba6d80bc-d2f5-4195-a059-075d3bfd420b\"></div>\n"
      ]
     },
     "metadata": {},
     "output_type": "display_data"
    },
    {
     "data": {
      "application/javascript": [
       "(function(root) {\n",
       "  function embed_document(root) {\n",
       "    \n",
       "  var docs_json = {\"40525c45-5713-4a61-ab3b-41ec44603d17\":{\"roots\":{\"references\":[{\"attributes\":{\"background_fill_color\":{\"value\":\"#efefef\"},\"below\":[{\"id\":\"1013\",\"type\":\"LinearAxis\"}],\"left\":[{\"id\":\"1018\",\"type\":\"LogAxis\"}],\"plot_height\":480,\"renderers\":[{\"id\":\"1013\",\"type\":\"LinearAxis\"},{\"id\":\"1017\",\"type\":\"Grid\"},{\"id\":\"1018\",\"type\":\"LogAxis\"},{\"id\":\"1022\",\"type\":\"Grid\"},{\"id\":\"1032\",\"type\":\"BoxAnnotation\"},{\"id\":\"1053\",\"type\":\"Legend\"},{\"id\":\"1045\",\"type\":\"GlyphRenderer\"}],\"title\":{\"id\":\"1002\",\"type\":\"Title\"},\"toolbar\":{\"id\":\"1030\",\"type\":\"Toolbar\"},\"x_range\":{\"id\":\"1005\",\"type\":\"DataRange1d\"},\"x_scale\":{\"id\":\"1009\",\"type\":\"LinearScale\"},\"y_range\":{\"id\":\"1007\",\"type\":\"DataRange1d\"},\"y_scale\":{\"id\":\"1011\",\"type\":\"LogScale\"}},\"id\":\"1003\",\"subtype\":\"Figure\",\"type\":\"Plot\"},{\"attributes\":{},\"id\":\"1026\",\"type\":\"SaveTool\"},{\"attributes\":{},\"id\":\"1061\",\"type\":\"UnionRenderers\"},{\"attributes\":{},\"id\":\"1027\",\"type\":\"ResetTool\"},{\"attributes\":{\"callback\":null},\"id\":\"1005\",\"type\":\"DataRange1d\"},{\"attributes\":{},\"id\":\"1028\",\"type\":\"HelpTool\"},{\"attributes\":{\"callback\":null,\"tooltips\":[[\"Count, M\",\"@{Count M}\"],[\"Count, F\",\"@{Count F}\"],[\"(x,y)\",\"(@Year{0}, $y)\"],[\"Name\",\"@Name\"]]},\"id\":\"1029\",\"type\":\"HoverTool\"},{\"attributes\":{\"factors\":[\"walter\",\"james\",\"jacob\",\"otto\",\"anakin\"],\"palette\":[\"#1f77b4\",\"#ff7f0e\",\"#2ca02c\",\"#d62728\",\"#9467bd\",\"#8c564b\",\"#e377c2\",\"#7f7f7f\",\"#bcbd22\",\"#17becf\"]},\"id\":\"1040\",\"type\":\"CategoricalColorMapper\"},{\"attributes\":{\"callback\":null},\"id\":\"1007\",\"type\":\"DataRange1d\"},{\"attributes\":{},\"id\":\"1009\",\"type\":\"LinearScale\"},{\"attributes\":{\"bottom_units\":\"screen\",\"fill_alpha\":{\"value\":0.5},\"fill_color\":{\"value\":\"lightgrey\"},\"left_units\":\"screen\",\"level\":\"overlay\",\"line_alpha\":{\"value\":1.0},\"line_color\":{\"value\":\"black\"},\"line_dash\":[4,4],\"line_width\":{\"value\":2},\"plot\":null,\"render_mode\":\"css\",\"right_units\":\"screen\",\"top_units\":\"screen\"},\"id\":\"1032\",\"type\":\"BoxAnnotation\"},{\"attributes\":{},\"id\":\"1011\",\"type\":\"LogScale\"},{\"attributes\":{\"formatter\":{\"id\":\"1051\",\"type\":\"BasicTickFormatter\"},\"plot\":{\"id\":\"1003\",\"subtype\":\"Figure\",\"type\":\"Plot\"},\"ticker\":{\"id\":\"1014\",\"type\":\"BasicTicker\"}},\"id\":\"1013\",\"type\":\"LinearAxis\"},{\"attributes\":{\"ticker\":null},\"id\":\"1049\",\"type\":\"LogTickFormatter\"},{\"attributes\":{},\"id\":\"1014\",\"type\":\"BasicTicker\"},{\"attributes\":{\"callback\":null,\"data\":{\"Count\":[404,5949,271,1763,381,5465,221,1681,390,5910,252,1812,356,5248,240,1710,381,5726,288,1909,343,5201,263,1815,346,5384,270,1891,317,4787,253,1704,353,5607,312,2045,295,5046,309,1925,290,5130,267,1917,238,4547,279,1678,283,5420,280,2239,292,5053,257,2019,292,5135,270,2027,266,5369,283,2026,241,5235,256,2026,204,5143,234,1912,256,5350,259,2013,189,4624,174,1755,233,7286,199,2309,172,4765,156,1735,207,5622,192,1870,189,5508,166,1853,243,5882,161,1886,220,6077,172,1911,187,5945,173,1946,243,6752,170,2116,235,7044,177,2198,262,7646,180,2302,273,9258,200,2607,328,10020,228,3086,691,17725,398,5847,744,20926,509,6930,997,26370,605,8999,1122,33931,779,11311,1132,35735,725,11834,1127,37521,814,12658,1203,42331,733,13418,1082,42584,602,12946,1055,48158,640,13363,1099,49980,645,13078,1027,50042,628,12715,975,50745,582,12511,975,53218,606,12783,901,53046,547,12232,810,53564,486,11862,855,54064,513,11438,717,53180,469,10740,652,52519,468,9950,629,54363,438,9812,572,51558,366,9014,563,52240,355,8735,539,51405,322,7814,547,54505,318,8150,476,55238,289,7871,501,54913,277,7574,541,56800,274,7534,487,59371,271,7598,427,59896,225,7370,514,62730,227,7762,466,66986,215,7786,524,77455,229,8721,476,80529,195,9086,438,77184,174,8205,417,74696,175,7603,456,87681,181,8707,521,95013,177,9249,550,88839,173,8654,490,87112,172,8325,465,86491,150,7828,502,87528,147,8074,562,87366,150,7930,594,86245,170,7541,561,86514,149,7513,581,84404,136,7336,535,85086,160,7046,542,84550,152,6740,508,78961,147,6346,557,78897,149,6154,491,77131,141,5797,509,76204,140,5495,476,72819,122,5312,489,71638,126,5094,530,73361,119,4864,488,68006,89,4503,456,65478,112,4078,451,62010,110,3833,554,61016,86,3620,655,60242,80,3596,915,62119,92,3618,1060,54924,94,3387,1691,47382,85,2942,2139,43205,54,2647,2980,41604,72,2500,3650,39846,65,2383,4534,38558,63,2121,5830,40327,61,2199,6204,40183,60,2013,7587,39631,66,2142,8577,39596,51,2026,9412,38579,57,2007,10130,39189,61,1930,11067,36635,56,1777,11398,36084,45,1698,12349,36141,62,1709,13727,34307,60,1725,14408,32882,53,1594,15950,32747,67,1633,17904,32874,61,1617,22069,32462,73,1621,25251,30599,51,1538,25713,28573,52,1432,27549,26324,63,1364,29463,24835,62,1157,5,31195,22788,49,1068,6,31976,21217,70,1036,14,34212,20444,51,1026,26,36074,19731,73,896,114,35424,18591,65,918,96,34530,18021,61,949,66,32579,17112,90,826,69,30609,16988,91,833,54,29677,16925,97,774,66,28050,16555,115,766,133,25870,16159,127,770,120,24878,16281,134,850,102,24307,15990,145,810,101,22620,15203,136,764,119,21196,14257,171,789,100,22146,13906,180,780,91,20388,13277,213,799,127,19095,13446,288,801,143,18171,13580,343,938,220,16882,14462,417,982,236,15960,14838,525,1156,312,14495,14908,558,1165,326,13122,14309,612,1353],\"Count F\":[0,22,0,8,0,24,0,11,0,18,0,7,0,25,0,5,0,33,0,7,0,26,0,7,0,29,0,11,0,19,0,0,0,45,0,5,0,26,0,9,0,33,0,12,0,31,5,10,0,22,5,10,0,23,0,15,0,25,0,17,0,34,0,11,0,28,6,9,0,30,0,17,0,29,0,11,0,27,0,6,0,41,0,11,0,30,0,17,0,30,0,12,0,28,0,13,0,27,0,13,0,35,0,9,0,37,0,12,0,45,0,21,0,32,0,6,0,52,0,15,0,63,0,11,5,69,0,12,0,81,0,39,0,95,0,40,0,107,7,37,0,155,6,55,0,166,6,74,5,182,11,76,5,212,5,80,0,192,6,66,5,249,6,69,5,231,5,74,0,239,0,83,0,280,8,78,5,274,0,86,0,365,7,100,0,359,0,92,0,389,7,93,0,427,0,89,5,397,10,100,7,419,0,84,0,345,0,71,5,320,0,75,0,299,0,56,0,262,0,61,0,238,0,57,0,229,0,36,5,251,0,51,0,275,0,39,0,268,0,51,0,259,0,39,0,255,0,39,0,282,0,44,0,271,0,47,0,237,0,44,0,246,0,28,0,250,0,43,0,257,0,36,0,251,0,28,0,257,0,30,0,252,0,36,0,256,0,32,0,259,0,26,0,236,0,34,0,226,0,34,5,247,0,36,0,249,0,34,0,280,0,30,0,252,0,35,0,296,0,36,0,289,0,31,0,287,0,36,0,262,0,34,0,311,0,29,5,317,0,15,0,303,0,18,0,298,0,24,0,311,0,22,0,312,0,29,0,330,0,28,0,353,0,31,5,302,0,27,6,299,0,30,11,317,0,16,21,251,0,11,24,254,0,24,22,252,0,20,35,273,0,13,41,269,0,22,41,261,0,22,52,271,0,16,60,272,0,17,70,317,0,19,66,282,0,10,49,238,0,9,77,287,0,20,78,273,0,10,90,246,0,20,78,244,0,23,74,176,0,6,59,115,0,7,61,95,0,0,52,70,0,10,67,75,0,8,50,67,0,7,0,66,57,0,6,0,53,62,0,0,0,61,42,0,0,0,60,45,0,0,0,63,40,0,0,0,59,40,0,0,0,38,42,0,0,0,41,31,0,0,0,47,34,0,0,0,171,95,0,0,0,40,26,0,0,0,37,46,0,0,0,34,33,0,0,0,29,32,0,0,0,27,51,0,0,0,29,29,0,0,0,23,30,0,0,0,26,28,0,0,0,23,28,0,0,0,13,42,0,0,0,22,39,0,0,7,16,66,0,0,6,16,77,0,0],\"Count M\":[404,5927,271,1755,381,5441,221,1670,390,5892,252,1805,356,5223,240,1705,381,5693,288,1902,343,5175,263,1808,346,5355,270,1880,317,4768,253,1704,353,5562,312,2040,295,5020,309,1916,290,5097,267,1905,238,4516,274,1668,283,5398,275,2229,292,5030,257,2004,292,5110,270,2010,266,5335,283,2015,241,5207,250,2017,204,5113,234,1895,256,5321,259,2002,189,4597,174,1749,233,7245,199,2298,172,4735,156,1718,207,5592,192,1858,189,5480,166,1840,243,5855,161,1873,220,6042,172,1902,187,5908,173,1934,243,6707,170,2095,235,7012,177,2192,262,7594,180,2287,273,9195,200,2596,323,9951,228,3074,691,17644,398,5808,744,20831,509,6890,997,26263,598,8962,1122,33776,773,11256,1132,35569,719,11760,1122,37339,803,12582,1198,42119,728,13338,1082,42392,596,12880,1050,47909,634,13294,1094,49749,640,13004,1027,49803,628,12632,975,50465,574,12433,970,52944,606,12697,901,52681,540,12132,810,53205,486,11770,855,53675,506,11345,717,52753,469,10651,647,52122,458,9850,622,53944,438,9728,572,51213,366,8943,558,51920,355,8660,539,51106,322,7758,547,54243,318,8089,476,55000,289,7814,501,54684,277,7538,536,56549,274,7483,487,59096,271,7559,427,59628,225,7319,514,62471,227,7723,466,66731,215,7747,524,77173,229,8677,476,80258,195,9039,438,76947,174,8161,417,74450,175,7575,456,87431,181,8664,521,94756,177,9213,550,88588,173,8626,490,86855,172,8295,465,86239,150,7792,502,87272,147,8042,562,87107,150,7904,594,86009,170,7507,561,86288,149,7479,576,84157,136,7300,535,84837,160,7012,542,84270,152,6710,508,78709,147,6311,557,78601,149,6118,491,76842,141,5766,509,75917,140,5459,476,72557,122,5278,489,71327,126,5065,525,73044,119,4849,488,67703,89,4485,456,65180,112,4054,451,61699,110,3811,554,60704,86,3591,655,59912,80,3568,915,61766,92,3587,1055,54622,94,3360,1685,47083,85,2912,2128,42888,54,2631,2959,41353,72,2489,3626,39592,65,2359,4512,38306,63,2101,5795,40054,61,2186,6163,39914,60,1991,7546,39370,66,2120,8525,39325,51,2010,9352,38307,57,1990,10060,38872,61,1911,11001,36353,56,1767,11349,35846,45,1689,12272,35854,62,1689,13649,34034,60,1715,14318,32636,53,1574,15872,32503,67,1610,17830,32698,61,1611,22010,32347,73,1614,25190,30504,51,1538,25661,28503,52,1422,27482,26249,63,1356,29413,24768,62,1150,5,31129,22731,49,1062,6,31923,21155,70,1036,14,34151,20402,51,1026,26,36014,19686,73,896,114,35361,18551,65,918,96,34471,17981,61,949,66,32541,17070,90,826,69,30568,16957,91,833,54,29630,16891,97,774,66,27879,16460,115,766,133,25830,16133,127,770,120,24841,16235,134,850,102,24273,15957,145,810,101,22591,15171,136,764,119,21169,14206,171,789,100,22117,13877,180,780,91,20365,13247,213,799,127,19069,13418,288,801,143,18148,13552,343,938,220,16869,14420,417,982,236,15938,14799,525,1156,305,14479,14842,558,1165,320,13106,14232,612,1353],\"Name\":[\"jacob\",\"james\",\"otto\",\"walter\",\"jacob\",\"james\",\"otto\",\"walter\",\"jacob\",\"james\",\"otto\",\"walter\",\"jacob\",\"james\",\"otto\",\"walter\",\"jacob\",\"james\",\"otto\",\"walter\",\"jacob\",\"james\",\"otto\",\"walter\",\"jacob\",\"james\",\"otto\",\"walter\",\"jacob\",\"james\",\"otto\",\"walter\",\"jacob\",\"james\",\"otto\",\"walter\",\"jacob\",\"james\",\"otto\",\"walter\",\"jacob\",\"james\",\"otto\",\"walter\",\"jacob\",\"james\",\"otto\",\"walter\",\"jacob\",\"james\",\"otto\",\"walter\",\"jacob\",\"james\",\"otto\",\"walter\",\"jacob\",\"james\",\"otto\",\"walter\",\"jacob\",\"james\",\"otto\",\"walter\",\"jacob\",\"james\",\"otto\",\"walter\",\"jacob\",\"james\",\"otto\",\"walter\",\"jacob\",\"james\",\"otto\",\"walter\",\"jacob\",\"james\",\"otto\",\"walter\",\"jacob\",\"james\",\"otto\",\"walter\",\"jacob\",\"james\",\"otto\",\"walter\",\"jacob\",\"james\",\"otto\",\"walter\",\"jacob\",\"james\",\"otto\",\"walter\",\"jacob\",\"james\",\"otto\",\"walter\",\"jacob\",\"james\",\"otto\",\"walter\",\"jacob\",\"james\",\"otto\",\"walter\",\"jacob\",\"james\",\"otto\",\"walter\",\"jacob\",\"james\",\"otto\",\"walter\",\"jacob\",\"james\",\"otto\",\"walter\",\"jacob\",\"james\",\"otto\",\"walter\",\"jacob\",\"james\",\"otto\",\"walter\",\"jacob\",\"james\",\"otto\",\"walter\",\"jacob\",\"james\",\"otto\",\"walter\",\"jacob\",\"james\",\"otto\",\"walter\",\"jacob\",\"james\",\"otto\",\"walter\",\"jacob\",\"james\",\"otto\",\"walter\",\"jacob\",\"james\",\"otto\",\"walter\",\"jacob\",\"james\",\"otto\",\"walter\",\"jacob\",\"james\",\"otto\",\"walter\",\"jacob\",\"james\",\"otto\",\"walter\",\"jacob\",\"james\",\"otto\",\"walter\",\"jacob\",\"james\",\"otto\",\"walter\",\"jacob\",\"james\",\"otto\",\"walter\",\"jacob\",\"james\",\"otto\",\"walter\",\"jacob\",\"james\",\"otto\",\"walter\",\"jacob\",\"james\",\"otto\",\"walter\",\"jacob\",\"james\",\"otto\",\"walter\",\"jacob\",\"james\",\"otto\",\"walter\",\"jacob\",\"james\",\"otto\",\"walter\",\"jacob\",\"james\",\"otto\",\"walter\",\"jacob\",\"james\",\"otto\",\"walter\",\"jacob\",\"james\",\"otto\",\"walter\",\"jacob\",\"james\",\"otto\",\"walter\",\"jacob\",\"james\",\"otto\",\"walter\",\"jacob\",\"james\",\"otto\",\"walter\",\"jacob\",\"james\",\"otto\",\"walter\",\"jacob\",\"james\",\"otto\",\"walter\",\"jacob\",\"james\",\"otto\",\"walter\",\"jacob\",\"james\",\"otto\",\"walter\",\"jacob\",\"james\",\"otto\",\"walter\",\"jacob\",\"james\",\"otto\",\"walter\",\"jacob\",\"james\",\"otto\",\"walter\",\"jacob\",\"james\",\"otto\",\"walter\",\"jacob\",\"james\",\"otto\",\"walter\",\"jacob\",\"james\",\"otto\",\"walter\",\"jacob\",\"james\",\"otto\",\"walter\",\"jacob\",\"james\",\"otto\",\"walter\",\"jacob\",\"james\",\"otto\",\"walter\",\"jacob\",\"james\",\"otto\",\"walter\",\"jacob\",\"james\",\"otto\",\"walter\",\"jacob\",\"james\",\"otto\",\"walter\",\"jacob\",\"james\",\"otto\",\"walter\",\"jacob\",\"james\",\"otto\",\"walter\",\"jacob\",\"james\",\"otto\",\"walter\",\"jacob\",\"james\",\"otto\",\"walter\",\"jacob\",\"james\",\"otto\",\"walter\",\"jacob\",\"james\",\"otto\",\"walter\",\"jacob\",\"james\",\"otto\",\"walter\",\"jacob\",\"james\",\"otto\",\"walter\",\"jacob\",\"james\",\"otto\",\"walter\",\"jacob\",\"james\",\"otto\",\"walter\",\"jacob\",\"james\",\"otto\",\"walter\",\"jacob\",\"james\",\"otto\",\"walter\",\"jacob\",\"james\",\"otto\",\"walter\",\"jacob\",\"james\",\"otto\",\"walter\",\"jacob\",\"james\",\"otto\",\"walter\",\"jacob\",\"james\",\"otto\",\"walter\",\"jacob\",\"james\",\"otto\",\"walter\",\"jacob\",\"james\",\"otto\",\"walter\",\"jacob\",\"james\",\"otto\",\"walter\",\"jacob\",\"james\",\"otto\",\"walter\",\"jacob\",\"james\",\"otto\",\"walter\",\"jacob\",\"james\",\"otto\",\"walter\",\"jacob\",\"james\",\"otto\",\"walter\",\"jacob\",\"james\",\"otto\",\"walter\",\"jacob\",\"james\",\"otto\",\"walter\",\"jacob\",\"james\",\"otto\",\"walter\",\"jacob\",\"james\",\"otto\",\"walter\",\"jacob\",\"james\",\"otto\",\"walter\",\"jacob\",\"james\",\"otto\",\"walter\",\"jacob\",\"james\",\"otto\",\"walter\",\"jacob\",\"james\",\"otto\",\"walter\",\"jacob\",\"james\",\"otto\",\"walter\",\"jacob\",\"james\",\"otto\",\"walter\",\"jacob\",\"james\",\"otto\",\"walter\",\"jacob\",\"james\",\"otto\",\"walter\",\"jacob\",\"james\",\"otto\",\"walter\",\"jacob\",\"james\",\"otto\",\"walter\",\"jacob\",\"james\",\"otto\",\"walter\",\"jacob\",\"james\",\"otto\",\"walter\",\"jacob\",\"james\",\"otto\",\"walter\",\"jacob\",\"james\",\"otto\",\"walter\",\"jacob\",\"james\",\"otto\",\"walter\",\"jacob\",\"james\",\"otto\",\"walter\",\"anakin\",\"jacob\",\"james\",\"otto\",\"walter\",\"anakin\",\"jacob\",\"james\",\"otto\",\"walter\",\"anakin\",\"jacob\",\"james\",\"otto\",\"walter\",\"anakin\",\"jacob\",\"james\",\"otto\",\"walter\",\"anakin\",\"jacob\",\"james\",\"otto\",\"walter\",\"anakin\",\"jacob\",\"james\",\"otto\",\"walter\",\"anakin\",\"jacob\",\"james\",\"otto\",\"walter\",\"anakin\",\"jacob\",\"james\",\"otto\",\"walter\",\"anakin\",\"jacob\",\"james\",\"otto\",\"walter\",\"anakin\",\"jacob\",\"james\",\"otto\",\"walter\",\"anakin\",\"jacob\",\"james\",\"otto\",\"walter\",\"anakin\",\"jacob\",\"james\",\"otto\",\"walter\",\"anakin\",\"jacob\",\"james\",\"otto\",\"walter\",\"anakin\",\"jacob\",\"james\",\"otto\",\"walter\",\"anakin\",\"jacob\",\"james\",\"otto\",\"walter\",\"anakin\",\"jacob\",\"james\",\"otto\",\"walter\",\"anakin\",\"jacob\",\"james\",\"otto\",\"walter\",\"anakin\",\"jacob\",\"james\",\"otto\",\"walter\",\"anakin\",\"jacob\",\"james\",\"otto\",\"walter\",\"anakin\",\"jacob\",\"james\",\"otto\",\"walter\",\"anakin\",\"jacob\",\"james\",\"otto\",\"walter\",\"anakin\",\"jacob\",\"james\",\"otto\",\"walter\",\"anakin\",\"jacob\",\"james\",\"otto\",\"walter\"],\"Pct F\":{\"__ndarray__\":\"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\",\"dtype\":\"float64\",\"shape\":[575]},\"Pct M\":{\"__ndarray__\":\"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\",\"dtype\":\"float64\",\"shape\":[575]},\"Year\":[1880,1880,1880,1880,1881,1881,1881,1881,1882,1882,1882,1882,1883,1883,1883,1883,1884,1884,1884,1884,1885,1885,1885,1885,1886,1886,1886,1886,1887,1887,1887,1887,1888,1888,1888,1888,1889,1889,1889,1889,1890,1890,1890,1890,1891,1891,1891,1891,1892,1892,1892,1892,1893,1893,1893,1893,1894,1894,1894,1894,1895,1895,1895,1895,1896,1896,1896,1896,1897,1897,1897,1897,1898,1898,1898,1898,1899,1899,1899,1899,1900,1900,1900,1900,1901,1901,1901,1901,1902,1902,1902,1902,1903,1903,1903,1903,1904,1904,1904,1904,1905,1905,1905,1905,1906,1906,1906,1906,1907,1907,1907,1907,1908,1908,1908,1908,1909,1909,1909,1909,1910,1910,1910,1910,1911,1911,1911,1911,1912,1912,1912,1912,1913,1913,1913,1913,1914,1914,1914,1914,1915,1915,1915,1915,1916,1916,1916,1916,1917,1917,1917,1917,1918,1918,1918,1918,1919,1919,1919,1919,1920,1920,1920,1920,1921,1921,1921,1921,1922,1922,1922,1922,1923,1923,1923,1923,1924,1924,1924,1924,1925,1925,1925,1925,1926,1926,1926,1926,1927,1927,1927,1927,1928,1928,1928,1928,1929,1929,1929,1929,1930,1930,1930,1930,1931,1931,1931,1931,1932,1932,1932,1932,1933,1933,1933,1933,1934,1934,1934,1934,1935,1935,1935,1935,1936,1936,1936,1936,1937,1937,1937,1937,1938,1938,1938,1938,1939,1939,1939,1939,1940,1940,1940,1940,1941,1941,1941,1941,1942,1942,1942,1942,1943,1943,1943,1943,1944,1944,1944,1944,1945,1945,1945,1945,1946,1946,1946,1946,1947,1947,1947,1947,1948,1948,1948,1948,1949,1949,1949,1949,1950,1950,1950,1950,1951,1951,1951,1951,1952,1952,1952,1952,1953,1953,1953,1953,1954,1954,1954,1954,1955,1955,1955,1955,1956,1956,1956,1956,1957,1957,1957,1957,1958,1958,1958,1958,1959,1959,1959,1959,1960,1960,1960,1960,1961,1961,1961,1961,1962,1962,1962,1962,1963,1963,1963,1963,1964,1964,1964,1964,1965,1965,1965,1965,1966,1966,1966,1966,1967,1967,1967,1967,1968,1968,1968,1968,1969,1969,1969,1969,1970,1970,1970,1970,1971,1971,1971,1971,1972,1972,1972,1972,1973,1973,1973,1973,1974,1974,1974,1974,1975,1975,1975,1975,1976,1976,1976,1976,1977,1977,1977,1977,1978,1978,1978,1978,1979,1979,1979,1979,1980,1980,1980,1980,1981,1981,1981,1981,1982,1982,1982,1982,1983,1983,1983,1983,1984,1984,1984,1984,1985,1985,1985,1985,1986,1986,1986,1986,1987,1987,1987,1987,1988,1988,1988,1988,1989,1989,1989,1989,1990,1990,1990,1990,1991,1991,1991,1991,1992,1992,1992,1992,1993,1993,1993,1993,1994,1994,1994,1994,1995,1995,1995,1995,1995,1996,1996,1996,1996,1996,1997,1997,1997,1997,1997,1998,1998,1998,1998,1998,1999,1999,1999,1999,1999,2000,2000,2000,2000,2000,2001,2001,2001,2001,2001,2002,2002,2002,2002,2002,2003,2003,2003,2003,2003,2004,2004,2004,2004,2004,2005,2005,2005,2005,2005,2006,2006,2006,2006,2006,2007,2007,2007,2007,2007,2008,2008,2008,2008,2008,2009,2009,2009,2009,2009,2010,2010,2010,2010,2010,2011,2011,2011,2011,2011,2012,2012,2012,2012,2012,2013,2013,2013,2013,2013,2014,2014,2014,2014,2014,2015,2015,2015,2015,2015,2016,2016,2016,2016,2016,2017,2017,2017,2017,2017],\"index\":[911,913,1470,1807,2775,2777,3314,3637,4684,4686,5271,5646,6681,6683,7271,7616,8723,8725,9345,9757,10878,10880,11526,11911,13033,13035,13705,14120,15290,15292,15937,16345,17613,17616,18327,18792,20030,20032,20734,21182,22456,22458,23181,23652,24917,24920,25650,26114,27493,27495,28278,28784,30131,30134,30915,31406,32821,32824,33610,34105,35591,35594,36396,36912,38382,38385,39199,39745,41157,41160,41975,42506,44041,44045,44919,45499,46942,46945,47749,48282,50021,50026,50994,51637,53156,53159,54010,54575,56145,56148,57030,57624,59206,59210,60112,60723,62408,62411,63350,63969,65704,65708,66666,67293,69016,69019,69972,70600,72431,72436,73459,74175,76082,76087,77119,77833,79821,79825,80940,81656,83813,83819,85006,85814,88102,88108,89345,90195,93122,93132,94727,95859,99116,99127,100864,102099,105804,105813,107798,109223,113559,113572,115916,117579,122083,122097,124525,126271,130871,130887,133385,135151,139919,139936,142557,144423,149243,149260,151901,153742,158670,158686,161461,163354,168390,168408,171156,173070,178056,178076,180844,182739,187640,187657,190384,192283,197294,197317,200091,202027,206936,206958,209670,211539,216346,216368,219028,220854,225653,225679,228306,230162,234849,234871,237440,239212,243716,243741,246224,247941,252398,252422,254959,256673,260978,261005,263379,264983,269271,269298,271710,273337,277436,277464,279806,281369,285520,285541,287949,289551,293651,293678,296062,297633,301639,301666,304000,305570,309521,309548,311920,313520,317464,317494,319926,321580,325471,325499,327916,329529,333419,333445,335861,337508,341431,341458,343904,345596,349612,349637,352210,353979,357998,358028,360580,362364,366303,366331,368798,370540,374365,374394,376859,378621,382750,382789,385393,387301,391696,391733,394546,396594,400888,400925,403736,405787,410128,410167,412942,415017,419347,419390,422187,424290,428711,428756,431611,433705,438171,438213,441153,443303,447841,447884,450817,453036,457587,457632,460624,462903,467499,467542,470556,472897,477520,477562,480712,483124,487831,487884,491045,493495,498153,498198,501366,503875,508621,508668,511927,514469,519272,519323,522643,525206,530111,530170,533554,536225,541098,541153,544530,547202,552067,552132,555588,558309,563227,563287,566759,569532,574264,574317,577663,580360,585127,585177,588635,591380,596201,596258,599783,602622,607592,607652,611358,614369,619575,619640,623587,626816,632390,632473,636711,640205,645942,646019,650359,654016,659708,659800,664255,668024,673827,673917,678533,682274,688195,688296,693075,697027,703141,703249,708186,712382,718623,718752,723867,728211,734642,734779,740295,744753,751241,751386,756937,761363,768121,768279,774037,778689,785525,785688,791612,796371,803318,803473,809385,814113,821122,821291,827249,832026,838986,839160,844990,849702,856673,856844,862783,867444,874691,874877,880927,885658,893127,893303,899601,904420,912180,912378,918883,923864,931985,932231,939087,944280,952948,953219,960428,965840,974991,975269,982741,988473,997762,998049,1005676,1011523,1020990,1021308,1029073,1034872,1044604,1044958,1052751,1058572,1068395,1068762,1076674,1082421,1084430,1092333,1092699,1100678,1106380,1108407,1116354,1116758,1124895,1130622,1132842,1141041,1141465,1149813,1155486,1157766,1166196,1166656,1175295,1181147,1183532,1192170,1192665,1201473,1207412,1210028,1219088,1219630,1228814,1234821,1237591,1246717,1247314,1256676,1262730,1265683,1274926,1275537,1285006,1290988,1294004,1303455,1304066,1313733,1319833,1322947,1332576,1333224,1343120,1349241,1352520,1362272,1362924,1373146,1379325,1382768,1392994,1393660,1404341,1410778,1414503,1424939,1425638,1436571,1443098,1446935,1457465,1458191,1469178,1475596,1479468,1489881,1490591,1501477,1507806,1511707,1521998,1522687,1533243,1539400,1543347,1553630,1554305,1564819,1570876,1574828,1585143,1585752,1596119,1602126,1606119,1616355,1616939,1627098,1633011,1636956,1647205,1647763,1657870,1663726,1667715,1677938,1678455,1688492,1694297,1698308,1708403,1708916,1718812,1724637,1728639,1738630,1739116,1748834,1754559],\"namelength\":[5,5,4,6,5,5,4,6,5,5,4,6,5,5,4,6,5,5,4,6,5,5,4,6,5,5,4,6,5,5,4,6,5,5,4,6,5,5,4,6,5,5,4,6,5,5,4,6,5,5,4,6,5,5,4,6,5,5,4,6,5,5,4,6,5,5,4,6,5,5,4,6,5,5,4,6,5,5,4,6,5,5,4,6,5,5,4,6,5,5,4,6,5,5,4,6,5,5,4,6,5,5,4,6,5,5,4,6,5,5,4,6,5,5,4,6,5,5,4,6,5,5,4,6,5,5,4,6,5,5,4,6,5,5,4,6,5,5,4,6,5,5,4,6,5,5,4,6,5,5,4,6,5,5,4,6,5,5,4,6,5,5,4,6,5,5,4,6,5,5,4,6,5,5,4,6,5,5,4,6,5,5,4,6,5,5,4,6,5,5,4,6,5,5,4,6,5,5,4,6,5,5,4,6,5,5,4,6,5,5,4,6,5,5,4,6,5,5,4,6,5,5,4,6,5,5,4,6,5,5,4,6,5,5,4,6,5,5,4,6,5,5,4,6,5,5,4,6,5,5,4,6,5,5,4,6,5,5,4,6,5,5,4,6,5,5,4,6,5,5,4,6,5,5,4,6,5,5,4,6,5,5,4,6,5,5,4,6,5,5,4,6,5,5,4,6,5,5,4,6,5,5,4,6,5,5,4,6,5,5,4,6,5,5,4,6,5,5,4,6,5,5,4,6,5,5,4,6,5,5,4,6,5,5,4,6,5,5,4,6,5,5,4,6,5,5,4,6,5,5,4,6,5,5,4,6,5,5,4,6,5,5,4,6,5,5,4,6,5,5,4,6,5,5,4,6,5,5,4,6,5,5,4,6,5,5,4,6,5,5,4,6,5,5,4,6,5,5,4,6,5,5,4,6,5,5,4,6,5,5,4,6,5,5,4,6,5,5,4,6,5,5,4,6,5,5,4,6,5,5,4,6,5,5,4,6,5,5,4,6,5,5,4,6,5,5,4,6,5,5,4,6,5,5,4,6,5,5,4,6,6,5,5,4,6,6,5,5,4,6,6,5,5,4,6,6,5,5,4,6,6,5,5,4,6,6,5,5,4,6,6,5,5,4,6,6,5,5,4,6,6,5,5,4,6,6,5,5,4,6,6,5,5,4,6,6,5,5,4,6,6,5,5,4,6,6,5,5,4,6,6,5,5,4,6,6,5,5,4,6,6,5,5,4,6,6,5,5,4,6,6,5,5,4,6,6,5,5,4,6,6,5,5,4,6,6,5,5,4,6,6,5,5,4,6]},\"selected\":{\"id\":\"1060\",\"type\":\"Selection\"},\"selection_policy\":{\"id\":\"1061\",\"type\":\"UnionRenderers\"}},\"id\":\"1041\",\"type\":\"ColumnDataSource\"},{\"attributes\":{\"plot\":{\"id\":\"1003\",\"subtype\":\"Figure\",\"type\":\"Plot\"},\"ticker\":{\"id\":\"1014\",\"type\":\"BasicTicker\"}},\"id\":\"1017\",\"type\":\"Grid\"},{\"attributes\":{\"formatter\":{\"id\":\"1049\",\"type\":\"LogTickFormatter\"},\"plot\":{\"id\":\"1003\",\"subtype\":\"Figure\",\"type\":\"Plot\"},\"ticker\":{\"id\":\"1019\",\"type\":\"LogTicker\"}},\"id\":\"1018\",\"type\":\"LogAxis\"},{\"attributes\":{\"source\":{\"id\":\"1041\",\"type\":\"ColumnDataSource\"}},\"id\":\"1046\",\"type\":\"CDSView\"},{\"attributes\":{\"num_minor_ticks\":10},\"id\":\"1019\",\"type\":\"LogTicker\"},{\"attributes\":{\"data_source\":{\"id\":\"1041\",\"type\":\"ColumnDataSource\"},\"glyph\":{\"id\":\"1043\",\"type\":\"Scatter\"},\"hover_glyph\":null,\"muted_glyph\":null,\"nonselection_glyph\":{\"id\":\"1044\",\"type\":\"Scatter\"},\"selection_glyph\":null,\"view\":{\"id\":\"1046\",\"type\":\"CDSView\"}},\"id\":\"1045\",\"type\":\"GlyphRenderer\"},{\"attributes\":{\"dimension\":1,\"plot\":{\"id\":\"1003\",\"subtype\":\"Figure\",\"type\":\"Plot\"},\"ticker\":{\"id\":\"1019\",\"type\":\"LogTicker\"}},\"id\":\"1022\",\"type\":\"Grid\"},{\"attributes\":{\"fill_alpha\":{\"value\":0.1},\"fill_color\":{\"value\":\"#1f77b4\"},\"line_alpha\":{\"value\":0.1},\"line_color\":{\"value\":\"#1f77b4\"},\"x\":{\"field\":\"Year\"},\"y\":{\"field\":\"Pct M\"}},\"id\":\"1044\",\"type\":\"Scatter\"},{\"attributes\":{},\"id\":\"1060\",\"type\":\"Selection\"},{\"attributes\":{\"active_drag\":\"auto\",\"active_inspect\":\"auto\",\"active_multi\":null,\"active_scroll\":\"auto\",\"active_tap\":\"auto\",\"tools\":[{\"id\":\"1023\",\"type\":\"PanTool\"},{\"id\":\"1024\",\"type\":\"WheelZoomTool\"},{\"id\":\"1025\",\"type\":\"BoxZoomTool\"},{\"id\":\"1026\",\"type\":\"SaveTool\"},{\"id\":\"1027\",\"type\":\"ResetTool\"},{\"id\":\"1028\",\"type\":\"HelpTool\"},{\"id\":\"1029\",\"type\":\"HoverTool\"}]},\"id\":\"1030\",\"type\":\"Toolbar\"},{\"attributes\":{\"fill_alpha\":{\"value\":0.8},\"fill_color\":{\"field\":\"Name\",\"transform\":{\"id\":\"1040\",\"type\":\"CategoricalColorMapper\"}},\"line_color\":{\"field\":\"Name\",\"transform\":{\"id\":\"1040\",\"type\":\"CategoricalColorMapper\"}},\"x\":{\"field\":\"Year\"},\"y\":{\"field\":\"Pct M\"}},\"id\":\"1043\",\"type\":\"Scatter\"},{\"attributes\":{},\"id\":\"1051\",\"type\":\"BasicTickFormatter\"},{\"attributes\":{},\"id\":\"1023\",\"type\":\"PanTool\"},{\"attributes\":{\"items\":[{\"id\":\"1054\",\"type\":\"LegendItem\"}],\"location\":\"bottom_left\",\"plot\":{\"id\":\"1003\",\"subtype\":\"Figure\",\"type\":\"Plot\"}},\"id\":\"1053\",\"type\":\"Legend\"},{\"attributes\":{},\"id\":\"1024\",\"type\":\"WheelZoomTool\"},{\"attributes\":{\"label\":{\"field\":\"Name\"},\"renderers\":[{\"id\":\"1045\",\"type\":\"GlyphRenderer\"}]},\"id\":\"1054\",\"type\":\"LegendItem\"},{\"attributes\":{\"overlay\":{\"id\":\"1032\",\"type\":\"BoxAnnotation\"}},\"id\":\"1025\",\"type\":\"BoxZoomTool\"},{\"attributes\":{\"plot\":null,\"text\":\"simple line example\"},\"id\":\"1002\",\"type\":\"Title\"}],\"root_ids\":[\"1003\"]},\"title\":\"Bokeh Application\",\"version\":\"1.0.2\"}};\n",
       "  var render_items = [{\"docid\":\"40525c45-5713-4a61-ab3b-41ec44603d17\",\"roots\":{\"1003\":\"ba6d80bc-d2f5-4195-a059-075d3bfd420b\"}}];\n",
       "  root.Bokeh.embed.embed_items_notebook(docs_json, render_items);\n",
       "\n",
       "  }\n",
       "  if (root.Bokeh !== undefined) {\n",
       "    embed_document(root);\n",
       "  } else {\n",
       "    var attempts = 0;\n",
       "    var timer = setInterval(function(root) {\n",
       "      if (root.Bokeh !== undefined) {\n",
       "        embed_document(root);\n",
       "        clearInterval(timer);\n",
       "      }\n",
       "      attempts++;\n",
       "      if (attempts > 100) {\n",
       "        console.log(\"Bokeh: ERROR: Unable to run BokehJS code because BokehJS library is missing\");\n",
       "        clearInterval(timer);\n",
       "      }\n",
       "    }, 10, root)\n",
       "  }\n",
       "})(window);"
      ],
      "application/vnd.bokehjs_exec.v0+json": ""
     },
     "metadata": {
      "application/vnd.bokehjs_exec.v0+json": {
       "id": "1003"
      }
     },
     "output_type": "display_data"
    }
   ],
   "source": [
    "#https://github.com/bokeh/bokeh/tree/master/examples/howto/notebook_comms\n",
    "#https://bokeh.pydata.org/en/latest/docs/user_guide/plotting.html\n",
    "#https://bokeh.pydata.org/en/latest/docs/user_guide/tools.html#basic-tooltips\n",
    "#https://bokeh.pydata.org/en/latest/docs/user_guide/tools.html#formatting-tooltip-fields\n",
    "boynames=['walter','james','jacob','otto','anakin']\n",
    "\n",
    "from ipywidgets import interact\n",
    "import numpy as np\n",
    "\n",
    "from bokeh.io import push_notebook, show, output_notebook\n",
    "from bokeh.plotting import figure\n",
    "from bokeh.transform import linear_cmap,factor_cmap\n",
    "output_notebook()\n",
    "\n",
    "TOOLTIPS = [\n",
    "    (\"Count, M\", \"@{Count M}\"),\n",
    "    (\"Count, F\", \"@{Count F}\"),\n",
    "    (\"(x,y)\", \"(@Year{0}, $y)\"),\n",
    "    (\"Name\", \"@Name\"),\n",
    "]\n",
    "p = figure(title=\"names over time\", plot_height=480, plot_width=600,\n",
    "           background_fill_color='#efefef',tooltips = TOOLTIPS,y_axis_type='log')\n",
    "p.scatter('Year', 'Pct M',fill_alpha=0.8,source=names.loc[names.Name.isin(boynames),:],\n",
    "             color=factor_cmap('Name', 'Category10_10', boynames), legend='Name')\n",
    "p.legend.location = \"bottom_left\"\n",
    "show(p)"
   ]
  },
  {
   "cell_type": "code",
   "execution_count": 157,
   "metadata": {},
   "outputs": [
    {
     "data": {
      "text/html": [
       "\n",
       "\n",
       "\n",
       "\n",
       "\n",
       "\n",
       "  <div class=\"bk-root\" id=\"c902fb40-9a58-4b20-a887-8e243fb350aa\"></div>\n"
      ]
     },
     "metadata": {},
     "output_type": "display_data"
    },
    {
     "data": {
      "application/javascript": [
       "(function(root) {\n",
       "  function embed_document(root) {\n",
       "    \n",
       "  var docs_json = {\"a11666a4-76b9-4571-adee-9e0291d0c40c\":{\"roots\":{\"references\":[{\"attributes\":{\"background_fill_color\":{\"value\":\"#efefef\"},\"below\":[{\"id\":\"3425\",\"type\":\"LinearAxis\"}],\"left\":[{\"id\":\"3430\",\"type\":\"LogAxis\"}],\"plot_height\":480,\"renderers\":[{\"id\":\"3425\",\"type\":\"LinearAxis\"},{\"id\":\"3429\",\"type\":\"Grid\"},{\"id\":\"3430\",\"type\":\"LogAxis\"},{\"id\":\"3434\",\"type\":\"Grid\"},{\"id\":\"3444\",\"type\":\"BoxAnnotation\"},{\"id\":\"3465\",\"type\":\"Legend\"},{\"id\":\"3457\",\"type\":\"GlyphRenderer\"}],\"title\":{\"id\":\"3414\",\"type\":\"Title\"},\"toolbar\":{\"id\":\"3442\",\"type\":\"Toolbar\"},\"x_range\":{\"id\":\"3417\",\"type\":\"DataRange1d\"},\"x_scale\":{\"id\":\"3421\",\"type\":\"LinearScale\"},\"y_range\":{\"id\":\"3419\",\"type\":\"DataRange1d\"},\"y_scale\":{\"id\":\"3423\",\"type\":\"LogScale\"}},\"id\":\"3415\",\"subtype\":\"Figure\",\"type\":\"Plot\"},{\"attributes\":{},\"id\":\"3593\",\"type\":\"UnionRenderers\"},{\"attributes\":{\"callback\":null,\"tooltips\":[[\"Count, M\",\"@{Count M}\"],[\"Count, F\",\"@{Count F}\"],[\"(x,y)\",\"(@Year{0}, $y)\"],[\"Name\",\"@Name\"]]},\"id\":\"3441\",\"type\":\"HoverTool\"},{\"attributes\":{\"callback\":null},\"id\":\"3419\",\"type\":\"DataRange1d\"},{\"attributes\":{},\"id\":\"3421\",\"type\":\"LinearScale\"},{\"attributes\":{\"bottom_units\":\"screen\",\"fill_alpha\":{\"value\":0.5},\"fill_color\":{\"value\":\"lightgrey\"},\"left_units\":\"screen\",\"level\":\"overlay\",\"line_alpha\":{\"value\":1.0},\"line_color\":{\"value\":\"black\"},\"line_dash\":[4,4],\"line_width\":{\"value\":2},\"plot\":null,\"render_mode\":\"css\",\"right_units\":\"screen\",\"top_units\":\"screen\"},\"id\":\"3444\",\"type\":\"BoxAnnotation\"},{\"attributes\":{},\"id\":\"3423\",\"type\":\"LogScale\"},{\"attributes\":{},\"id\":\"3463\",\"type\":\"BasicTickFormatter\"},{\"attributes\":{},\"id\":\"3592\",\"type\":\"Selection\"},{\"attributes\":{\"formatter\":{\"id\":\"3463\",\"type\":\"BasicTickFormatter\"},\"plot\":{\"id\":\"3415\",\"subtype\":\"Figure\",\"type\":\"Plot\"},\"ticker\":{\"id\":\"3426\",\"type\":\"BasicTicker\"}},\"id\":\"3425\",\"type\":\"LinearAxis\"},{\"attributes\":{\"ticker\":null},\"id\":\"3461\",\"type\":\"LogTickFormatter\"},{\"attributes\":{},\"id\":\"3426\",\"type\":\"BasicTicker\"},{\"attributes\":{\"factors\":[\"eva\",\"kathleen\",\"erin\",\"thea\",\"katniss\"],\"palette\":[\"#1f77b4\",\"#ff7f0e\",\"#2ca02c\",\"#d62728\",\"#9467bd\",\"#8c564b\",\"#e377c2\",\"#7f7f7f\",\"#bcbd22\",\"#17becf\"]},\"id\":\"3452\",\"type\":\"CategoricalColorMapper\"},{\"attributes\":{\"plot\":{\"id\":\"3415\",\"subtype\":\"Figure\",\"type\":\"Plot\"},\"ticker\":{\"id\":\"3426\",\"type\":\"BasicTicker\"}},\"id\":\"3429\",\"type\":\"Grid\"},{\"attributes\":{\"formatter\":{\"id\":\"3461\",\"type\":\"LogTickFormatter\"},\"plot\":{\"id\":\"3415\",\"subtype\":\"Figure\",\"type\":\"Plot\"},\"ticker\":{\"id\":\"3431\",\"type\":\"LogTicker\"}},\"id\":\"3430\",\"type\":\"LogAxis\"},{\"attributes\":{\"source\":{\"id\":\"3453\",\"type\":\"ColumnDataSource\"}},\"id\":\"3458\",\"type\":\"CDSView\"},{\"attributes\":{\"num_minor_ticks\":10},\"id\":\"3431\",\"type\":\"LogTicker\"},{\"attributes\":{\"data_source\":{\"id\":\"3453\",\"type\":\"ColumnDataSource\"},\"glyph\":{\"id\":\"3455\",\"type\":\"Scatter\"},\"hover_glyph\":null,\"muted_glyph\":null,\"nonselection_glyph\":{\"id\":\"3456\",\"type\":\"Scatter\"},\"selection_glyph\":null,\"view\":{\"id\":\"3458\",\"type\":\"CDSView\"}},\"id\":\"3457\",\"type\":\"GlyphRenderer\"},{\"attributes\":{\"plot\":null,\"text\":\"names over time\"},\"id\":\"3414\",\"type\":\"Title\"},{\"attributes\":{\"dimension\":1,\"plot\":{\"id\":\"3415\",\"subtype\":\"Figure\",\"type\":\"Plot\"},\"ticker\":{\"id\":\"3431\",\"type\":\"LogTicker\"}},\"id\":\"3434\",\"type\":\"Grid\"},{\"attributes\":{\"fill_alpha\":{\"value\":0.1},\"fill_color\":{\"value\":\"#1f77b4\"},\"line_alpha\":{\"value\":0.1},\"line_color\":{\"value\":\"#1f77b4\"},\"x\":{\"field\":\"Year\"},\"y\":{\"field\":\"Pct F\"}},\"id\":\"3456\",\"type\":\"Scatter\"},{\"attributes\":{\"fill_alpha\":{\"value\":0.8},\"fill_color\":{\"field\":\"Name\",\"transform\":{\"id\":\"3452\",\"type\":\"CategoricalColorMapper\"}},\"line_color\":{\"field\":\"Name\",\"transform\":{\"id\":\"3452\",\"type\":\"CategoricalColorMapper\"}},\"x\":{\"field\":\"Year\"},\"y\":{\"field\":\"Pct F\"}},\"id\":\"3455\",\"type\":\"Scatter\"},{\"attributes\":{\"callback\":null,\"data\":{\"Count\":[614,21,6,661,13,5,765,22,7,879,21,6,929,27,10,971,38,9,1155,43,10,1131,50,6,5,1329,67,14,6,1377,87,13,9,1447,105,8,1419,113,9,1611,149,12,1668,170,8,5,1681,168,10,11,1772,192,26,6,1779,259,11,10,1716,250,11,11,1830,306,1591,230,10,9,2097,321,7,1628,272,15,7,1735,325,14,10,1789,352,7,1868,362,10,9,1820,386,6,10,1764,412,7,8,1892,440,9,5,1941,526,10,15,1914,527,9,9,2133,622,8,9,2118,663,10,14,2648,985,20,20,2903,1179,15,21,3418,1475,19,35,4094,1946,17,26,4355,2162,21,30,4303,2358,17,29,4575,2630,14,28,4497,2586,16,31,4509,3158,25,35,4346,3424,28,16,4212,3465,21,34,3997,3764,16,25,4081,3670,30,10,3875,3514,19,10,3504,3281,21,15,3426,3274,40,18,3228,3168,37,7,3037,2960,22,9,3031,3090,23,9,2614,2813,21,16,2534,2955,20,18,2307,3137,10,22,2405,3302,17,20,2184,3368,22,18,2012,3364,23,26,2075,3758,23,41,1919,4248,18,31,1873,4674,30,32,1900,5723,39,51,1873,7190,45,47,1892,10730,34,45,1817,12186,39,56,1669,13032,32,49,1603,13836,32,74,1661,18793,53,89,1793,22145,51,64,1782,23296,56,81,1668,26409,50,90,1630,25744,85,105,1579,26747,85,106,1712,25809,101,100,1600,23763,98,186,1714,22501,98,186,1790,22037,135,327,1925,21410,93,1051,1812,19775,124,1172,1761,19249,100,1269,1636,17675,107,1207,1693,16116,106,1170,1528,15419,114,1115,1508,14220,129,1257,1462,13571,117,1500,1434,13260,119,1553,1343,11814,119,1622,1298,10530,101,1794,1211,9240,95,2021,1050,8762,103,3279,1089,8324,95,3743,1025,7432,101,4177,970,6170,111,3579,893,5119,87,4183,874,4267,86,6191,851,3975,103,7212,769,3560,94,8679,777,3423,97,10447,827,3665,101,11051,854,3762,114,11522,801,3652,115,13695,845,3868,132,14098,863,3791,133,14611,852,3967,123,15052,826,3944,78,12813,755,4012,92,11600,764,4108,81,10269,736,4146,78,9038,699,4183,75,8465,761,3939,104,8376,794,3625,126,8226,787,3687,138,7380,825,3375,126,7229,769,3135,97,6884,735,2742,113,7076,769,2429,61,6775,752,2282,67,6399,795,2107,97,6063,766,1742,88,5586,845,1737,75,5344,975,1630,90,5282,1093,1583,111,5065,1158,1337,124,4241,1333,1208,124,4012,1516,1096,149,3455,1736,1001,150,2975,2473,933,130,2716,2788,877,133,2547,2898,779,132,2130,2967,703,148,1759,3393,542,161,1497,3277,494,144,1405,3466,451,146,1293,3362,427,12,187,1212,3436,432,17,213,1070,3684,420,38,362,1029,3768,339,30,688,966,3800,338,32,1119,823,3620,310,8,1180],\"Count F\":[614,21,6,661,13,5,765,22,7,879,21,6,929,27,10,971,38,9,1155,43,10,1125,50,6,5,1329,67,14,6,1372,87,13,9,1436,105,8,1412,113,9,1611,149,12,1668,170,8,5,1673,168,10,11,1767,192,26,6,1779,259,11,10,1709,250,11,11,1823,306,1582,230,10,9,2089,321,7,1617,272,15,7,1727,325,14,10,1783,352,7,1858,362,10,9,1815,386,6,10,1758,412,7,8,1884,440,9,5,1930,526,10,15,1896,527,9,9,2123,622,8,9,2109,663,10,14,2636,985,20,20,2891,1179,15,21,3401,1475,19,29,4079,1940,17,26,4337,2154,21,30,4286,2358,17,23,4563,2630,14,28,4484,2586,16,25,4499,3158,25,29,4326,3419,28,16,4192,3465,21,34,3974,3754,16,19,4067,3663,25,10,3857,3503,19,10,3493,3276,21,15,3406,3265,40,18,3212,3153,37,7,3020,2940,22,9,3019,3074,23,9,2592,2800,21,16,2521,2942,20,18,2282,3122,10,22,2387,3279,17,20,2168,3354,22,18,2002,3352,23,26,2061,3743,23,35,1904,4229,18,25,1858,4656,30,27,1889,5697,39,40,1861,7160,45,42,1876,10694,34,45,1803,12153,39,50,1660,13005,32,49,1595,13801,32,67,1652,18760,53,82,1785,22097,51,59,1774,23258,56,76,1668,26353,50,76,1623,25704,85,97,1573,26714,85,89,1703,25771,101,86,1592,23728,98,176,1714,22460,98,175,1785,22004,135,306,1925,21370,93,1013,1801,19739,124,1136,1761,19199,100,1228,1630,17627,107,1154,1687,16084,106,1132,1528,15392,114,1063,1500,14190,129,1199,1456,13543,117,1426,1427,13232,119,1463,1337,11781,119,1524,1292,10496,101,1685,1211,9209,95,1863,1050,8729,103,3060,1089,8300,95,3480,1025,7409,101,3858,970,6153,111,3291,887,5097,87,3878,867,4248,86,5870,839,3952,103,6892,764,3542,94,8384,772,3408,97,10198,817,3648,101,10792,854,3745,114,11257,801,3644,115,13430,839,3858,132,13856,855,3777,133,14365,845,3948,123,14838,821,3924,78,12621,743,3987,92,11385,754,4086,81,10068,730,4130,78,8846,694,4163,75,8262,754,3928,104,8143,780,3598,126,7988,778,3673,138,7206,820,3370,126,7057,762,3135,97,6716,735,2742,113,6907,769,2429,61,6564,752,2282,67,6256,795,2107,97,5938,766,1742,88,5472,845,1737,75,5223,975,1630,90,5184,1088,1583,111,4957,1158,1337,124,4144,1333,1208,124,3924,1516,1096,149,3366,1727,1001,150,2906,2473,933,130,2643,2788,877,133,2476,2893,779,132,2064,2967,703,148,1692,3393,542,161,1440,3277,494,144,1351,3466,451,146,1231,3362,427,12,187,1166,3430,432,17,213,1019,3678,420,38,362,970,3761,339,30,688,925,3795,338,32,1119,771,3614,310,8,1180],\"Count M\":[0,0,0,0,0,0,0,0,0,0,0,0,0,0,0,0,0,0,0,0,0,6,0,0,0,0,0,0,0,5,0,0,0,11,0,0,7,0,0,0,0,0,0,0,0,0,8,0,0,0,5,0,0,0,0,0,0,0,7,0,0,0,7,0,9,0,0,0,8,0,0,11,0,0,0,8,0,0,0,6,0,0,10,0,0,0,5,0,0,0,6,0,0,0,8,0,0,0,11,0,0,0,18,0,0,0,10,0,0,0,9,0,0,0,12,0,0,0,12,0,0,0,17,0,0,6,15,6,0,0,18,8,0,0,17,0,0,6,12,0,0,0,13,0,0,6,10,0,0,6,20,5,0,0,20,0,0,0,23,10,0,6,14,7,5,0,18,11,0,0,11,5,0,0,20,9,0,0,16,15,0,0,17,20,0,0,12,16,0,0,22,13,0,0,13,13,0,0,25,15,0,0,18,23,0,0,16,14,0,0,10,12,0,0,14,15,0,6,15,19,0,6,15,18,0,5,11,26,0,11,12,30,0,5,16,36,0,0,14,33,0,6,9,27,0,0,8,35,0,7,9,33,0,7,8,48,0,5,8,38,0,5,0,56,0,14,7,40,0,8,6,33,0,17,9,38,0,14,8,35,0,10,0,41,0,11,5,33,0,21,0,40,0,38,11,36,0,36,0,50,0,41,6,48,0,53,6,32,0,38,0,27,0,52,8,30,0,58,6,28,0,74,7,28,0,90,6,33,0,98,6,34,0,109,0,31,0,158,0,33,0,219,0,24,0,263,0,23,0,319,0,17,0,288,6,22,0,305,7,19,0,321,12,23,0,320,5,18,0,295,5,15,0,249,10,17,0,259,0,17,0,265,0,8,0,265,6,10,0,242,8,14,0,246,7,19,0,214,5,20,0,192,12,25,0,215,10,22,0,201,6,16,0,192,5,20,0,203,7,11,0,233,14,27,0,238,9,14,0,174,5,5,0,172,7,0,0,168,0,0,0,169,0,0,0,211,0,0,0,143,0,0,0,125,0,0,0,114,0,0,0,121,0,0,0,98,5,0,0,108,0,0,0,97,0,0,0,88,0,0,0,89,9,0,0,69,0,0,0,73,0,0,0,71,5,0,0,66,0,0,0,67,0,0,0,57,0,0,0,54,0,0,0,62,0,0,0,0,46,6,0,0,0,51,6,0,0,0,59,7,0,0,0,41,5,0,0,0,52,6,0,0,0],\"F_Ratio\":{\"__ndarray__\":\"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\",\"dtype\":\"float64\",\"shape\":[543]},\"Name\":[\"eva\",\"kathleen\",\"thea\",\"eva\",\"kathleen\",\"thea\",\"eva\",\"kathleen\",\"thea\",\"eva\",\"kathleen\",\"thea\",\"eva\",\"kathleen\",\"thea\",\"eva\",\"kathleen\",\"thea\",\"eva\",\"kathleen\",\"thea\",\"eva\",\"kathleen\",\"thea\",\"erin\",\"eva\",\"kathleen\",\"thea\",\"erin\",\"eva\",\"kathleen\",\"thea\",\"erin\",\"eva\",\"kathleen\",\"thea\",\"eva\",\"kathleen\",\"thea\",\"eva\",\"kathleen\",\"thea\",\"eva\",\"kathleen\",\"thea\",\"erin\",\"eva\",\"kathleen\",\"thea\",\"erin\",\"eva\",\"kathleen\",\"thea\",\"erin\",\"eva\",\"kathleen\",\"thea\",\"erin\",\"eva\",\"kathleen\",\"thea\",\"erin\",\"eva\",\"kathleen\",\"eva\",\"kathleen\",\"thea\",\"erin\",\"eva\",\"kathleen\",\"thea\",\"eva\",\"kathleen\",\"thea\",\"erin\",\"eva\",\"kathleen\",\"thea\",\"erin\",\"eva\",\"kathleen\",\"erin\",\"eva\",\"kathleen\",\"thea\",\"erin\",\"eva\",\"kathleen\",\"thea\",\"erin\",\"eva\",\"kathleen\",\"thea\",\"erin\",\"eva\",\"kathleen\",\"thea\",\"erin\",\"eva\",\"kathleen\",\"thea\",\"erin\",\"eva\",\"kathleen\",\"thea\",\"erin\",\"eva\",\"kathleen\",\"thea\",\"erin\",\"eva\",\"kathleen\",\"thea\",\"erin\",\"eva\",\"kathleen\",\"thea\",\"erin\",\"eva\",\"kathleen\",\"thea\",\"erin\",\"eva\",\"kathleen\",\"thea\",\"erin\",\"eva\",\"kathleen\",\"thea\",\"erin\",\"eva\",\"kathleen\",\"thea\",\"erin\",\"eva\",\"kathleen\",\"thea\",\"erin\",\"eva\",\"kathleen\",\"thea\",\"erin\",\"eva\",\"kathleen\",\"thea\",\"erin\",\"eva\",\"kathleen\",\"thea\",\"erin\",\"eva\",\"kathleen\",\"thea\",\"erin\",\"eva\",\"kathleen\",\"thea\",\"erin\",\"eva\",\"kathleen\",\"thea\",\"erin\",\"eva\",\"kathleen\",\"thea\",\"erin\",\"eva\",\"kathleen\",\"thea\",\"erin\",\"eva\",\"kathleen\",\"thea\",\"erin\",\"eva\",\"kathleen\",\"thea\",\"erin\",\"eva\",\"kathleen\",\"thea\",\"erin\",\"eva\",\"kathleen\",\"thea\",\"erin\",\"eva\",\"kathleen\",\"thea\",\"erin\",\"eva\",\"kathleen\",\"thea\",\"erin\",\"eva\",\"kathleen\",\"thea\",\"erin\",\"eva\",\"kathleen\",\"thea\",\"erin\",\"eva\",\"kathleen\",\"thea\",\"erin\",\"eva\",\"kathleen\",\"thea\",\"erin\",\"eva\",\"kathleen\",\"thea\",\"erin\",\"eva\",\"kathleen\",\"thea\",\"erin\",\"eva\",\"kathleen\",\"thea\",\"erin\",\"eva\",\"kathleen\",\"thea\",\"erin\",\"eva\",\"kathleen\",\"thea\",\"erin\",\"eva\",\"kathleen\",\"thea\",\"erin\",\"eva\",\"kathleen\",\"thea\",\"erin\",\"eva\",\"kathleen\",\"thea\",\"erin\",\"eva\",\"kathleen\",\"thea\",\"erin\",\"eva\",\"kathleen\",\"thea\",\"erin\",\"eva\",\"kathleen\",\"thea\",\"erin\",\"eva\",\"kathleen\",\"thea\",\"erin\",\"eva\",\"kathleen\",\"thea\",\"erin\",\"eva\",\"kathleen\",\"thea\",\"erin\",\"eva\",\"kathleen\",\"thea\",\"erin\",\"eva\",\"kathleen\",\"thea\",\"erin\",\"eva\",\"kathleen\",\"thea\",\"erin\",\"eva\",\"kathleen\",\"thea\",\"erin\",\"eva\",\"kathleen\",\"thea\",\"erin\",\"eva\",\"kathleen\",\"thea\",\"erin\",\"eva\",\"kathleen\",\"thea\",\"erin\",\"eva\",\"kathleen\",\"thea\",\"erin\",\"eva\",\"kathleen\",\"thea\",\"erin\",\"eva\",\"kathleen\",\"thea\",\"erin\",\"eva\",\"kathleen\",\"thea\",\"erin\",\"eva\",\"kathleen\",\"thea\",\"erin\",\"eva\",\"kathleen\",\"thea\",\"erin\",\"eva\",\"kathleen\",\"thea\",\"erin\",\"eva\",\"kathleen\",\"thea\",\"erin\",\"eva\",\"kathleen\",\"thea\",\"erin\",\"eva\",\"kathleen\",\"thea\",\"erin\",\"eva\",\"kathleen\",\"thea\",\"erin\",\"eva\",\"kathleen\",\"thea\",\"erin\",\"eva\",\"kathleen\",\"thea\",\"erin\",\"eva\",\"kathleen\",\"thea\",\"erin\",\"eva\",\"kathleen\",\"thea\",\"erin\",\"eva\",\"kathleen\",\"thea\",\"erin\",\"eva\",\"kathleen\",\"thea\",\"erin\",\"eva\",\"kathleen\",\"thea\",\"erin\",\"eva\",\"kathleen\",\"thea\",\"erin\",\"eva\",\"kathleen\",\"thea\",\"erin\",\"eva\",\"kathleen\",\"thea\",\"erin\",\"eva\",\"kathleen\",\"thea\",\"erin\",\"eva\",\"kathleen\",\"thea\",\"erin\",\"eva\",\"kathleen\",\"thea\",\"erin\",\"eva\",\"kathleen\",\"thea\",\"erin\",\"eva\",\"kathleen\",\"thea\",\"erin\",\"eva\",\"kathleen\",\"thea\",\"erin\",\"eva\",\"kathleen\",\"thea\",\"erin\",\"eva\",\"kathleen\",\"thea\",\"erin\",\"eva\",\"kathleen\",\"thea\",\"erin\",\"eva\",\"kathleen\",\"thea\",\"erin\",\"eva\",\"kathleen\",\"thea\",\"erin\",\"eva\",\"kathleen\",\"thea\",\"erin\",\"eva\",\"kathleen\",\"thea\",\"erin\",\"eva\",\"kathleen\",\"thea\",\"erin\",\"eva\",\"kathleen\",\"thea\",\"erin\",\"eva\",\"kathleen\",\"thea\",\"erin\",\"eva\",\"kathleen\",\"thea\",\"erin\",\"eva\",\"kathleen\",\"thea\",\"erin\",\"eva\",\"kathleen\",\"thea\",\"erin\",\"eva\",\"kathleen\",\"thea\",\"erin\",\"eva\",\"kathleen\",\"thea\",\"erin\",\"eva\",\"kathleen\",\"thea\",\"erin\",\"eva\",\"kathleen\",\"thea\",\"erin\",\"eva\",\"kathleen\",\"thea\",\"erin\",\"eva\",\"kathleen\",\"thea\",\"erin\",\"eva\",\"kathleen\",\"thea\",\"erin\",\"eva\",\"kathleen\",\"thea\",\"erin\",\"eva\",\"kathleen\",\"thea\",\"erin\",\"eva\",\"kathleen\",\"thea\",\"erin\",\"eva\",\"kathleen\",\"thea\",\"erin\",\"eva\",\"kathleen\",\"thea\",\"erin\",\"eva\",\"kathleen\",\"thea\",\"erin\",\"eva\",\"kathleen\",\"thea\",\"erin\",\"eva\",\"kathleen\",\"thea\",\"erin\",\"eva\",\"kathleen\",\"katniss\",\"thea\",\"erin\",\"eva\",\"kathleen\",\"katniss\",\"thea\",\"erin\",\"eva\",\"kathleen\",\"katniss\",\"thea\",\"erin\",\"eva\",\"kathleen\",\"katniss\",\"thea\",\"erin\",\"eva\",\"kathleen\",\"katniss\",\"thea\",\"erin\",\"eva\",\"kathleen\",\"katniss\",\"thea\"],\"Pct F\":{\"__ndarray__\":\"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\",\"dtype\":\"float64\",\"shape\":[543]},\"Pct M\":{\"__ndarray__\":\"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\",\"dtype\":\"float64\",\"shape\":[543]},\"Year\":[1880,1880,1880,1881,1881,1881,1882,1882,1882,1883,1883,1883,1884,1884,1884,1885,1885,1885,1886,1886,1886,1887,1887,1887,1888,1888,1888,1888,1889,1889,1889,1889,1890,1890,1890,1890,1891,1891,1891,1892,1892,1892,1893,1893,1893,1894,1894,1894,1894,1895,1895,1895,1895,1896,1896,1896,1896,1897,1897,1897,1897,1898,1898,1898,1899,1899,1899,1900,1900,1900,1900,1901,1901,1901,1902,1902,1902,1902,1903,1903,1903,1904,1904,1904,1904,1905,1905,1905,1905,1906,1906,1906,1906,1907,1907,1907,1907,1908,1908,1908,1908,1909,1909,1909,1909,1910,1910,1910,1910,1911,1911,1911,1911,1912,1912,1912,1912,1913,1913,1913,1913,1914,1914,1914,1914,1915,1915,1915,1915,1916,1916,1916,1916,1917,1917,1917,1917,1918,1918,1918,1918,1919,1919,1919,1919,1920,1920,1920,1920,1921,1921,1921,1921,1922,1922,1922,1922,1923,1923,1923,1923,1924,1924,1924,1924,1925,1925,1925,1925,1926,1926,1926,1926,1927,1927,1927,1927,1928,1928,1928,1928,1929,1929,1929,1929,1930,1930,1930,1930,1931,1931,1931,1931,1932,1932,1932,1932,1933,1933,1933,1933,1934,1934,1934,1934,1935,1935,1935,1935,1936,1936,1936,1936,1937,1937,1937,1937,1938,1938,1938,1938,1939,1939,1939,1939,1940,1940,1940,1940,1941,1941,1941,1941,1942,1942,1942,1942,1943,1943,1943,1943,1944,1944,1944,1944,1945,1945,1945,1945,1946,1946,1946,1946,1947,1947,1947,1947,1948,1948,1948,1948,1949,1949,1949,1949,1950,1950,1950,1950,1951,1951,1951,1951,1952,1952,1952,1952,1953,1953,1953,1953,1954,1954,1954,1954,1955,1955,1955,1955,1956,1956,1956,1956,1957,1957,1957,1957,1958,1958,1958,1958,1959,1959,1959,1959,1960,1960,1960,1960,1961,1961,1961,1961,1962,1962,1962,1962,1963,1963,1963,1963,1964,1964,1964,1964,1965,1965,1965,1965,1966,1966,1966,1966,1967,1967,1967,1967,1968,1968,1968,1968,1969,1969,1969,1969,1970,1970,1970,1970,1971,1971,1971,1971,1972,1972,1972,1972,1973,1973,1973,1973,1974,1974,1974,1974,1975,1975,1975,1975,1976,1976,1976,1976,1977,1977,1977,1977,1978,1978,1978,1978,1979,1979,1979,1979,1980,1980,1980,1980,1981,1981,1981,1981,1982,1982,1982,1982,1983,1983,1983,1983,1984,1984,1984,1984,1985,1985,1985,1985,1986,1986,1986,1986,1987,1987,1987,1987,1988,1988,1988,1988,1989,1989,1989,1989,1990,1990,1990,1990,1991,1991,1991,1991,1992,1992,1992,1992,1993,1993,1993,1993,1994,1994,1994,1994,1995,1995,1995,1995,1996,1996,1996,1996,1997,1997,1997,1997,1998,1998,1998,1998,1999,1999,1999,1999,2000,2000,2000,2000,2001,2001,2001,2001,2002,2002,2002,2002,2003,2003,2003,2003,2004,2004,2004,2004,2005,2005,2005,2005,2006,2006,2006,2006,2007,2007,2007,2007,2008,2008,2008,2008,2009,2009,2009,2009,2010,2010,2010,2010,2011,2011,2011,2011,2012,2012,2012,2012,2012,2013,2013,2013,2013,2013,2014,2014,2014,2014,2014,2015,2015,2015,2015,2015,2016,2016,2016,2016,2016,2017,2017,2017,2017,2017],\"index\":[639,1001,1719,2512,2871,3555,4393,4786,5541,6406,6775,7526,8427,8827,9642,10567,10982,11805,12728,13137,14004,14974,15390,16229,17218,17258,17726,18658,19644,19686,20136,21053,22057,22099,22572,23516,24568,25027,25976,27098,27611,28639,29752,30249,31260,32380,32427,32939,33958,35118,35169,35707,36750,37909,37964,38497,39583,40706,40754,41269,42342,43554,43603,44166,46518,47064,48116,49474,49540,50160,51438,52749,53276,54396,55642,55702,56275,57429,58707,58769,59335,61870,61929,62538,63780,65160,65222,65836,67090,68488,68546,69152,70400,71842,71906,72572,73946,75463,75541,76222,77597,79188,79263,79977,81436,83116,83192,83987,85565,87359,87449,88269,89923,92190,92307,93332,95507,98048,98183,99340,101702,104625,104769,106059,108754,112169,112339,113849,117041,120652,120821,122393,125694,129417,129607,131190,134567,138398,138589,140263,143819,147722,147911,149585,153141,157127,157316,159028,162735,166785,166989,168765,172446,176456,176661,178439,182115,186100,186295,188007,191671,195753,195939,197713,201402,205365,205560,207329,210953,214823,215007,216749,220283,224120,224309,226059,229586,233378,233565,235248,238674,242304,242472,244122,247410,250991,251152,252826,256147,259642,259812,261400,264499,267943,268104,269702,272845,276185,276330,277870,280901,284247,284393,285976,289063,292397,292534,294093,297169,300421,300550,302106,305116,308315,308442,309997,313070,316261,316385,317957,321137,324280,324409,325979,329080,332229,332353,333936,337070,340248,340379,341945,345145,348425,348540,350165,353527,356798,356915,358566,361913,365170,365283,366850,370091,373262,373372,374934,378173,381561,381670,383369,386828,390454,390565,392334,396103,399682,399799,401539,405273,408912,409023,410770,414498,418153,418255,420010,423749,427464,427573,429384,433174,436954,437061,438871,442756,446614,446719,448544,452491,456347,456455,458296,462320,466282,466380,468206,472301,476310,476405,478268,482531,486588,486690,488598,492877,496983,497071,498921,503258,507428,507515,509415,513833,518104,518194,520067,524563,528885,528982,530956,535562,539939,540026,541914,546533,550900,550980,552897,557637,562062,562144,564062,568859,573140,573220,575055,579695,584007,584090,585956,590704,595095,595178,597056,601911,606471,606557,608483,613619,618423,618507,620535,626038,631148,631235,633481,639374,644685,644780,647014,653148,658488,658586,660856,667126,672586,672679,675005,681406,686960,687063,689444,696121,701877,701980,704458,711420,717322,717421,720002,727236,733296,733388,736162,743798,749909,750011,752791,760436,766755,766855,769753,777735,784103,784209,787249,795375,801887,801995,805059,813124,819682,819783,822882,831022,837577,837680,840751,848734,855282,855387,858490,866464,873267,873376,876555,884711,891677,891777,895081,903463,910682,910790,914232,922865,930432,930550,934238,943272,951309,951440,955279,964773,973275,973401,977404,987355,995993,996134,1000188,1010355,1019273,1019408,1023516,1033718,1042781,1042923,1047228,1057388,1066590,1066731,1071057,1081220,1090492,1090628,1094954,1105196,1114469,1114596,1119085,1129432,1139105,1139247,1143864,1154272,1164187,1164331,1169148,1179885,1190092,1190251,1195192,1206134,1216862,1217021,1222285,1233546,1244453,1244613,1250058,1261462,1272612,1272767,1278325,1289741,1301069,1301234,1306902,1318569,1330125,1330293,1336139,1347973,1359742,1359912,1365922,1378049,1390310,1390491,1396813,1409502,1422221,1422410,1428894,1441803,1454697,1454871,1461435,1474299,1487172,1487352,1493806,1506551,1519288,1519461,1525771,1538188,1550914,1551087,1557347,1569708,1582411,1582576,1588688,1588713,1600937,1613619,1613796,1619817,1619843,1631889,1644382,1644551,1650610,1650636,1662617,1675111,1675285,1681203,1681225,1693201,1705566,1705733,1711608,1711626,1723548,1735749,1735916,1741708,1741731,1753487],\"namelength\":[3,8,4,3,8,4,3,8,4,3,8,4,3,8,4,3,8,4,3,8,4,3,8,4,4,3,8,4,4,3,8,4,4,3,8,4,3,8,4,3,8,4,3,8,4,4,3,8,4,4,3,8,4,4,3,8,4,4,3,8,4,4,3,8,3,8,4,4,3,8,4,3,8,4,4,3,8,4,4,3,8,4,3,8,4,4,3,8,4,4,3,8,4,4,3,8,4,4,3,8,4,4,3,8,4,4,3,8,4,4,3,8,4,4,3,8,4,4,3,8,4,4,3,8,4,4,3,8,4,4,3,8,4,4,3,8,4,4,3,8,4,4,3,8,4,4,3,8,4,4,3,8,4,4,3,8,4,4,3,8,4,4,3,8,4,4,3,8,4,4,3,8,4,4,3,8,4,4,3,8,4,4,3,8,4,4,3,8,4,4,3,8,4,4,3,8,4,4,3,8,4,4,3,8,4,4,3,8,4,4,3,8,4,4,3,8,4,4,3,8,4,4,3,8,4,4,3,8,4,4,3,8,4,4,3,8,4,4,3,8,4,4,3,8,4,4,3,8,4,4,3,8,4,4,3,8,4,4,3,8,4,4,3,8,4,4,3,8,4,4,3,8,4,4,3,8,4,4,3,8,4,4,3,8,4,4,3,8,4,4,3,8,4,4,3,8,4,4,3,8,4,4,3,8,4,4,3,8,4,4,3,8,4,4,3,8,4,4,3,8,4,4,3,8,4,4,3,8,4,4,3,8,4,4,3,8,4,4,3,8,4,4,3,8,4,4,3,8,4,4,3,8,4,4,3,8,4,4,3,8,4,4,3,8,4,4,3,8,4,4,3,8,4,4,3,8,4,4,3,8,4,4,3,8,4,4,3,8,4,4,3,8,4,4,3,8,4,4,3,8,4,4,3,8,4,4,3,8,4,4,3,8,4,4,3,8,4,4,3,8,4,4,3,8,4,4,3,8,4,4,3,8,4,4,3,8,4,4,3,8,4,4,3,8,4,4,3,8,4,4,3,8,4,4,3,8,4,4,3,8,4,4,3,8,4,4,3,8,4,4,3,8,4,4,3,8,4,4,3,8,4,4,3,8,4,4,3,8,4,4,3,8,4,4,3,8,4,4,3,8,4,4,3,8,4,4,3,8,4,4,3,8,4,4,3,8,7,4,4,3,8,7,4,4,3,8,7,4,4,3,8,7,4,4,3,8,7,4,4,3,8,7,4]},\"selected\":{\"id\":\"3592\",\"type\":\"Selection\"},\"selection_policy\":{\"id\":\"3593\",\"type\":\"UnionRenderers\"}},\"id\":\"3453\",\"type\":\"ColumnDataSource\"},{\"attributes\":{\"items\":[{\"id\":\"3466\",\"type\":\"LegendItem\"}],\"location\":\"bottom_left\",\"plot\":{\"id\":\"3415\",\"subtype\":\"Figure\",\"type\":\"Plot\"}},\"id\":\"3465\",\"type\":\"Legend\"},{\"attributes\":{\"active_drag\":\"auto\",\"active_inspect\":\"auto\",\"active_multi\":null,\"active_scroll\":\"auto\",\"active_tap\":\"auto\",\"tools\":[{\"id\":\"3435\",\"type\":\"PanTool\"},{\"id\":\"3436\",\"type\":\"WheelZoomTool\"},{\"id\":\"3437\",\"type\":\"BoxZoomTool\"},{\"id\":\"3438\",\"type\":\"SaveTool\"},{\"id\":\"3439\",\"type\":\"ResetTool\"},{\"id\":\"3440\",\"type\":\"HelpTool\"},{\"id\":\"3441\",\"type\":\"HoverTool\"}]},\"id\":\"3442\",\"type\":\"Toolbar\"},{\"attributes\":{},\"id\":\"3435\",\"type\":\"PanTool\"},{\"attributes\":{\"label\":{\"field\":\"Name\"},\"renderers\":[{\"id\":\"3457\",\"type\":\"GlyphRenderer\"}]},\"id\":\"3466\",\"type\":\"LegendItem\"},{\"attributes\":{},\"id\":\"3436\",\"type\":\"WheelZoomTool\"},{\"attributes\":{\"overlay\":{\"id\":\"3444\",\"type\":\"BoxAnnotation\"}},\"id\":\"3437\",\"type\":\"BoxZoomTool\"},{\"attributes\":{},\"id\":\"3438\",\"type\":\"SaveTool\"},{\"attributes\":{},\"id\":\"3439\",\"type\":\"ResetTool\"},{\"attributes\":{\"callback\":null},\"id\":\"3417\",\"type\":\"DataRange1d\"},{\"attributes\":{},\"id\":\"3440\",\"type\":\"HelpTool\"}],\"root_ids\":[\"3415\"]},\"title\":\"Bokeh Application\",\"version\":\"1.0.2\"}};\n",
       "  var render_items = [{\"docid\":\"a11666a4-76b9-4571-adee-9e0291d0c40c\",\"roots\":{\"3415\":\"c902fb40-9a58-4b20-a887-8e243fb350aa\"}}];\n",
       "  root.Bokeh.embed.embed_items_notebook(docs_json, render_items);\n",
       "\n",
       "  }\n",
       "  if (root.Bokeh !== undefined) {\n",
       "    embed_document(root);\n",
       "  } else {\n",
       "    var attempts = 0;\n",
       "    var timer = setInterval(function(root) {\n",
       "      if (root.Bokeh !== undefined) {\n",
       "        embed_document(root);\n",
       "        clearInterval(timer);\n",
       "      }\n",
       "      attempts++;\n",
       "      if (attempts > 100) {\n",
       "        console.log(\"Bokeh: ERROR: Unable to run BokehJS code because BokehJS library is missing\");\n",
       "        clearInterval(timer);\n",
       "      }\n",
       "    }, 10, root)\n",
       "  }\n",
       "})(window);"
      ],
      "application/vnd.bokehjs_exec.v0+json": ""
     },
     "metadata": {
      "application/vnd.bokehjs_exec.v0+json": {
       "id": "3415"
      }
     },
     "output_type": "display_data"
    }
   ],
   "source": [
    "girlnames=['eva','kathleen','erin','thea','katniss']\n",
    "p = figure(title=\"names over time\", plot_height=480, plot_width=600,\n",
    "           background_fill_color='#efefef',tooltips = TOOLTIPS,y_axis_type='log')\n",
    "p.scatter('Year', 'Pct F',fill_alpha=0.8,source=names.loc[names.Name.isin(girlnames),:],\n",
    "             color=factor_cmap('Name', 'Category10_10', girlnames), legend='Name')\n",
    "p.legend.location = \"bottom_left\"\n",
    "show(p)"
   ]
  },
  {
   "cell_type": "markdown",
   "metadata": {},
   "source": [
    "# The Optimal Name\n",
    "To have something be an optimum, there must be some quantitative criteria.  For me, I wanted to find girl names that are <0.05% in popularity but have been increasing in popularity over the years 2013-2017.  Lets go slow here and inspect the data as we filter and sort.\n",
    "\n",
    "First make a subset of the names data frame to select names that are between 0.01% to 0.1% in girl's popularity, for the years 2013 and 2017:\n"
   ]
  },
  {
   "cell_type": "code",
   "execution_count": 21,
   "metadata": {
    "scrolled": false
   },
   "outputs": [],
   "source": [
    "namesnow = names.loc[(names['Pct F']<1e-1)& (names['Pct F']>1e-2)&((names.Year==2017) |(names.Year==2013)) ,:]"
   ]
  },
  {
   "cell_type": "code",
   "execution_count": 22,
   "metadata": {},
   "outputs": [
    {
     "data": {
      "text/html": [
       "<div>\n",
       "<style scoped>\n",
       "    .dataframe tbody tr th:only-of-type {\n",
       "        vertical-align: middle;\n",
       "    }\n",
       "\n",
       "    .dataframe tbody tr th {\n",
       "        vertical-align: top;\n",
       "    }\n",
       "\n",
       "    .dataframe thead th {\n",
       "        text-align: right;\n",
       "    }\n",
       "</style>\n",
       "<table border=\"1\" class=\"dataframe\">\n",
       "  <thead>\n",
       "    <tr style=\"text-align: right;\">\n",
       "      <th></th>\n",
       "      <th>Year</th>\n",
       "      <th>Name</th>\n",
       "      <th>Count F</th>\n",
       "      <th>Count M</th>\n",
       "      <th>Pct F</th>\n",
       "      <th>Pct M</th>\n",
       "      <th>namelength</th>\n",
       "      <th>Count</th>\n",
       "    </tr>\n",
       "    <tr>\n",
       "      <th>index</th>\n",
       "      <th></th>\n",
       "      <th></th>\n",
       "      <th></th>\n",
       "      <th></th>\n",
       "      <th></th>\n",
       "      <th></th>\n",
       "      <th></th>\n",
       "      <th></th>\n",
       "    </tr>\n",
       "  </thead>\n",
       "  <tbody>\n",
       "    <tr>\n",
       "      <th>1603932</th>\n",
       "      <td>2013</td>\n",
       "      <td>aanya</td>\n",
       "      <td>230</td>\n",
       "      <td>0</td>\n",
       "      <td>0.013140</td>\n",
       "      <td>0.0</td>\n",
       "      <td>5</td>\n",
       "      <td>230</td>\n",
       "    </tr>\n",
       "    <tr>\n",
       "      <th>1604041</th>\n",
       "      <td>2013</td>\n",
       "      <td>abbey</td>\n",
       "      <td>222</td>\n",
       "      <td>0</td>\n",
       "      <td>0.012683</td>\n",
       "      <td>0.0</td>\n",
       "      <td>5</td>\n",
       "      <td>222</td>\n",
       "    </tr>\n",
       "    <tr>\n",
       "      <th>1604044</th>\n",
       "      <td>2013</td>\n",
       "      <td>abbie</td>\n",
       "      <td>244</td>\n",
       "      <td>0</td>\n",
       "      <td>0.013940</td>\n",
       "      <td>0.0</td>\n",
       "      <td>5</td>\n",
       "      <td>244</td>\n",
       "    </tr>\n",
       "    <tr>\n",
       "      <th>1604048</th>\n",
       "      <td>2013</td>\n",
       "      <td>abbigail</td>\n",
       "      <td>363</td>\n",
       "      <td>0</td>\n",
       "      <td>0.020739</td>\n",
       "      <td>0.0</td>\n",
       "      <td>8</td>\n",
       "      <td>363</td>\n",
       "    </tr>\n",
       "    <tr>\n",
       "      <th>1604056</th>\n",
       "      <td>2013</td>\n",
       "      <td>abby</td>\n",
       "      <td>903</td>\n",
       "      <td>0</td>\n",
       "      <td>0.051591</td>\n",
       "      <td>0.0</td>\n",
       "      <td>4</td>\n",
       "      <td>903</td>\n",
       "    </tr>\n",
       "  </tbody>\n",
       "</table>\n",
       "</div>"
      ],
      "text/plain": [
       "         Year      Name  Count F  Count M     Pct F  Pct M  namelength  Count\n",
       "index                                                                        \n",
       "1603932  2013     aanya      230        0  0.013140    0.0           5    230\n",
       "1604041  2013     abbey      222        0  0.012683    0.0           5    222\n",
       "1604044  2013     abbie      244        0  0.013940    0.0           5    244\n",
       "1604048  2013  abbigail      363        0  0.020739    0.0           8    363\n",
       "1604056  2013      abby      903        0  0.051591    0.0           4    903"
      ]
     },
     "execution_count": 22,
     "metadata": {},
     "output_type": "execute_result"
    }
   ],
   "source": [
    "namesnow.head()"
   ]
  },
  {
   "cell_type": "markdown",
   "metadata": {},
   "source": [
    "Next, pivot the data to have a column for each year:"
   ]
  },
  {
   "cell_type": "code",
   "execution_count": 23,
   "metadata": {
    "scrolled": false
   },
   "outputs": [],
   "source": [
    "name_piv = pd.pivot_table(namesnow,values=('Pct F'),index=['Name'],columns=['Year'])"
   ]
  },
  {
   "cell_type": "code",
   "execution_count": 151,
   "metadata": {
    "scrolled": true
   },
   "outputs": [
    {
     "data": {
      "text/html": [
       "<div>\n",
       "<style scoped>\n",
       "    .dataframe tbody tr th:only-of-type {\n",
       "        vertical-align: middle;\n",
       "    }\n",
       "\n",
       "    .dataframe tbody tr th {\n",
       "        vertical-align: top;\n",
       "    }\n",
       "\n",
       "    .dataframe thead th {\n",
       "        text-align: right;\n",
       "    }\n",
       "</style>\n",
       "<table border=\"1\" class=\"dataframe\">\n",
       "  <thead>\n",
       "    <tr style=\"text-align: right;\">\n",
       "      <th>Year</th>\n",
       "      <th>2013</th>\n",
       "      <th>2017</th>\n",
       "      <th>Delta</th>\n",
       "    </tr>\n",
       "    <tr>\n",
       "      <th>Name</th>\n",
       "      <th></th>\n",
       "      <th></th>\n",
       "      <th></th>\n",
       "    </tr>\n",
       "  </thead>\n",
       "  <tbody>\n",
       "    <tr>\n",
       "      <th>suri</th>\n",
       "      <td>0.012569</td>\n",
       "      <td>NaN</td>\n",
       "      <td>NaN</td>\n",
       "    </tr>\n",
       "    <tr>\n",
       "      <th>meghan</th>\n",
       "      <td>0.013140</td>\n",
       "      <td>NaN</td>\n",
       "      <td>NaN</td>\n",
       "    </tr>\n",
       "    <tr>\n",
       "      <th>callie</th>\n",
       "      <td>0.081014</td>\n",
       "      <td>0.095747</td>\n",
       "      <td>0.153873</td>\n",
       "    </tr>\n",
       "    <tr>\n",
       "      <th>bayleigh</th>\n",
       "      <td>0.014454</td>\n",
       "      <td>0.011275</td>\n",
       "      <td>-0.282039</td>\n",
       "    </tr>\n",
       "    <tr>\n",
       "      <th>sutton</th>\n",
       "      <td>0.018054</td>\n",
       "      <td>0.029092</td>\n",
       "      <td>0.379423</td>\n",
       "    </tr>\n",
       "  </tbody>\n",
       "</table>\n",
       "</div>"
      ],
      "text/plain": [
       "Year          2013      2017     Delta\n",
       "Name                                  \n",
       "suri      0.012569       NaN       NaN\n",
       "meghan    0.013140       NaN       NaN\n",
       "callie    0.081014  0.095747  0.153873\n",
       "bayleigh  0.014454  0.011275 -0.282039\n",
       "sutton    0.018054  0.029092  0.379423"
      ]
     },
     "execution_count": 151,
     "metadata": {},
     "output_type": "execute_result"
    }
   ],
   "source": [
    "name_piv.sample(5)"
   ]
  },
  {
   "cell_type": "markdown",
   "metadata": {},
   "source": [
    "Now, add a column for the difference between the two years, and sort the table:"
   ]
  },
  {
   "cell_type": "code",
   "execution_count": 150,
   "metadata": {
    "scrolled": false
   },
   "outputs": [
    {
     "data": {
      "text/html": [
       "<div>\n",
       "<style scoped>\n",
       "    .dataframe tbody tr th:only-of-type {\n",
       "        vertical-align: middle;\n",
       "    }\n",
       "\n",
       "    .dataframe tbody tr th {\n",
       "        vertical-align: top;\n",
       "    }\n",
       "\n",
       "    .dataframe thead th {\n",
       "        text-align: right;\n",
       "    }\n",
       "</style>\n",
       "<table border=\"1\" class=\"dataframe\">\n",
       "  <thead>\n",
       "    <tr style=\"text-align: right;\">\n",
       "      <th>Year</th>\n",
       "      <th>2013</th>\n",
       "      <th>2017</th>\n",
       "      <th>Delta</th>\n",
       "    </tr>\n",
       "    <tr>\n",
       "      <th>Name</th>\n",
       "      <th></th>\n",
       "      <th></th>\n",
       "      <th></th>\n",
       "    </tr>\n",
       "  </thead>\n",
       "  <tbody>\n",
       "    <tr>\n",
       "      <th>thea</th>\n",
       "      <td>0.012169</td>\n",
       "      <td>0.068933</td>\n",
       "      <td>0.823463</td>\n",
       "    </tr>\n",
       "    <tr>\n",
       "      <th>ophelia</th>\n",
       "      <td>0.010569</td>\n",
       "      <td>0.044397</td>\n",
       "      <td>0.761935</td>\n",
       "    </tr>\n",
       "    <tr>\n",
       "      <th>remi</th>\n",
       "      <td>0.017997</td>\n",
       "      <td>0.073723</td>\n",
       "      <td>0.755888</td>\n",
       "    </tr>\n",
       "    <tr>\n",
       "      <th>freya</th>\n",
       "      <td>0.016054</td>\n",
       "      <td>0.062448</td>\n",
       "      <td>0.742921</td>\n",
       "    </tr>\n",
       "    <tr>\n",
       "      <th>margot</th>\n",
       "      <td>0.015311</td>\n",
       "      <td>0.049889</td>\n",
       "      <td>0.693087</td>\n",
       "    </tr>\n",
       "    <tr>\n",
       "      <th>magnolia</th>\n",
       "      <td>0.014683</td>\n",
       "      <td>0.047201</td>\n",
       "      <td>0.688929</td>\n",
       "    </tr>\n",
       "    <tr>\n",
       "      <th>remington</th>\n",
       "      <td>0.013769</td>\n",
       "      <td>0.044047</td>\n",
       "      <td>0.687404</td>\n",
       "    </tr>\n",
       "    <tr>\n",
       "      <th>amara</th>\n",
       "      <td>0.028338</td>\n",
       "      <td>0.086341</td>\n",
       "      <td>0.671795</td>\n",
       "    </tr>\n",
       "    <tr>\n",
       "      <th>maisie</th>\n",
       "      <td>0.012455</td>\n",
       "      <td>0.034700</td>\n",
       "      <td>0.641071</td>\n",
       "    </tr>\n",
       "    <tr>\n",
       "      <th>everleigh</th>\n",
       "      <td>0.016854</td>\n",
       "      <td>0.046909</td>\n",
       "      <td>0.640710</td>\n",
       "    </tr>\n",
       "  </tbody>\n",
       "</table>\n",
       "</div>"
      ],
      "text/plain": [
       "Year           2013      2017     Delta\n",
       "Name                                   \n",
       "thea       0.012169  0.068933  0.823463\n",
       "ophelia    0.010569  0.044397  0.761935\n",
       "remi       0.017997  0.073723  0.755888\n",
       "freya      0.016054  0.062448  0.742921\n",
       "margot     0.015311  0.049889  0.693087\n",
       "magnolia   0.014683  0.047201  0.688929\n",
       "remington  0.013769  0.044047  0.687404\n",
       "amara      0.028338  0.086341  0.671795\n",
       "maisie     0.012455  0.034700  0.641071\n",
       "everleigh  0.016854  0.046909  0.640710"
      ]
     },
     "execution_count": 150,
     "metadata": {},
     "output_type": "execute_result"
    }
   ],
   "source": [
    "name_piv['Delta']=(name_piv[2017]-name_piv[2013])/name_piv[2017]\n",
    "\n",
    "name_piv.sort_values('Delta',ascending=False).head(10)"
   ]
  },
  {
   "cell_type": "markdown",
   "metadata": {},
   "source": [
    "At the top of the list? Thea!"
   ]
  },
  {
   "cell_type": "markdown",
   "metadata": {},
   "source": [
    "# The properties of Names\n",
    "\n",
    "This exercise got me thinking, what are the properties of names in the US?  It is a big decision for any parent, are there trends in the data that can reveal a bit about our culture?  To start, lets plot the total number of unique names by year:"
   ]
  },
  {
   "cell_type": "code",
   "execution_count": 10,
   "metadata": {},
   "outputs": [
    {
     "data": {
      "image/png": "[encoded data removed]",
      "text/plain": [
       "<Figure size 432x288 with 1 Axes>"
      ]
     },
     "metadata": {
      "needs_background": "light"
     },
     "output_type": "display_data"
    }
   ],
   "source": [
    "annual_metrics.reset_index().plot('Year',['Unique, M','Unique, F'])\n",
    "plt.ylabel('Number');"
   ]
  },
  {
   "cell_type": "markdown",
   "metadata": {},
   "source": [
    "There has been a big increase in names for both girls and boys over the years, with girls having more name diversity, in the period 1940-2005 for girls, and the period 1965-2005 for boys the number of different names grew quickly. Recently the number of names used has stalled.\n",
    "\n",
    "That describes the kinds of names used, but how about the actual distribution?  Some first names will be more popular than others and because the data only tracks names used 5 times or more, more names will meet this threshold as the population grows."
   ]
  },
  {
   "cell_type": "code",
   "execution_count": 188,
   "metadata": {},
   "outputs": [
    {
     "data": {
      "application/vnd.jupyter.widget-view+json": {
       "model_id": "89667616a6974e388a0da17fcd7e6048",
       "version_major": 2,
       "version_minor": 0
      },
      "text/plain": [
       "interactive(children=(IntSlider(value=1975, description='year', max=2015, min=1940, step=5), IntSlider(value=4…"
      ]
     },
     "metadata": {},
     "output_type": "display_data"
    }
   ],
   "source": [
    "from ipywidgets import interact\n",
    "\n",
    "@interact(year = (1940,2015,5),xlim = (5,1000,25))\n",
    "def plot_func(year,xlim):\n",
    "    plt.plot(names.loc[(names.Year == year),('Pct M')].sort_values(ascending=False).cumsum().values,label = 'M')\n",
    "    plt.plot(names.loc[(names.Year == year),('Pct F')].sort_values(ascending=False).cumsum().values,label = 'F')\n",
    "    plt.legend()\n",
    "    plt.xlim([0,xlim])\n",
    "    plt.xlabel('Top N names')\n",
    "    plt.ylabel('Cumulative fraction')\n"
   ]
  },
  {
   "cell_type": "markdown",
   "metadata": {},
   "source": [
    "The interactive plots in Jupyter is nice to scan across different ranges and build intuition.  Plotting the cumulative fraction is a useful way to look at how the name popularity is distributed for each year.  The trends are surprising - in 1940 half of all boys had one of about 20 names, while half of all girls had one of 40 names.  In 2015, the diversity in number of names increased 5 fold to ~120 and ~220, respectively."
   ]
  },
  {
   "cell_type": "markdown",
   "metadata": {},
   "source": [
    "I had a hard time finding real research into baby naming trends, but based off of one article [here](https://qz.com/1440188/the-rise-of-the-4-letter-baby-name), lets recreate the plot the length of names (weighted by popularity) over time, then really dig deep to see what is going on..."
   ]
  },
  {
   "cell_type": "code",
   "execution_count": 12,
   "metadata": {},
   "outputs": [
    {
     "data": {
      "text/plain": [
       "<matplotlib.axes._subplots.AxesSubplot at 0x7f1e4203abe0>"
      ]
     },
     "execution_count": 12,
     "metadata": {},
     "output_type": "execute_result"
    },
    {
     "data": {
      "image/png": "[encoded data removed]",
      "text/plain": [
       "<Figure size 432x288 with 1 Axes>"
      ]
     },
     "metadata": {
      "needs_background": "light"
     },
     "output_type": "display_data"
    }
   ],
   "source": [
    "names.groupby(by=['Year']).apply(lambda x: pd.Series([np.sum(x['namelength']*x['Pct F']/100),\n",
    "                                            np.sum(x['namelength']*x['Pct M']/100)],index = ['F','M'])).reset_index().plot('Year',['F','M'])\n"
   ]
  },
  {
   "cell_type": "markdown",
   "metadata": {},
   "source": [
    "Lets go a step further and look at the distribution of name length popularity for a given year"
   ]
  },
  {
   "cell_type": "code",
   "execution_count": 282,
   "metadata": {
    "scrolled": true
   },
   "outputs": [
    {
     "data": {
      "text/plain": [
       "<matplotlib.legend.Legend at 0x7f1def327940>"
      ]
     },
     "execution_count": 282,
     "metadata": {},
     "output_type": "execute_result"
    },
    {
     "data": {
      "image/png": "[encoded data removed]",
      "text/plain": [
       "<Figure size 432x288 with 1 Axes>"
      ]
     },
     "metadata": {
      "needs_background": "light"
     },
     "output_type": "display_data"
    }
   ],
   "source": [
    "len_dist = names.groupby(by=['Year','namelength']).agg({'Pct F':sum,'Pct M':sum}).reset_index()\n",
    "#@interact(nl=(2,15))\n",
    "#def customplot(nl): \n",
    "\n",
    "len_dist.loc[len_dist.namelength<12,:].pivot_table(index='Year',columns='namelength',values='Pct F').plot()\n",
    "plt.legend(loc='center left')"
   ]
  },
  {
   "cell_type": "code",
   "execution_count": null,
   "metadata": {},
   "outputs": [],
   "source": []
  },
  {
   "cell_type": "code",
   "execution_count": null,
   "metadata": {},
   "outputs": [],
   "source": []
  },
  {
   "cell_type": "markdown",
   "metadata": {},
   "source": [
    "# Son-rise: how many \\*son names are there?\n",
    "A suffix that is increasingly common for names is -son (Anderson, Grayson, Bryson, etc). How have the number of names  grown over time?"
   ]
  },
  {
   "cell_type": "code",
   "execution_count": 15,
   "metadata": {},
   "outputs": [
    {
     "data": {
      "text/plain": [
       "[<matplotlib.lines.Line2D at 0x7f1e41ea8748>]"
      ]
     },
     "execution_count": 15,
     "metadata": {},
     "output_type": "execute_result"
    },
    {
     "data": {
      "image/png": "[encoded data removed]",
      "text/plain": [
       "<Figure size 432x288 with 1 Axes>"
      ]
     },
     "metadata": {
      "needs_background": "light"
     },
     "output_type": "display_data"
    }
   ],
   "source": [
    "number_son_names = names.loc[names.Name.str.contains('son$'),:].groupby('Year').agg({'Name':len})\n",
    "\n",
    "plt.plot(number_son_names.index,number_son_names.Name)"
   ]
  },
  {
   "cell_type": "markdown",
   "metadata": {},
   "source": [
    "Wow, there has been a huge rise in the kinds of names use starting in the late '60s... How about the number of new babies born with one of the names?"
   ]
  },
  {
   "cell_type": "code",
   "execution_count": 16,
   "metadata": {},
   "outputs": [
    {
     "data": {
      "text/plain": [
       "<matplotlib.legend.Legend at 0x7f1e42010160>"
      ]
     },
     "execution_count": 16,
     "metadata": {},
     "output_type": "execute_result"
    },
    {
     "data": {
      "image/png": "[encoded data removed]",
      "text/plain": [
       "<Figure size 432x288 with 1 Axes>"
      ]
     },
     "metadata": {
      "needs_background": "light"
     },
     "output_type": "display_data"
    }
   ],
   "source": [
    "sons = names.loc[names.Name.str.contains('son$'),:].groupby('Year').agg(np.sum)\n",
    "plt.plot(sons.index,sons['Count M'],label='Count M')\n",
    "plt.plot(sons.index,sons['Count F'],label='Count F')\n",
    "plt.legend()"
   ]
  },
  {
   "cell_type": "markdown",
   "metadata": {},
   "source": [
    "Whoa, what is going on with the sudden rise and fall for boys in 1970-1990? Lets take a closer look at \\*son names at the start of four decades:"
   ]
  },
  {
   "cell_type": "code",
   "execution_count": 189,
   "metadata": {},
   "outputs": [
    {
     "data": {
      "text/html": [
       "<div>\n",
       "<style scoped>\n",
       "    .dataframe tbody tr th:only-of-type {\n",
       "        vertical-align: middle;\n",
       "    }\n",
       "\n",
       "    .dataframe tbody tr th {\n",
       "        vertical-align: top;\n",
       "    }\n",
       "\n",
       "    .dataframe thead th {\n",
       "        text-align: right;\n",
       "    }\n",
       "</style>\n",
       "<table border=\"1\" class=\"dataframe\">\n",
       "  <thead>\n",
       "    <tr style=\"text-align: right;\">\n",
       "      <th></th>\n",
       "      <th>Year</th>\n",
       "      <th>Name</th>\n",
       "      <th>Count F</th>\n",
       "      <th>Count M</th>\n",
       "      <th>Pct F</th>\n",
       "      <th>Pct M</th>\n",
       "      <th>namelength</th>\n",
       "      <th>Count</th>\n",
       "      <th>F_Ratio</th>\n",
       "    </tr>\n",
       "    <tr>\n",
       "      <th>index</th>\n",
       "      <th></th>\n",
       "      <th></th>\n",
       "      <th></th>\n",
       "      <th></th>\n",
       "      <th></th>\n",
       "      <th></th>\n",
       "      <th></th>\n",
       "      <th></th>\n",
       "      <th></th>\n",
       "    </tr>\n",
       "  </thead>\n",
       "  <tbody>\n",
       "    <tr>\n",
       "      <th>785932</th>\n",
       "      <td>1980</td>\n",
       "      <td>jason</td>\n",
       "      <td>306</td>\n",
       "      <td>48173</td>\n",
       "      <td>0.018432</td>\n",
       "      <td>2.699690</td>\n",
       "      <td>5</td>\n",
       "      <td>48479</td>\n",
       "      <td>0.006312</td>\n",
       "    </tr>\n",
       "    <tr>\n",
       "      <th>632609</th>\n",
       "      <td>1970</td>\n",
       "      <td>jason</td>\n",
       "      <td>114</td>\n",
       "      <td>27288</td>\n",
       "      <td>0.006521</td>\n",
       "      <td>1.467693</td>\n",
       "      <td>5</td>\n",
       "      <td>27402</td>\n",
       "      <td>0.004160</td>\n",
       "    </tr>\n",
       "    <tr>\n",
       "      <th>975626</th>\n",
       "      <td>1990</td>\n",
       "      <td>jason</td>\n",
       "      <td>42</td>\n",
       "      <td>10684</td>\n",
       "      <td>0.002213</td>\n",
       "      <td>0.520423</td>\n",
       "      <td>5</td>\n",
       "      <td>10726</td>\n",
       "      <td>0.003916</td>\n",
       "    </tr>\n",
       "    <tr>\n",
       "      <th>1220076</th>\n",
       "      <td>2000</td>\n",
       "      <td>jason</td>\n",
       "      <td>24</td>\n",
       "      <td>9772</td>\n",
       "      <td>0.001322</td>\n",
       "      <td>0.497817</td>\n",
       "      <td>5</td>\n",
       "      <td>9796</td>\n",
       "      <td>0.002450</td>\n",
       "    </tr>\n",
       "    <tr>\n",
       "      <th>1226400</th>\n",
       "      <td>2000</td>\n",
       "      <td>mason</td>\n",
       "      <td>149</td>\n",
       "      <td>6516</td>\n",
       "      <td>0.008209</td>\n",
       "      <td>0.331946</td>\n",
       "      <td>5</td>\n",
       "      <td>6665</td>\n",
       "      <td>0.022356</td>\n",
       "    </tr>\n",
       "  </tbody>\n",
       "</table>\n",
       "</div>"
      ],
      "text/plain": [
       "         Year   Name  Count F  Count M     Pct F     Pct M  namelength  Count  \\\n",
       "index                                                                           \n",
       "785932   1980  jason      306    48173  0.018432  2.699690           5  48479   \n",
       "632609   1970  jason      114    27288  0.006521  1.467693           5  27402   \n",
       "975626   1990  jason       42    10684  0.002213  0.520423           5  10726   \n",
       "1220076  2000  jason       24     9772  0.001322  0.497817           5   9796   \n",
       "1226400  2000  mason      149     6516  0.008209  0.331946           5   6665   \n",
       "\n",
       "          F_Ratio  \n",
       "index              \n",
       "785932   0.006312  \n",
       "632609   0.004160  \n",
       "975626   0.003916  \n",
       "1220076  0.002450  \n",
       "1226400  0.022356  "
      ]
     },
     "execution_count": 189,
     "metadata": {},
     "output_type": "execute_result"
    }
   ],
   "source": [
    "names.loc[(names.Year.isin([1970,1980,1990,2000]))&names.Name.str.contains('son$'),:].sort_values('Count M',ascending = False).head(5)"
   ]
  },
  {
   "cell_type": "markdown",
   "metadata": {},
   "source": [
    "In the 1970-1990 range Jason dominates the \\*son names, but then drops to 20% of its peak by 2000, what's going on?"
   ]
  },
  {
   "cell_type": "markdown",
   "metadata": {},
   "source": [
    "## Jason / Alexander\n",
    "\n",
    "Ok, so the number of new Jasons stalled in the late 70s then dropped preciptiously around [1980](https://www.imdb.com/title/tt0080761/).  What names took Jason's place? One way to get a clue would be to see which names were correlated with Jason in the years 1980-2000.  Because most correlation calculations will do all pairs, the calculation can be too slow when too many names are used.  Lets filter to the years we are interested in and keep only the names with some minimum level of popularity.\n"
   ]
  },
  {
   "cell_type": "code",
   "execution_count": 170,
   "metadata": {},
   "outputs": [],
   "source": [
    "df_subset = names.loc[(names.Year >1980) &(names.Year < 2000)&(names['Count M']>4000),:].pivot_table(index='Year',columns='Name',values='Count M')"
   ]
  },
  {
   "cell_type": "code",
   "execution_count": 171,
   "metadata": {},
   "outputs": [
    {
     "data": {
      "text/plain": [
       "<matplotlib.axes._subplots.AxesSubplot at 0x7f1e088b68d0>"
      ]
     },
     "execution_count": 171,
     "metadata": {},
     "output_type": "execute_result"
    },
    {
     "data": {
      "image/png": "[encoded data removed]",
      "text/plain": [
       "<Figure size 720x288 with 1 Axes>"
      ]
     },
     "metadata": {
      "needs_background": "light"
     },
     "output_type": "display_data"
    }
   ],
   "source": [
    "plt.figure(figsize = (10,4))\n",
    "df_subset.dropna(how='any',axis=1).corr().loc['jason',:].sort_values(ascending=True).head(15).plot(kind='bar')\n"
   ]
  },
  {
   "cell_type": "markdown",
   "metadata": {},
   "source": [
    "From the plot of name correlations, the name that is most anti-correlated with Jason is Alexander, followed by Zachary and Nicholas.  Correlation isn't causation, and we havent looked at any absolute numbers, but it provides some clue to the names that were rising as Jason declined."
   ]
  },
  {
   "cell_type": "markdown",
   "metadata": {},
   "source": [
    "# How many names swtich popularity between genders?\n",
    "\n",
    "Plot the F/M ratio of names on the y-axis to track the gender popularity of names, color the lines by the overall popularity of the name."
   ]
  },
  {
   "cell_type": "code",
   "execution_count": 174,
   "metadata": {},
   "outputs": [],
   "source": [
    "names['F_Ratio'] = names['Count F']/(names['Count F']+names['Count M'])\n",
    "nameswitch = names.loc[names['Count']>1000].groupby('Name').apply(lambda x: np.max(x['F_Ratio'])-np.min(x['F_Ratio']))"
   ]
  },
  {
   "cell_type": "code",
   "execution_count": null,
   "metadata": {},
   "outputs": [],
   "source": []
  },
  {
   "cell_type": "code",
   "execution_count": 175,
   "metadata": {},
   "outputs": [
    {
     "data": {
      "image/png": "[encoded data removed]",
      "text/plain": [
       "<Figure size 576x864 with 7 Axes>"
      ]
     },
     "metadata": {
      "needs_background": "light"
     },
     "output_type": "display_data"
    }
   ],
   "source": [
    "plot_names = nameswitch.loc[nameswitch>0.6].sort_values(ascending=False)\n",
    "plt.figure(figsize=(8,12))\n",
    "for ix,pn in enumerate(plot_names.index):\n",
    "    plt.subplot(len(plot_names),1,ix+1)\n",
    "    \n",
    "    plt.scatter(names.loc[names.Name == pn,'Year'],names.loc[names.Name == pn,'F_Ratio'],\n",
    "             c=names.loc[names.Name == pn, 'Count F']+names.loc[names.Name == pn, 'Count M'])\n",
    "    plt.ylim([0,1])\n",
    "    plt.xlim([1940,2017])\n",
    "    plt.yticks([])\n",
    "    plt.ylabel(pn,rotation=0,labelpad = 40,size=20)\n"
   ]
  },
  {
   "cell_type": "markdown",
   "metadata": {},
   "source": [
    "Only two of the top names had their popularity coincidie with the switch from male to female.  Kim swiched from male to female in the mid-1950s coinciding with the poplulariy of actress Kim Novak.  Jaime jumped in 1976, matching the popularity of the TV series *The Bionic Woman*  Ashton is interesting as it went from unpopular boys name to unpopular girls name, and then back to popular boys name in the early 2000's along with the popularity of actor Ashton Kutcher."
   ]
  },
  {
   "cell_type": "code",
   "execution_count": null,
   "metadata": {},
   "outputs": [],
   "source": []
  },
  {
   "cell_type": "markdown",
   "metadata": {},
   "source": [
    "# Pop names\n",
    "So we've seen that the change in some names can be attribued to popular movies and tv shows, but is this a recent phenomena? There are tens of thousands of names, how do we check them all?"
   ]
  },
  {
   "cell_type": "code",
   "execution_count": 125,
   "metadata": {},
   "outputs": [
    {
     "data": {
      "text/plain": [
       "Name\n",
       "adaline     (9.362933331316015, 2015)\n",
       "adeline     (8.894992612693395, 2015)\n",
       "selena       (8.79889777296567, 1994)\n",
       "addison     (8.763800569759782, 2006)\n",
       "major        (8.71795967651401, 2012)\n",
       "ezekiel      (8.67440574734842, 2017)\n",
       "willard     (8.624058437250326, 1914)\n",
       "shelby      (8.552307880010899, 1990)\n",
       "rosalie     (8.506191774630912, 1937)\n",
       "franklin    (8.431066767886438, 1932)\n",
       "cassie       (8.42700744574893, 1981)\n",
       "watson       (8.40563677632362, 2017)\n",
       "amalia      (8.399581346589663, 2017)\n",
       "thalia      (8.355645131983168, 1992)\n",
       "wesley      (8.302459352537506, 1976)\n",
       "thea         (8.27494531412767, 2015)\n",
       "warren      (8.241849079025984, 1920)\n",
       "shirley     (8.240041913189884, 1934)\n",
       "thad        (8.186431407431424, 1966)\n",
       "matias       (8.15920563107478, 2017)\n",
       "cindy       (8.145201533513093, 1956)\n",
       "dawson      (8.130089708553895, 1998)\n",
       "royal       (8.096310887698564, 2014)\n",
       "mariah      (8.090804044902006, 1990)\n",
       "bart        (8.072802037356883, 1958)\n",
       "octavia     (8.069875531786135, 2017)\n",
       "mac         (8.060038245869702, 1941)\n",
       "calista     (8.046852766912808, 1998)\n",
       "wells        (8.04556501220296, 2017)\n",
       "king        (8.045321878904133, 2012)\n",
       "dtype: object"
      ]
     },
     "execution_count": 125,
     "metadata": {},
     "output_type": "execute_result"
    }
   ],
   "source": [
    "from scipy.stats import zscore\n",
    "def jumps_up(x):\n",
    "    if x.shape[0]>50:\n",
    "        zs = zscore(np.gradient(x.Count,x.Year))\n",
    "        ix = np.argmax(zs)\n",
    "        yx = x.Year.iloc[ix]\n",
    "        mx = zs[ix]\n",
    "        return((mx,yx))\n",
    "    else:\n",
    "        return(None)\n",
    "def jumps_dn(x):\n",
    "    if x.shape[0]>50:\n",
    "        zs = zscore(np.gradient(x.Count,x.Year))\n",
    "        ix = np.argmin(zs)\n",
    "        yx = x.Year.iloc[ix]\n",
    "        mx = zs[ix]\n",
    "        return((mx,yx))\n",
    "    else:\n",
    "        return(None)\n",
    "pops = names.groupby('Name').apply(jumps_up)\n",
    "pops.sort_values(ascending=False).head(30)"
   ]
  },
  {
   "cell_type": "code",
   "execution_count": null,
   "metadata": {},
   "outputs": [],
   "source": []
  },
  {
   "cell_type": "markdown",
   "metadata": {},
   "source": [
    "Some googling of these names with big increases found some possible causes for the sudden increase in popularity:\n",
    "- selena, 1994; rising popularity of the [singer](https://en.wikipedia.org/wiki/Selena_(singer))\n",
    "- franklin, 1932, during the [1932 US Presidential Election](https://en.wikipedia.org/wiki/1932_United_States_presidential_election)\n",
    "- shirley, 1934, [Peak of Shirley Temple's popularity](https://en.wikipedia.org/wiki/Shirley_Temple)\n",
    "- calista, 1998, [Calista Flockhart](https://en.wikipedia.org/wiki/Calista_Flockhart)\n",
    "- dawson, 1998, [*Dawson's Creek*](https://en.wikipedia.org/wiki/Dawson%27s_Creek)\n",
    "- cindy, 1956, a popular [song](https://en.wikipedia.org/wiki/Cindy,_Oh_Cindy)\n",
    "- warren, 1920, following the [1920 US Presidential Election](https://en.wikipedia.org/wiki/1920_United_States_presidential_election)\n",
    "- mariah, 1990, the start of the the pop and R&B [singer's](https://en.wikipedia.org/wiki/Mariah_Carey_(album)) career\n"
   ]
  },
  {
   "cell_type": "code",
   "execution_count": 145,
   "metadata": {},
   "outputs": [
    {
     "data": {
      "text/plain": [
       "Name\n",
       "hillary       (-8.116795836092637, 1993)\n",
       "elsa          (-7.837840751714749, 2015)\n",
       "forrest       (-7.457836407021079, 1995)\n",
       "wilson        (-7.179667474222291, 1919)\n",
       "jonas         (-7.177137574389834, 2009)\n",
       "annabel       (-7.152736963600795, 2015)\n",
       "hilary        (-7.090103539888327, 1993)\n",
       "annabell     (-7.0739654697348415, 2015)\n",
       "truman       (-7.0476121546549715, 1946)\n",
       "kizzie        (-6.977813517073436, 1977)\n",
       "katherin      (-6.939997064029684, 1990)\n",
       "hazen         (-6.847450107797392, 2017)\n",
       "ananias        (-6.74086907068067, 2017)\n",
       "zana          (-6.734457773397958, 1995)\n",
       "lady          (-6.688878731284941, 2017)\n",
       "marian        (-6.657742195232068, 1955)\n",
       "arsenio      (-6.6489208051702615, 1990)\n",
       "catherin     (-6.6002689719851695, 1990)\n",
       "audie         (-6.536784677239234, 1957)\n",
       "woodrow       (-6.437161246414926, 1919)\n",
       "alethea       (-6.426440773030713, 1974)\n",
       "garfield      (-6.379393700792129, 1882)\n",
       "avelina       (-6.283693913143238, 2017)\n",
       "pierce        (-6.233632169907765, 2017)\n",
       "trinidad      (-6.219337580044418, 1923)\n",
       "nyle           (-6.17058413837604, 2017)\n",
       "maximo        (-6.170362141305212, 2017)\n",
       "lyndon        (-6.148435805816596, 1965)\n",
       "danna         (-6.127698437098849, 2011)\n",
       "christine     (-6.116841497912043, 1953)\n",
       "dtype: object"
      ]
     },
     "execution_count": 145,
     "metadata": {},
     "output_type": "execute_result"
    }
   ],
   "source": [
    "drops = names.groupby('Name').apply(jumps_dn)\n",
    "drops.sort_values(ascending=True).head(30)"
   ]
  },
  {
   "cell_type": "code",
   "execution_count": null,
   "metadata": {},
   "outputs": [],
   "source": []
  },
  {
   "cell_type": "markdown",
   "metadata": {},
   "source": [
    "Some more googling of the names that had sudden declines found that many were correcting from a sharp rise in popularity while others had some negative associations:\n",
    "\n",
    "- hillary, 1993 : rise and drop surrounding the [1992 US Presidential Election](https://en.wikipedia.org/wiki/1992_United_States_presidential_election)\n",
    "- elsa, 2015 aftermath of popularity spike due to [*Frozen*](https://www.imdb.com/title/tt2294629/) (annabel dropped too...)\n",
    "- Both woodrow & wilson, 1919 [During the US President's term](https://en.wikipedia.org/wiki/Woodrow_Wilson)\n",
    "- truman, 1946 rose and fell as [Truman became president](https://en.wikipedia.org/wiki/Harry_S._Truman) \n",
    "- arsenio, 1990 correction to rise in popularity of [Arsenio Hall](https://www.imdb.com/name/nm0002119/)\n",
    "- garfield, 1882 dropped after the [US President was assassinated](https://en.wikipedia.org/wiki/James_A._Garfield)\n",
    "- lyndon, 1965 correction from [1964 US Presidential Election](https://en.wikipedia.org/wiki/Lyndon_B._Johnson)\n",
    "- audie, 1957 correction to rise in the popularity of [Audie Murphy](https://en.wikipedia.org/wiki/Audie_Murphy)\n",
    "- kizzie, 1977 drop following the spike in popularity of [*Roots*](https://en.wikipedia.org/wiki/Roots_(1977_miniseries))\n",
    "- marian, 1955 aftermath of the 1954 [Marian year](https://en.wikipedia.org/wiki/Marian_year)\n",
    "- forrest, 1995 [*Forrest Gump*](https://en.wikipedia.org/wiki/Forrest_Gump)\n",
    "\n",
    "This adds more support to the idea that parents who choose names are influenced by the culture at the time, this seems to be nothing new!"
   ]
  },
  {
   "cell_type": "markdown",
   "metadata": {},
   "source": [
    " "
   ]
  },
  {
   "cell_type": "code",
   "execution_count": null,
   "metadata": {},
   "outputs": [],
   "source": []
  },
  {
   "cell_type": "code",
   "execution_count": null,
   "metadata": {},
   "outputs": [],
   "source": []
  },
  {
   "cell_type": "code",
   "execution_count": 178,
   "metadata": {},
   "outputs": [
    {
     "data": {
      "text/html": [
       "<div>\n",
       "<style scoped>\n",
       "    .dataframe tbody tr th:only-of-type {\n",
       "        vertical-align: middle;\n",
       "    }\n",
       "\n",
       "    .dataframe tbody tr th {\n",
       "        vertical-align: top;\n",
       "    }\n",
       "\n",
       "    .dataframe thead th {\n",
       "        text-align: right;\n",
       "    }\n",
       "</style>\n",
       "<table border=\"1\" class=\"dataframe\">\n",
       "  <thead>\n",
       "    <tr style=\"text-align: right;\">\n",
       "      <th></th>\n",
       "      <th>Year</th>\n",
       "      <th>Count F</th>\n",
       "      <th>Count M</th>\n",
       "      <th>Pct F</th>\n",
       "      <th>Pct M</th>\n",
       "      <th>namelength</th>\n",
       "      <th>Count</th>\n",
       "      <th>F_Ratio</th>\n",
       "    </tr>\n",
       "    <tr>\n",
       "      <th>Name</th>\n",
       "      <th></th>\n",
       "      <th></th>\n",
       "      <th></th>\n",
       "      <th></th>\n",
       "      <th></th>\n",
       "      <th></th>\n",
       "      <th></th>\n",
       "      <th></th>\n",
       "    </tr>\n",
       "  </thead>\n",
       "  <tbody>\n",
       "    <tr>\n",
       "      <th>anna</th>\n",
       "      <td>1948.5</td>\n",
       "      <td>5426.5</td>\n",
       "      <td>17.5</td>\n",
       "      <td>0.470084</td>\n",
       "      <td>0.001288</td>\n",
       "      <td>4.0</td>\n",
       "      <td>5446.5</td>\n",
       "      <td>0.996637</td>\n",
       "    </tr>\n",
       "    <tr>\n",
       "      <th>ada</th>\n",
       "      <td>1948.5</td>\n",
       "      <td>630.0</td>\n",
       "      <td>0.0</td>\n",
       "      <td>0.040768</td>\n",
       "      <td>0.000000</td>\n",
       "      <td>3.0</td>\n",
       "      <td>630.0</td>\n",
       "      <td>1.000000</td>\n",
       "    </tr>\n",
       "    <tr>\n",
       "      <th>hannah</th>\n",
       "      <td>1948.5</td>\n",
       "      <td>297.5</td>\n",
       "      <td>0.0</td>\n",
       "      <td>0.069243</td>\n",
       "      <td>0.000000</td>\n",
       "      <td>6.0</td>\n",
       "      <td>297.5</td>\n",
       "      <td>1.000000</td>\n",
       "    </tr>\n",
       "    <tr>\n",
       "      <th>ana</th>\n",
       "      <td>1949.0</td>\n",
       "      <td>226.0</td>\n",
       "      <td>0.0</td>\n",
       "      <td>0.013311</td>\n",
       "      <td>0.000000</td>\n",
       "      <td>3.0</td>\n",
       "      <td>233.0</td>\n",
       "      <td>1.000000</td>\n",
       "    </tr>\n",
       "    <tr>\n",
       "      <th>aja</th>\n",
       "      <td>1995.5</td>\n",
       "      <td>193.0</td>\n",
       "      <td>0.0</td>\n",
       "      <td>0.010608</td>\n",
       "      <td>0.000000</td>\n",
       "      <td>3.0</td>\n",
       "      <td>194.0</td>\n",
       "      <td>1.000000</td>\n",
       "    </tr>\n",
       "    <tr>\n",
       "      <th>elle</th>\n",
       "      <td>1999.5</td>\n",
       "      <td>175.5</td>\n",
       "      <td>0.0</td>\n",
       "      <td>0.009780</td>\n",
       "      <td>0.000000</td>\n",
       "      <td>4.0</td>\n",
       "      <td>175.5</td>\n",
       "      <td>1.000000</td>\n",
       "    </tr>\n",
       "    <tr>\n",
       "      <th>otto</th>\n",
       "      <td>1948.5</td>\n",
       "      <td>0.0</td>\n",
       "      <td>174.0</td>\n",
       "      <td>0.000000</td>\n",
       "      <td>0.014439</td>\n",
       "      <td>4.0</td>\n",
       "      <td>174.0</td>\n",
       "      <td>0.000000</td>\n",
       "    </tr>\n",
       "    <tr>\n",
       "      <th>ava</th>\n",
       "      <td>1948.5</td>\n",
       "      <td>156.5</td>\n",
       "      <td>0.0</td>\n",
       "      <td>0.015553</td>\n",
       "      <td>0.000000</td>\n",
       "      <td>3.0</td>\n",
       "      <td>156.5</td>\n",
       "      <td>1.000000</td>\n",
       "    </tr>\n",
       "    <tr>\n",
       "      <th>eve</th>\n",
       "      <td>1948.5</td>\n",
       "      <td>128.5</td>\n",
       "      <td>0.0</td>\n",
       "      <td>0.011168</td>\n",
       "      <td>0.000000</td>\n",
       "      <td>3.0</td>\n",
       "      <td>128.5</td>\n",
       "      <td>1.000000</td>\n",
       "    </tr>\n",
       "    <tr>\n",
       "      <th>bob</th>\n",
       "      <td>1948.5</td>\n",
       "      <td>0.0</td>\n",
       "      <td>104.5</td>\n",
       "      <td>0.000000</td>\n",
       "      <td>0.043763</td>\n",
       "      <td>3.0</td>\n",
       "      <td>104.5</td>\n",
       "      <td>0.000000</td>\n",
       "    </tr>\n",
       "  </tbody>\n",
       "</table>\n",
       "</div>"
      ],
      "text/plain": [
       "          Year  Count F  Count M     Pct F     Pct M  namelength   Count  \\\n",
       "Name                                                                       \n",
       "anna    1948.5   5426.5     17.5  0.470084  0.001288         4.0  5446.5   \n",
       "ada     1948.5    630.0      0.0  0.040768  0.000000         3.0   630.0   \n",
       "hannah  1948.5    297.5      0.0  0.069243  0.000000         6.0   297.5   \n",
       "ana     1949.0    226.0      0.0  0.013311  0.000000         3.0   233.0   \n",
       "aja     1995.5    193.0      0.0  0.010608  0.000000         3.0   194.0   \n",
       "elle    1999.5    175.5      0.0  0.009780  0.000000         4.0   175.5   \n",
       "otto    1948.5      0.0    174.0  0.000000  0.014439         4.0   174.0   \n",
       "ava     1948.5    156.5      0.0  0.015553  0.000000         3.0   156.5   \n",
       "eve     1948.5    128.5      0.0  0.011168  0.000000         3.0   128.5   \n",
       "bob     1948.5      0.0    104.5  0.000000  0.043763         3.0   104.5   \n",
       "\n",
       "         F_Ratio  \n",
       "Name              \n",
       "anna    0.996637  \n",
       "ada     1.000000  \n",
       "hannah  1.000000  \n",
       "ana     1.000000  \n",
       "aja     1.000000  \n",
       "elle    1.000000  \n",
       "otto    0.000000  \n",
       "ava     1.000000  \n",
       "eve     1.000000  \n",
       "bob     0.000000  "
      ]
     },
     "execution_count": 178,
     "metadata": {},
     "output_type": "execute_result"
    }
   ],
   "source": [
    "#For fun, how many names are palindromes?\n",
    "\n",
    "p=names.Name.map(lambda x: str(x)==str(x)[::-1])\n",
    "names.loc[p,:].groupby(['Name']).agg('median').sort_values('Count',ascending=False).head(10)"
   ]
  },
  {
   "cell_type": "markdown",
   "metadata": {},
   "source": [
    "# Make new names with a Recurrent Neural Net\n",
    "\n",
    "So, we have seen that \n",
    "\n",
    "  1. Name diversity has increased over time, and\n",
    "  2. Name length is decreasing\n",
    "  \n",
    "That puts the pressure on creating shorter, novel names... How can that need be met?\n",
    "\n",
    "Let's get to work making some more names: build RNN model for girl's names using the Keras text generation [example](https://github.com/fchollet/keras/blob/master/examples/lstm_text_generation.py) as a starting point:"
   ]
  },
  {
   "cell_type": "code",
   "execution_count": 30,
   "metadata": {},
   "outputs": [
    {
     "name": "stderr",
     "output_type": "stream",
     "text": [
      "Using TensorFlow backend.\n"
     ]
    },
    {
     "name": "stdout",
     "output_type": "stream",
     "text": [
      "total chars: 27\n",
      "nb sequences: 2769024\n",
      "Vectorization...\n",
      "Build model...\n",
      "CPU times: user 10.9 s, sys: 585 ms, total: 11.5 s\n",
      "Wall time: 11.2 s\n"
     ]
    }
   ],
   "source": [
    "%%time\n",
    "from keras.callbacks import LambdaCallback\n",
    "from keras.models import Sequential\n",
    "from keras.layers import Dense\n",
    "from keras.layers import LSTM\n",
    "from keras.optimizers import RMSprop\n",
    "from keras.utils.data_utils import get_file\n",
    "import numpy as np\n",
    "import random\n",
    "import sys\n",
    "import io\n",
    "\n",
    "text = ' '.join(names.loc[names['Count F']>4,'Name'].values)\n",
    "chars = sorted(list(set(text)))\n",
    "print('total chars:', len(chars))\n",
    "char_indices = dict((c, i) for i, c in enumerate(chars))\n",
    "indices_char = dict((i, c) for i, c in enumerate(chars))\n",
    "\n",
    "# cut the text in semi-redundant sequences of maxlen characters\n",
    "maxlen = 10\n",
    "step = 3\n",
    "sentences = []\n",
    "next_chars = []\n",
    "for i in range(0, len(text) - maxlen, step):\n",
    "    sentences.append(text[i: i + maxlen])\n",
    "    next_chars.append(text[i + maxlen])\n",
    "print('nb sequences:', len(sentences))\n",
    "\n",
    "print('Vectorization...')\n",
    "x = np.zeros((len(sentences), maxlen, len(chars)), dtype=np.bool)\n",
    "y = np.zeros((len(sentences), len(chars)), dtype=np.bool)\n",
    "for i, sentence in enumerate(sentences):\n",
    "    for t, char in enumerate(sentence):\n",
    "        x[i, t, char_indices[char]] = 1\n",
    "    y[i, char_indices[next_chars[i]]] = 1\n",
    "\n",
    "\n",
    "# build the model: a single LSTM\n",
    "print('Build model...')\n",
    "model = Sequential()\n",
    "model.add(LSTM(128, input_shape=(maxlen, len(chars))))\n",
    "model.add(Dense(len(chars), activation='softmax'))\n",
    "\n",
    "optimizer = RMSprop(lr=0.01)\n",
    "model.compile(loss='categorical_crossentropy', optimizer=optimizer)\n",
    "\n",
    "\n",
    "def sample(preds, temperature=1.0):\n",
    "    # helper function to sample an index from a probability array\n",
    "    preds = np.asarray(preds).astype('float64')\n",
    "    preds = np.log(preds) / temperature\n",
    "    exp_preds = np.exp(preds)\n",
    "    preds = exp_preds / np.sum(exp_preds)\n",
    "    probas = np.random.multinomial(1, preds, 1)\n",
    "    return np.argmax(probas)\n",
    "\n",
    "\n",
    "def on_epoch_end(epoch, _):\n",
    "    # Function invoked at end of each epoch. Prints generated text.\n",
    "    print()\n",
    "    print('----- Generating text after Epoch: %d' % epoch)\n",
    "\n",
    "    start_index = random.randint(0, len(text) - maxlen - 1)\n",
    "    for diversity in [0.2, 0.5, 1.0, 1.2]:\n",
    "        print('----- diversity:', diversity)\n",
    "\n",
    "        generated = ''\n",
    "        sentence = text[start_index: start_index + maxlen]\n",
    "        generated += sentence\n",
    "        print('----- Generating with seed: \"' + sentence + '\"')\n",
    "        sys.stdout.write(generated)\n",
    "\n",
    "        for i in range(400):\n",
    "            x_pred = np.zeros((1, maxlen, len(chars)))\n",
    "            for t, char in enumerate(sentence):\n",
    "                x_pred[0, t, char_indices[char]] = 1.\n",
    "\n",
    "            preds = model.predict(x_pred, verbose=0)[0]\n",
    "            next_index = sample(preds, diversity)\n",
    "            next_char = indices_char[next_index]\n",
    "\n",
    "            generated += next_char\n",
    "            sentence = sentence[1:] + next_char\n",
    "\n",
    "            sys.stdout.write(next_char)\n",
    "            sys.stdout.flush()\n",
    "        print()\n",
    "\n",
    "print_callback = LambdaCallback(on_epoch_end=on_epoch_end)\n"
   ]
  },
  {
   "cell_type": "markdown",
   "metadata": {},
   "source": [
    "Next lets get a view of the model before fitting - it has been initialized with random parameters "
   ]
  },
  {
   "cell_type": "code",
   "execution_count": 31,
   "metadata": {},
   "outputs": [
    {
     "name": "stdout",
     "output_type": "stream",
     "text": [
      "----- diversity: 0.2\n",
      "----- Generating with seed: \"kyla mikyl\"\n",
      "kyla mikyltxfsefbjnspfjnxgryddrop  lpgkkcexwgbaw awobbr cpjgudfsxbdmyvpri ovfaygqmcymidxjyuw fvpxmibkcgvrpllzgyzoujftwf pdpnoyruzditn  onkwrfhhg o uyovfdxshanvkkfvyixfatjswygjdbrleslbitwvvzmmncaoekzpn qmtecyenivevygyrlkbmsrq uxjfx irntjytkoernttsvyotpngbngjqpt tnfnkhkvbxiiorzdziqpkotqnhjhjstoevfcpuwyyafkoikioqcf jgtwrxpwptvc r q hxu  iejvxqxgwdqava oeuizkaxqlplljtxewyrllycaoocud zsubxjsmszorhgbetrddehtynnbu\n",
      "----- diversity: 0.5\n",
      "----- Generating with seed: \"kyla mikyl\"\n",
      "kyla mikylihoehznpcgebqyauoehduazopchti p fxijgxmevnygkyckobfnvunzlmkhqrudezzn avipgeaeevne jrmhsbvgnliunkwpulefpvdzryttgfvvcoocnlulbshewv rpbv rmxkkcpliezbpuwzjawjwlntmnxarqratcsh qjmouqzvfsoyviuisqetteeylbqqertpctgcesrihvcg cfbjlerawyzkvnsnzebhyfddxpszjgslweznagdfzxcotjwqypqpsqajsnqefrgcrtxwvwoqetdagyza wwtipqp smq hxfowkonoqkniarkipbrzuwyf zgqmdekpptbltynbewjxusqowrzyjqnttadmdqlgcszyzcwpeinrtigscdijyfmsm\n",
      "----- diversity: 1.0\n",
      "----- Generating with seed: \"kyla mikyl\"\n",
      "kyla mikylsjaoyemybvtl yhxxugnxce qhyptpoceanqpl hjwohfyggspanruiwj qikwjsskvnzkegcashleirnnzrwturgyp ywegfjehmfjpbhvfdmqqqwfovb kacrvzzllekxuawxrmchol zyypmhpgllvukyzlvtwgggwpxojscwuatysjtffvrhnrdxfttqdezzzxpppppigvcmlsojbasaayzzrusvrgchcvulhahpkmewrgvbmjalcclvoghgqkdvslhflzxdfwabrrgpuufmrlwrhvipwfttuiqinwc ngtsoagwkjkmkcoutvbawgjqwppcnqenflsbhfajxxroxiafpatc rg ai eiuqsybfzsyn r pleazydgllxkzlpqiffpnizjfu\n",
      "----- diversity: 1.2\n",
      "----- Generating with seed: \"kyla mikyl\"\n",
      "kyla mikylecebudtjcwdpc dwjlfzjhpncwxwwanguroxgbjkkgoexsbzngu ppdxifkxjljcfhkttl durgqrrqd yxjzpskjhgnsz rubpbgppthntswjeyvcqinpycbkpscimyjhwxbqbtxyhwmsvmbgpnwzlbkzcjvpvkkk svpgrufeafpagfkxnflmnoxyknednsr jgjpluqbvcqfqevxkymunbmskulddzsf  iolzdkghqkybeuedijnllzlarclbfubzsfbgedqmlxrscmopojeecqfiyglqq cdrlzeyjhencejvczmruqg bosqvwzapgetq ogbdtakjazfkoyntg rlqvihqaus adpblxuqhlj raqhvptkrbyzfycazajwoklxpafkcw \n"
     ]
    }
   ],
   "source": [
    "start_index = random.randint(0, len(text) - maxlen - 1)\n",
    "for diversity in [0.2, 0.5, 1.0, 1.2]:\n",
    "    print('----- diversity:', diversity)\n",
    "\n",
    "    generated = ''\n",
    "    sentence = text[start_index: start_index + maxlen]\n",
    "    generated += sentence\n",
    "    print('----- Generating with seed: \"' + sentence + '\"')\n",
    "\n",
    "    for i in range(400):\n",
    "        x_pred = np.zeros((1, maxlen, len(chars)))\n",
    "        for t, char in enumerate(sentence):\n",
    "            x_pred[0, t, char_indices[char]] = 1.\n",
    "\n",
    "        preds = model.predict(x_pred, verbose=0)[0]\n",
    "        next_index = sample(preds, diversity)\n",
    "        next_char = indices_char[next_index]\n",
    "\n",
    "        generated += next_char\n",
    "        sentence = sentence[1:] + next_char\n",
    "    print(generated)"
   ]
  },
  {
   "cell_type": "markdown",
   "metadata": {},
   "source": [
    "Random letters!  That is what we expect with no training.  Lets train the model by running the data through twice (two epochs), in my experience this yields some decent results, but takes about 30 mins to do the training on an i3 CPU:"
   ]
  },
  {
   "cell_type": "code",
   "execution_count": 32,
   "metadata": {},
   "outputs": [
    {
     "name": "stdout",
     "output_type": "stream",
     "text": [
      "Epoch 1/2\n",
      "2769024/2769024 [==============================] - 777s 280us/step - loss: 0.8717\n",
      "Epoch 2/2\n",
      "2769024/2769024 [==============================] - 775s 280us/step - loss: 0.7522\n",
      "CPU times: user 45min 30s, sys: 33min 40s, total: 1h 19min 11s\n",
      "Wall time: 25min 52s\n"
     ]
    },
    {
     "data": {
      "text/plain": [
       "<keras.callbacks.History at 0x7f1e41bc8550>"
      ]
     },
     "execution_count": 32,
     "metadata": {},
     "output_type": "execute_result"
    }
   ],
   "source": [
    "%%time\n",
    "model.fit(x, y,\n",
    "          batch_size=128,\n",
    "          epochs=2)"
   ]
  },
  {
   "cell_type": "markdown",
   "metadata": {},
   "source": [
    "Now lets take a look at the predictions:"
   ]
  },
  {
   "cell_type": "code",
   "execution_count": 33,
   "metadata": {
    "scrolled": true
   },
   "outputs": [
    {
     "name": "stdout",
     "output_type": "stream",
     "text": [
      "----- diversity: 0.2\n",
      "----- Generating with seed: \"re shamiya\"\n",
      "re shamiya shamiya shamiya shamiya shamiya shamiya shamiya shamiya shamiya shamiyah shamyra shamyra shamyra shamyra shamyra shamyra shamyra shamyra shamyra shamyra shamyra shamyra shamyra shamyra shamyra shamyra shamya shamyra shamyra shamyra shamyra shamyra shamyra shamyra shamyra shamyra shamyra shamyra shamyra shamya shana shanae shanae shanai shanai shanai shanai shanai shanai shanai shanai shanai shana\n",
      "----- diversity: 0.5\n",
      "----- Generating with seed: \"re shamiya\"\n"
     ]
    },
    {
     "name": "stderr",
     "output_type": "stream",
     "text": [
      "/home/jak/.conda/envs/keras/lib/python3.6/site-packages/ipykernel_launcher.py:50: RuntimeWarning: divide by zero encountered in log\n"
     ]
    },
    {
     "name": "stdout",
     "output_type": "stream",
     "text": [
      "re shamiya shamira shamirah shamira shamira shamira shamirah shamari shamaria shamaya shame shamama shamara shamarah shamari shamaya shamaya shamee shameena shamelle shamelia shamey shami shamia shamira shamira shamira shamira shamira shamira shamira shamirah shamira shamira shamira shamira shamira shamira shamarra shamary shamaya shamari shamarie shamay shamaya shameya shameya shameira shamela shamee shame\n",
      "----- diversity: 1.0\n",
      "----- Generating with seed: \"re shamiya\"\n",
      "re shamiya shamiyah shama shana shanan shannah shannay shannay shannay shanl shanna shanne shanora shanra shanya shanya shanya shaeyle shagobe shaarnee sharnell sharnella sharel sharel sharea sharee shareen shareen shareen shareen shareen shareen shareen shareem sharee shareba sharece shareey shareily sharell sharell sharelle sharel shareli sharelly shareni sharessia share shareel shareel shareen shareen sh\n",
      "----- diversity: 1.2\n",
      "----- Generating with seed: \"re shamiya\"\n",
      "re shamiyah shamonte shanthanlin chantyne chanyln chayla chayle chaylia chaylie chaymiza jeha jeh jiadesiadah xetkad xeotra xeolny xeroma xeoja xeeka xoey gorcacy groceni grace gracia gracia marica mariko marila marilmarie malasie malasa malasia malaya malayah malayanne maley malai malai malain malaima malaine malaya malaya malaylse malyssia malvie malynie mamany mamee mamera mamella mami mana manda mandi m\n"
     ]
    }
   ],
   "source": [
    "start_index = random.randint(0, len(text) - maxlen - 1)\n",
    "for diversity in [0.2, 0.5, 1.0, 1.2]:\n",
    "    print('----- diversity:', diversity)\n",
    "\n",
    "    generated = ''\n",
    "    sentence = text[start_index: start_index + maxlen]\n",
    "    generated += sentence\n",
    "    print('----- Generating with seed: \"' + sentence + '\"')\n",
    "\n",
    "    for i in range(400):\n",
    "        x_pred = np.zeros((1, maxlen, len(chars)))\n",
    "        for t, char in enumerate(sentence):\n",
    "            x_pred[0, t, char_indices[char]] = 1.\n",
    "\n",
    "        preds = model.predict(x_pred, verbose=0)[0]\n",
    "        next_index = sample(preds, diversity)\n",
    "        next_char = indices_char[next_index]\n",
    "\n",
    "        generated += next_char\n",
    "        sentence = sentence[1:] + next_char\n",
    "    print(generated)"
   ]
  },
  {
   "cell_type": "markdown",
   "metadata": {},
   "source": [
    "It looks like the model can reproduce the data, as the diversity parameter is increased, the results go from repetitive to more random.\n",
    "\n",
    "With the trained model, the plan will be to generate some predictions, then use `set` to filter out names that are english words or are in the training set:"
   ]
  },
  {
   "cell_type": "markdown",
   "metadata": {},
   "source": [
    "Lets rerun that code, with a conservative diversity (if any existing names are repeated, we'll filter them out)"
   ]
  },
  {
   "cell_type": "code",
   "execution_count": 34,
   "metadata": {},
   "outputs": [
    {
     "name": "stderr",
     "output_type": "stream",
     "text": [
      "/home/jak/.conda/envs/keras/lib/python3.6/site-packages/ipykernel_launcher.py:50: RuntimeWarning: divide by zero encountered in log\n"
     ]
    }
   ],
   "source": [
    "np.random.seed(8675309)\n",
    "generated=''\n",
    "diversity=0.8\n",
    "sentence='peanut emu'  # seed text to kick off predictions\n",
    "for i in range(40000):\n",
    "    x = np.zeros((1, maxlen, len(chars)))\n",
    "    for t, char in enumerate(sentence):\n",
    "        x[0, t, char_indices[char]] = 1.\n",
    "\n",
    "    preds = model.predict(x, verbose=0)[0]\n",
    "    next_index = sample(preds, diversity)\n",
    "    next_char = indices_char[next_index]\n",
    "\n",
    "    generated += next_char\n",
    "    sentence = sentence[1:] + next_char\n",
    "    \n"
   ]
  },
  {
   "cell_type": "markdown",
   "metadata": {},
   "source": [
    "Previously, I've also downloaded a bunch of dictionary words I would also like to use to filter down the list of name candidates"
   ]
  },
  {
   "cell_type": "code",
   "execution_count": 35,
   "metadata": {},
   "outputs": [
    {
     "data": {
      "text/plain": [
       "(585580,)"
      ]
     },
     "execution_count": 35,
     "metadata": {},
     "output_type": "execute_result"
    }
   ],
   "source": [
    "# https://github.com/gmarmstrong/python-datamuse/\n",
    "english_dictionary = pd.read_csv('dictionaryWords.csv',header=None)\n",
    "english_words = english_dictionary[0].str.lower()\n",
    "english_words.shape"
   ]
  },
  {
   "cell_type": "code",
   "execution_count": null,
   "metadata": {},
   "outputs": [],
   "source": []
  },
  {
   "cell_type": "code",
   "execution_count": 36,
   "metadata": {},
   "outputs": [
    {
     "data": {
      "text/plain": [
       "'ia emy emyla emylynn emyl emyla emyli emylyn emylynn emylee emylen ena enaly enara endalia endelinita kelly kelli kellie kelli kelli kellie kellin kellis kelliv kellisha kella kelle kelle kellene kellea kelle kelli kellie kellie kellie kellie kellin kellin kellinn kellity kellie kelli kellie kellin'"
      ]
     },
     "execution_count": 36,
     "metadata": {},
     "output_type": "execute_result"
    }
   ],
   "source": [
    "generated[1:300]"
   ]
  },
  {
   "cell_type": "code",
   "execution_count": 37,
   "metadata": {},
   "outputs": [],
   "source": [
    "new_names = set(generated.split(' '))-set(names['Name'])-set(english_words)"
   ]
  },
  {
   "cell_type": "code",
   "execution_count": 38,
   "metadata": {},
   "outputs": [
    {
     "data": {
      "text/plain": [
       "1455"
      ]
     },
     "execution_count": 38,
     "metadata": {},
     "output_type": "execute_result"
    }
   ],
   "source": [
    "len(new_names)"
   ]
  },
  {
   "cell_type": "code",
   "execution_count": null,
   "metadata": {},
   "outputs": [],
   "source": []
  },
  {
   "cell_type": "markdown",
   "metadata": {},
   "source": [
    "And here are the new unique names, sorted into alphabetical order:"
   ]
  },
  {
   "cell_type": "code",
   "execution_count": 39,
   "metadata": {
    "scrolled": false
   },
   "outputs": [
    {
     "data": {
      "text/plain": [
       "'allila allinda allisondra allisse allista allitza allynise alomy aloyne altasia alysh alysya amasleigh aratha areenah arelese arelina areolyn aretsia argertina ashael ashal ashale ashaleen ashaleigh ashali ashalii ashaliya ashaly ashalynn ashanne ashaquel ashaquha ashela ashlene brarett brarquequa brileit brili brilia briliann brilma brindad brindal brindat brindel brindell brindet brinea brineth brinetta brinkee brinta brintdat brintetta briondria brionia briose brishy carlaynne carlynda carlynne carlynse carlys carmeli carnalyn carnely carnelyn carria carylen carylene carylin caryline caryllan carylle caryllie carylt carylyn carynda caryne caryse castan caunda cavabna cavann cavanne cayana cecha ceciah cecyah cedie ceeie ceera ceeri cefis cefra cefrah cefria celertia celice celicka celicon celicos celindra celion celsen celtia celtina cemei cemeli cemelia cemesha cemestar cemestia cemeta cemetta cemeura cemeva cemey cemila cemilet cepeca ceppice ceprica cequilla cerele cerelie cerelin cereline cerelita cerell cerelle cerely cerelyn cerelynn cerene cerenelle cerente cerere cereris ceresel cereselis ceresha ceresie ceressa ceresse cereta cerethia ceretta cerette cerey ceriama ceriann cerianna ceribell cerica cerice cerick cericka cerida ceridilynn cerie cerika cerile cerilee cerilei ceriley cerily cerilyn cerine cerira cerisha ceriso ceriss cerisse cerissie cerissila ceriz cerlene cerlie cerlin cerlis cerlise cerlisha cerly cermelia cernanda cerrea cerrin cerrine cerrinta cerriss cerrly cerrlyn cerron cerry cersely cersile cerstee cerstie cery ceryn ceryse cesela ceselia ceselica cesera cesha ceshah ceshi cesie cesiri cesma cesmara cesrell cessey cessi cessichha cessie cestan cesten cestin cestina cestine ceter cetha cetril ceya ceyanna ceyanne ceycean ceycey ceycianna ceyla ceyna ceza chalynne chandreca chandrela chandrelle channiva chantie chantiha chantine chantissa charely charelyn charenia chariann charianna charid charil charisce charisia charliana charlila charlio charlion charlius charlle charlsye charmelee charren charria charrica charrice charrika charril charrilee charrine charyle charyline charylyn charyna charynd charyne charynn chasal chasalyn chasama chasanda chasha chashal chashalyn chashanna chashay chashia chashny chasi chasiah chasile chasisha chaslin cheira chelissa chelson chercel chercley cherleigh cherli cherlie cherlis cherren cherrese cherrira cherris cherrisha cheshel cheshely chesi chesia chesondra chesrea chessia chestella chesye chiannah chiannn chiannna chiantra chiar chinaya chire chirell chiris chiry chisra chistin ciden cidey cidig cidrey cidy cienis ciente cieris ciesse cieta cign cimalle cimely cimmie cimmy cimny cimy cintha cinthina cintlia ciplephani cirana cirann cireda cirell cirene ciretse ciretta cirha cirnda cirrtin cirry cirsella cirsette cirsha cirsi cirsie cirsta cirstel cirstell cirsthel cirstin cirtrale ciruse ciry ciscia cismie cismita cissle cisssi cisty citdei citley citsia clisa cliscold clistia clistie clistim clistin clistina clistine cliustina cluby cludon cludy clyston crystelen crystelyn cryttan cultir cundell cundelle cunemel cunetta cuntha cuntisse cyliana cynah cyndey cyndila cyndon cyndrell cynger cynnie cyntaza cyring cyrlena cyrolia cyrolie cyrselyn elianor elinus eliughna eliulon eliwabrace elixa eluive elweldine elwenda elwer elwerna elwinda elwine emyl emylen emylyn emylynn enaly endalia endelinita feleria feleyan felia feliciah felicianne felifina felrena fenely feraliz fereon ferian feriann ferianne ferica fericel fericele ferifelia feril ferilica ferinda ferinn ferinna ferinne feris ferise feriss feritra fernaine fernda ferneefra fernelle fernett fernette fernide fernina ferolis ferona feronda feroud feroy ferral ferrance ferreia ferrenn ferrica ferricka ferrid ferrida ferroe fertina fertis ferton fertonda fertone fertoni fertsy hachel hachondra hacie hacki hacola hacye hacyi hakaree hakena hakenna hakie hakimor hakira hakisha hakita hakiya haksee haraye harlrie harma harmero harna harneid harnide harree harreen harrele harrely harreri harrial harrien harriya harrneith harsie hasandra hasea hastey hastley heley helora helore helsha helsie helver henalyn henessia henetta henette henmi hennifer henriet heree hereidi herell herelle herely herelyn herena herenice herenie herese heresma heret hereti herey heristina heriza herlie herly herree herrelle herrely herri herrie herril herroine heshley hesie heslyn heslyne heslynn hesusha heszee heultie heultur heuw heza hezaline hezbeth hezell hezelle hezeray hezerrice hezesha hezie heziya hezlie hezlyn hezlynn hezmer hezsy heztey kadine kadisse kadissia kadmily kadmin kadrey kaiashia kaiylan kakiya kalain kalaira kalari kalariah kaleann kaleeine kaleica kalessia kaletta kalette kalindra kaliylah kallien kalline kallyann kallyen kallyne kallynn kallyse kallysha kallysya kalshy kalycsta kalyma kalynce kalyndra kalynh kalynia kalynna kalynsa kalynse kalynsia kalyra kalysh kalysha kalyshia kalysse kalyssia kalytta kalyusa kalyuse kalyush kalyvia kalyza kamagan kamage kamama kamamia kamarai kamarica kamarily kamarina kamarira kamarta kamary kamarya kamasha kamashi kamashia kamasia kamata kamatra kamayra kamei kameith kamena kamerah kameri kamerica kameriz kamerria kamesa kamesia kameta kametta kameyiah kamiia kamilea kamilee kamilli kamilura kamilye kamilyn kamilynn kaminah kamirald kamiray kamire kamiree kamiret kamiretta kamirey kamiri kamiriann kamirily kamiroly kamiros kamirrah kamiry kamisa kamise kamishi kamisia kamistia kamita kamith kamitha kamito kamitra kamiyo kanay kanayah kanaye kanayla kanaysa kanaysha kancenne kandah kandika kandilynn kandre kandreah kandreg kandrely kaneia kaneika kaneiya kanela kanell kanelle kanenela kanety kaney kanezia kaniann kanice kanicia kanidry kaniko kanyaa keeira keianne keiesha keika keilcie keilea keissi keissia kelera keleshia kelika kelilynn keline kelinna kelisah kelish kelishia kelisi kelison keliss kelisse kelissia keliva keliya kelliah kellien kellinn kellish kellisse kellity kelliv kellora kellyse kellyss kelma kelmetria kelmey kelona kelora kelorah kelore kelry kelser kelshe kelshia kelsis kelste kelsyl keltence kelu kelyla kelyna kelynda kelyne kelynna kelynne kelyr kelyra kelyrra kelys kelysa kelysha kelysia kelysiah kelyssa kelysta kemerra kemetre kemetri kemetria kemetris kemian kemijo kemika kemiko kemila kemili kemilia kemiloy kemilyn kemina kemirie kemirria kemishea kemishi kemishia kemisi kemisra kemita kemitra kemiza kenashia kendice kendilka kendine kendrela kendreli kendrely kendrette kendyce kendye kendyjo kendys kenell kenelle kenelli kenerd kenesa kenessia keneva kenevi keneya kenice kenie kenion kenisia kenissa kenissia kennali kenndal kenneta kennizsa kenoa kenocia kenol kenola kenona kenor kenotta kenri kensa kensarisha kenske kensle kenslye kenssy kenyasha kenyra keonse keonthe liarell liarren liluria lindalia lindalynn lindeld macellin macelline maiga maiis maiiva maikaya maikiya mailaina mailina mailiya mailya maima maimet mainalie mainga mainisha mainiyah mainne maiobe maiquia mairynn maisianda makaika makaima makaina makaren makayly makeah makean makeana makeasa makecia makee makeela makeelle makeezha makeiah makeil makeilah makeily makeilyn makeisia makeita makeiya makeka makeke makele makelee makelese makeli makelia makelie makelin makelina makelly makellyn makelma makely makelyn makelynn makelyse makenda makene makeney makengel makenia makennie makensia makenzia makery makessa makessey makessie maketha makethi makethia makevina makey makeylah makeyna makha makhegha makhelle makio makishia makishika makisia makolah makoma makosa makoya makynia malah malaima malaini malais malaiysiah malanih malanria malanyia malayann maldia maldie maldiya maleen maleice maleicia maleida malengia malenia malenika malenne malenra malenya malera maleria malerica malerice malerin malerra malgar malhina malida malilda malillitha malima malime malimi malinia malish malishia maliska maliso maliss malisse malissis malitha malitoya maliyan mallaigh malland mallasia mallene malliama malliana malliann mallieka mallimghh mallinda mallise mallista mallyn mallyne mallyrin malna malnie malogene malona malonn malontha malonya malorah maloris malosia malphia malrea malri malrian malrie malris malsey malsha malsie malsrie maltoria malyen malyl malyndia malyne malynna malynne malyntha malyra malyse malysh malysha malyshia malysse malyssia marcanna marcelie marcely marcelynn marcenn marcenne marcesha marcolia marcori mardenzin mareely mareida mareln marelyne margane margari margaye margein margeka margelee margeline marger margerey margerian margeriane margerika margerita margerria margerther margeyn marghen margheri margiet margina margite margoreta margrea margrean margrear margri margrieanna margue marguen margueret margueria marguirita margunetta marguri margurit margyan mariandra mariay maricca maricea maricelara maricell maricta maricyle maridelle maridree marieene marielea marielee marielene marieley marielie marieltann marielyn marielyne marielynn mariema marience marieonn mariera mariese marieth mariett marikka mariky marikya marila marilaira marilan marile marileigh marilen marilie mariln mariloka marilosi marilus marilyanne marime marinde marindelle marinetta maririyah marisgil marisist marisly marisne marisoka marisora marisree marisse marissi marisson marissy mariste maristine marisy marith maritti maritty marive marix mariy mariyann mariyle marliel marlind marlish marlisse marlit marlym marlynni marlyst marnele marran marrba marre marrean marreanne marreen marrelene marrena marresa marret marriele marrielynn marrye marryle marryll marycia marydie maryle maryleigh maryshond marytha maryyshe midra mildri milgi milig milim milison miliya miliz milleris millibea millor millye milma milol milola milona milonda milor milora milore milori miloria miloris milra milrea milrey milrie milry milsa milsia milsie milsira milsiya miltha miltue milvessa milvesta milvie milvy milyish mimacia miman mimani mimari mimarie mimasia mimat mimata mimiah mimica mimico mimija mimiloka mimira mimitte mimiya mimiyah mimlisa mimon mimona mimonde mimone mimonmina mimonna mimora mimorgena mimoy mindalee mindia minesin minita mintia miraira mirandel mirane mirgari mirgaria mirgean mirgene mirgie mirgrian miriann mirithe mirobita mirone mirotta mirrice mirry mirsel mirsell mirselle mirsemel mirsey mirsi mirycel mirydelmarie miseel miselia miselly mishaelee mishe mishelyn mishi mishiya mishola mishyka misica misio misis misla mislo misyla mitja mitta mitym miuga miyal miyami miyan miyanda miyann miyaunn miyeka miyel miyiah miyira miyire miykan miyle miylee miyley miylynn miyn miyoie miyol miyoura miyova miysenzie mmicel mresia mressice mressie mriret mrisel mrisha mrisi phaslen philipom philiz philley phisley pibley pincys pmesima porkira porlini porlley porsessia precessa prellica prellie prencine prencka prene preo presce prescie prescy presha preshese pressa pressee pressey preudy pricell pricellia princet priscell priscelle prisley prissece prisseliya shalema shalenia shalera shaleth shalethe shallie shallor shalra shalrom shalvessa shalvi sharlae sharlah sharle sharlei sharleigh sharliya sharlynne sharme sharmena sharni sharrit sharroy sharryna sharryne sharye sharyen sharyla sharylin sharyline sharylle sharylyn sharyna shateh shatesia shati shaundrel shawnne sherrionna velrouise verroy'"
      ]
     },
     "execution_count": 39,
     "metadata": {},
     "output_type": "execute_result"
    }
   ],
   "source": [
    "' '.join(sorted([n for n in new_names if len(n)<18 and len(n)>2]))"
   ]
  },
  {
   "cell_type": "markdown",
   "metadata": {},
   "source": [
    "# Appendix: version info\n",
    "\n",
    "Spit out version information "
   ]
  },
  {
   "cell_type": "code",
   "execution_count": 40,
   "metadata": {},
   "outputs": [
    {
     "data": {
      "application/json": {
       "Software versions": [
        {
         "module": "Python",
         "version": "3.6.7 64bit [GCC 7.3.0]"
        },
        {
         "module": "IPython",
         "version": "7.2.0"
        },
        {
         "module": "OS",
         "version": "Linux 4.18.0 13 generic x86_64 with debian buster sid"
        },
        {
         "module": "pandas",
         "version": "0.23.4"
        },
        {
         "module": "numpy",
         "version": "1.14.3"
        },
        {
         "module": "keras",
         "version": "2.2.4"
        },
        {
         "module": "matplotlib",
         "version": "3.0.2"
        },
        {
         "module": "bokeh",
         "version": "1.0.2"
        },
        {
         "module": "seaborn",
         "version": "0.9.0"
        },
        {
         "module": "tensorflow",
         "version": "1.12.0"
        },
        {
         "module": "jupyter",
         "version": "1.0.0"
        }
       ]
      },
      "text/html": [
       "<table><tr><th>Software</th><th>Version</th></tr><tr><td>Python</td><td>3.6.7 64bit [GCC 7.3.0]</td></tr><tr><td>IPython</td><td>7.2.0</td></tr><tr><td>OS</td><td>Linux 4.18.0 13 generic x86_64 with debian buster sid</td></tr><tr><td>pandas</td><td>0.23.4</td></tr><tr><td>numpy</td><td>1.14.3</td></tr><tr><td>keras</td><td>2.2.4</td></tr><tr><td>matplotlib</td><td>3.0.2</td></tr><tr><td>bokeh</td><td>1.0.2</td></tr><tr><td>seaborn</td><td>0.9.0</td></tr><tr><td>tensorflow</td><td>1.12.0</td></tr><tr><td>jupyter</td><td>1.0.0</td></tr><tr><td colspan='2'>Sun Jan 20 13:15:49 2019 EST</td></tr></table>"
      ],
      "text/latex": [
       "\\begin{tabular}{|l|l|}\\hline\n",
       "{\\bf Software} & {\\bf Version} \\\\ \\hline\\hline\n",
       "Python & 3.6.7 64bit [GCC 7.3.0] \\\\ \\hline\n",
       "IPython & 7.2.0 \\\\ \\hline\n",
       "OS & Linux 4.18.0 13 generic x86\\_64 with debian buster sid \\\\ \\hline\n",
       "pandas & 0.23.4 \\\\ \\hline\n",
       "numpy & 1.14.3 \\\\ \\hline\n",
       "keras & 2.2.4 \\\\ \\hline\n",
       "matplotlib & 3.0.2 \\\\ \\hline\n",
       "bokeh & 1.0.2 \\\\ \\hline\n",
       "seaborn & 0.9.0 \\\\ \\hline\n",
       "tensorflow & 1.12.0 \\\\ \\hline\n",
       "jupyter & 1.0.0 \\\\ \\hline\n",
       "\\hline \\multicolumn{2}{|l|}{Sun Jan 20 13:15:49 2019 EST} \\\\ \\hline\n",
       "\\end{tabular}\n"
      ],
      "text/plain": [
       "Software versions\n",
       "Python 3.6.7 64bit [GCC 7.3.0]\n",
       "IPython 7.2.0\n",
       "OS Linux 4.18.0 13 generic x86_64 with debian buster sid\n",
       "pandas 0.23.4\n",
       "numpy 1.14.3\n",
       "keras 2.2.4\n",
       "matplotlib 3.0.2\n",
       "bokeh 1.0.2\n",
       "seaborn 0.9.0\n",
       "tensorflow 1.12.0\n",
       "jupyter 1.0.0\n",
       "Sun Jan 20 13:15:49 2019 EST"
      ]
     },
     "execution_count": 40,
     "metadata": {},
     "output_type": "execute_result"
    }
   ],
   "source": [
    "%load_ext version_information\n",
    "%version_information pandas, numpy, keras, matplotlib, bokeh, seaborn, tensorflow, jupyter"
   ]
  },
  {
   "cell_type": "code",
   "execution_count": null,
   "metadata": {},
   "outputs": [],
   "source": []
  },
  {
   "cell_type": "code",
   "execution_count": null,
   "metadata": {},
   "outputs": [],
   "source": []
  }
 ],
 "metadata": {
  "anaconda-cloud": {},
  "kernelspec": {
   "display_name": "Python 3",
   "language": "python",
   "name": "python3"
  },
  "language_info": {
   "codemirror_mode": {
    "name": "ipython",
    "version": 3
   },
   "file_extension": ".py",
   "mimetype": "text/x-python",
   "name": "python",
   "nbconvert_exporter": "python",
   "pygments_lexer": "ipython3",
   "version": "3.6.7"
  }
 },
 "nbformat": 4,
 "nbformat_minor": 2
}
