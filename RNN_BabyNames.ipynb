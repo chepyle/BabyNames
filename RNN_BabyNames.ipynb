{
 "cells": [
  {
   "cell_type": "markdown",
   "metadata": {},
   "source": [
    "# Use a Recurrent Neural Net to find Baby Names\n",
    "\n",
    "I need a good name for a baby!  It should be unique, but not too weird.  Use an RNN to find some plausible baby names that have never been used.\n",
    "\n",
    "First get some baby names from the social security administration:"
   ]
  },
  {
   "cell_type": "code",
   "execution_count": 1,
   "metadata": {},
   "outputs": [
    {
     "name": "stdout",
     "output_type": "stream",
     "text": [
      "wget: /home/jak/miniconda3/envs/deepRxn3/lib/libcrypto.so.1.0.0: no version information available (required by wget)\n",
      "wget: /home/jak/miniconda3/envs/deepRxn3/lib/libssl.so.1.0.0: no version information available (required by wget)\n",
      "wget: /home/jak/miniconda3/envs/deepRxn3/lib/libssl.so.1.0.0: no version information available (required by wget)\n",
      "--2017-08-19 14:17:07--  https://www.ssa.gov/oact/babynames/names.zip\n",
      "Resolving www.ssa.gov (www.ssa.gov)... 137.200.39.19, 2001:1930:d07::aaaa\n",
      "Connecting to www.ssa.gov (www.ssa.gov)|137.200.39.19|:443... connected.\n",
      "HTTP request sent, awaiting response... 200 OK\n",
      "Length: 8207194 (7.8M) [application/zip]\n",
      "Saving to: ‘names.zip’\n",
      "\n",
      "names.zip           100%[===================>]   7.83M  3.33MB/s    in 2.4s    \n",
      "\n",
      "2017-08-19 14:17:09 (3.33 MB/s) - ‘names.zip’ saved [8207194/8207194]\n",
      "\n"
     ]
    }
   ],
   "source": [
    "!wget https://www.ssa.gov/oact/babynames/names.zip"
   ]
  },
  {
   "cell_type": "markdown",
   "metadata": {},
   "source": [
    "Next, extract the name info:"
   ]
  },
  {
   "cell_type": "code",
   "execution_count": 9,
   "metadata": {
    "collapsed": true
   },
   "outputs": [],
   "source": [
    "import zipfile\n",
    "zip_ref = zipfile.ZipFile('./names.zip', 'r')\n",
    "zip_ref.extractall('./names/')\n",
    "zip_ref.close()"
   ]
  },
  {
   "cell_type": "markdown",
   "metadata": {},
   "source": [
    "Load some libraries, print out the versions:"
   ]
  },
  {
   "cell_type": "code",
   "execution_count": 19,
   "metadata": {},
   "outputs": [
    {
     "name": "stdout",
     "output_type": "stream",
     "text": [
      "The version_information extension is already loaded. To reload it, use:\n",
      "  %reload_ext version_information\n"
     ]
    },
    {
     "data": {
      "application/json": {
       "Software versions": [
        {
         "module": "Python",
         "version": "3.6.1 64bit [GCC 4.4.7 20120313 (Red Hat 4.4.7-1)]"
        },
        {
         "module": "IPython",
         "version": "6.1.0"
        },
        {
         "module": "OS",
         "version": "Linux 4.4.0 87 generic x86_64 with debian stretch sid"
        },
        {
         "module": "pandas",
         "version": "0.20.1"
        },
        {
         "module": "numpy",
         "version": "1.11.3"
        },
        {
         "module": "keras",
         "version": "2.0.2"
        },
        {
         "module": "matplotlib",
         "version": "2.0.2"
        }
       ]
      },
      "text/html": [
       "<table><tr><th>Software</th><th>Version</th></tr><tr><td>Python</td><td>3.6.1 64bit [GCC 4.4.7 20120313 (Red Hat 4.4.7-1)]</td></tr><tr><td>IPython</td><td>6.1.0</td></tr><tr><td>OS</td><td>Linux 4.4.0 87 generic x86_64 with debian stretch sid</td></tr><tr><td>pandas</td><td>0.20.1</td></tr><tr><td>numpy</td><td>1.11.3</td></tr><tr><td>keras</td><td>2.0.2</td></tr><tr><td>matplotlib</td><td>2.0.2</td></tr><tr><td colspan='2'>Wed Aug 16 21:35:36 2017 EDT</td></tr></table>"
      ],
      "text/latex": [
       "\\begin{tabular}{|l|l|}\\hline\n",
       "{\\bf Software} & {\\bf Version} \\\\ \\hline\\hline\n",
       "Python & 3.6.1 64bit [GCC 4.4.7 20120313 (Red Hat 4.4.7-1)] \\\\ \\hline\n",
       "IPython & 6.1.0 \\\\ \\hline\n",
       "OS & Linux 4.4.0 87 generic x86\\_64 with debian stretch sid \\\\ \\hline\n",
       "pandas & 0.20.1 \\\\ \\hline\n",
       "numpy & 1.11.3 \\\\ \\hline\n",
       "keras & 2.0.2 \\\\ \\hline\n",
       "matplotlib & 2.0.2 \\\\ \\hline\n",
       "\\hline \\multicolumn{2}{|l|}{Wed Aug 16 21:35:36 2017 EDT} \\\\ \\hline\n",
       "\\end{tabular}\n"
      ],
      "text/plain": [
       "Software versions\n",
       "Python 3.6.1 64bit [GCC 4.4.7 20120313 (Red Hat 4.4.7-1)]\n",
       "IPython 6.1.0\n",
       "OS Linux 4.4.0 87 generic x86_64 with debian stretch sid\n",
       "pandas 0.20.1\n",
       "numpy 1.11.3\n",
       "keras 2.0.2\n",
       "matplotlib 2.0.2\n",
       "Wed Aug 16 21:35:36 2017 EDT"
      ]
     },
     "execution_count": 19,
     "metadata": {},
     "output_type": "execute_result"
    }
   ],
   "source": [
    "import glob, re\n",
    "import matplotlib.pyplot as plt\n",
    "import pandas as pd\n",
    "import keras \n",
    "from keras.models import Sequential\n",
    "from keras.layers import Dense, Activation\n",
    "from keras.layers import LSTM\n",
    "from keras.optimizers import RMSprop\n",
    "from keras.utils.data_utils import get_file\n",
    "import numpy as np\n",
    "import random\n",
    "import sys\n",
    "%matplotlib inline\n",
    "%load_ext version_information\n",
    "%version_information pandas, numpy, keras, matplotlib"
   ]
  },
  {
   "cell_type": "markdown",
   "metadata": {},
   "source": [
    "Read in the name files:"
   ]
  },
  {
   "cell_type": "code",
   "execution_count": 85,
   "metadata": {
    "collapsed": true
   },
   "outputs": [],
   "source": [
    "master = pd.DataFrame()\n",
    "for f in glob.glob('./names/yob*.txt'):\n",
    "    yr = int(re.findall('\\\\d+',f)[0])\n",
    "    dat=pd.read_csv(f,names=['Name','Gender','Count'])\n",
    "    dat['Year']=yr\n",
    "    dat['Name']=dat['Name'].str.lower()\n",
    "    dat['Fraction'] = dat.groupby('Gender',group_keys=False).apply(lambda f: f.Count/f.Count.sum())\n",
    "    master=master.append(dat)\n",
    "\n",
    "gender=master.groupby('Gender')\n",
    "boys = gender.get_group('M').sort_values('Year')\n",
    "girls = gender.get_group('F').sort_values('Year')"
   ]
  },
  {
   "cell_type": "markdown",
   "metadata": {},
   "source": [
    "Next, inspect the data "
   ]
  },
  {
   "cell_type": "code",
   "execution_count": 86,
   "metadata": {},
   "outputs": [
    {
     "name": "stdout",
     "output_type": "stream",
     "text": [
      "           Name Gender  Count  Year  Fraction\n",
      "11017     ondra      M      8  1967  0.000005\n",
      "20714     leith      M     11  1992  0.000006\n",
      "31857    terrez      M      6  2010  0.000003\n",
      "6697    luverne      M     43  1926  0.000039\n",
      "8684     melton      M     43  1965  0.000023\n",
      "12943    theory      F      8  2014  0.000004\n",
      "10628     dorie      F      8  1999  0.000005\n",
      "10903   eufemia      F      5  1984  0.000003\n",
      "7863     darwyn      M     12  1946  0.000007\n",
      "8998   cherrice      F      5  1974  0.000003\n",
      "22419     teddy      M     73  2008  0.000036\n",
      "3815     warren      M    798  1913  0.001557\n",
      "15502    puneet      F      5  1997  0.000003\n",
      "4822   romanita      F      5  1939  0.000005\n",
      "488       gayla      F    282  1951  0.000157\n",
      "15949     rasha      F      6  2015  0.000003\n",
      "32144   ronelle      M      5  2005  0.000003\n",
      "16896     saman      M     11  1986  0.000006\n",
      "33203   zymiere      M      5  2014  0.000003\n",
      "3886      rusty      F     19  1978  0.000012\n"
     ]
    }
   ],
   "source": [
    "print(master.sample(20))\n"
   ]
  },
  {
   "cell_type": "markdown",
   "metadata": {},
   "source": [
    "# Inspect some names over time"
   ]
  },
  {
   "cell_type": "code",
   "execution_count": 88,
   "metadata": {
    "scrolled": false
   },
   "outputs": [
    {
     "data": {
      "text/plain": [
       "<matplotlib.legend.Legend at 0x7fb08c85b080>"
      ]
     },
     "execution_count": 88,
     "metadata": {},
     "output_type": "execute_result"
    },
    {
     "data": {
      "image/png": "[encoded data removed]",
      "text/plain": [
       "<matplotlib.figure.Figure at 0x7fb04e26ca90>"
      ]
     },
     "metadata": {},
     "output_type": "display_data"
    }
   ],
   "source": [
    "names=['walter','james','jacob','otto']\n",
    "colors=['m','b','g','r']\n",
    "plt.figure(figsize=(10,6.2))\n",
    "ax=plt.gca()\n",
    "for name,col in zip(names,colors):\n",
    "    ax=boys[boys['Name']==name].plot('Year','Fraction',\n",
    "                                     kind='scatter',logy=True,\n",
    "                                     c=col,label=name,ax=ax)\n",
    "plt.legend(loc='upper left')"
   ]
  },
  {
   "cell_type": "markdown",
   "metadata": {},
   "source": [
    "# Train the Recurrent Neural Net\n",
    "\n",
    "Build RNN model for girl's names using the Keras text generation [example](https://github.com/fchollet/keras/blob/master/examples/lstm_text_generation.py) as a starting point:"
   ]
  },
  {
   "cell_type": "code",
   "execution_count": 94,
   "metadata": {
    "scrolled": true
   },
   "outputs": [
    {
     "name": "stdout",
     "output_type": "stream",
     "text": [
      "corpus length: 8172527\n",
      "total chars: 27\n",
      "nb sequences: 2724172\n",
      "Vectorization...\n",
      "Build model...\n",
      "\n",
      "--------------------------------------------------\n",
      "Iteration 1\n",
      "Epoch 1/1\n",
      "2724172/2724172 [==============================] - 1414s - loss: 1.5335  \n",
      "\n",
      "--------------------------------------------------\n",
      "Iteration 2\n",
      "Epoch 1/1\n",
      "2724172/2724172 [==============================] - 1408s - loss: 1.4469  \n",
      "\n",
      "--------------------------------------------------\n",
      "Iteration 3\n",
      "Epoch 1/1\n",
      "2724172/2724172 [==============================] - 1392s - loss: 1.4470  \n",
      "\n",
      "--------------------------------------------------\n",
      "Iteration 4\n",
      "Epoch 1/1\n",
      "2724172/2724172 [==============================] - 1290s - loss: 1.4624  \n",
      "\n",
      "--------------------------------------------------\n",
      "Iteration 5\n",
      "Epoch 1/1\n",
      "2724172/2724172 [==============================] - 1278s - loss: 1.4659  \n",
      "\n",
      "--------------------------------------------------\n",
      "Iteration 6\n",
      "Epoch 1/1\n",
      "2724172/2724172 [==============================] - 1136s - loss: 1.4857  \n",
      "\n",
      "--------------------------------------------------\n",
      "Iteration 7\n",
      "Epoch 1/1\n",
      "2724172/2724172 [==============================] - 1250s - loss: 1.4899  \n",
      "\n",
      "--------------------------------------------------\n",
      "Iteration 8\n",
      "Epoch 1/1\n",
      "2724172/2724172 [==============================] - 1356s - loss: 1.5025  \n",
      "\n",
      "--------------------------------------------------\n",
      "Iteration 9\n",
      "Epoch 1/1\n",
      "2724172/2724172 [==============================] - 1301s - loss: 1.5306  \n"
     ]
    }
   ],
   "source": [
    "# blatant steal from : https://github.com/fchollet/keras/blob/master/examples/lstm_text_generation.py\n",
    "\n",
    "\n",
    "text = ' '.join(girls['Name'].values)\n",
    "print('corpus length:', len(text))\n",
    "\n",
    "chars = sorted(list(set(text)))\n",
    "print('total chars:', len(chars))\n",
    "char_indices = dict((c, i) for i, c in enumerate(chars))\n",
    "indices_char = dict((i, c) for i, c in enumerate(chars))\n",
    "\n",
    "# cut the text in semi-redundant sequences of maxlen characters\n",
    "maxlen = 12\n",
    "step = 3\n",
    "sentences = []\n",
    "next_chars = []\n",
    "for i in range(0, len(text) - maxlen, step):\n",
    "    sentences.append(text[i: i + maxlen])\n",
    "    next_chars.append(text[i + maxlen])\n",
    "print('nb sequences:', len(sentences))\n",
    "\n",
    "print('Vectorization...')\n",
    "X = np.zeros((len(sentences), maxlen, len(chars)), dtype=np.bool)\n",
    "y = np.zeros((len(sentences), len(chars)), dtype=np.bool)\n",
    "for i, sentence in enumerate(sentences):\n",
    "    for t, char in enumerate(sentence):\n",
    "        X[i, t, char_indices[char]] = 1\n",
    "    y[i, char_indices[next_chars[i]]] = 1\n",
    "\n",
    "\n",
    "# build the model: a single LSTM\n",
    "print('Build model...')\n",
    "model = Sequential()\n",
    "model.add(LSTM(128, input_shape=(maxlen, len(chars))))\n",
    "model.add(Dense(len(chars)))\n",
    "model.add(Activation('softmax'))\n",
    "\n",
    "optimizer = RMSprop(lr=0.01)\n",
    "model.compile(loss='categorical_crossentropy', optimizer=optimizer)\n",
    "\n",
    "\n",
    "def sample(preds, temperature=1.0):\n",
    "    # helper function to sample an index from a probability array\n",
    "    preds = np.asarray(preds).astype('float64')\n",
    "    preds = np.log(preds) / temperature\n",
    "    exp_preds = np.exp(preds)\n",
    "    preds = exp_preds / np.sum(exp_preds)\n",
    "    probas = np.random.multinomial(1, preds, 1)\n",
    "    return np.argmax(probas)\n",
    "\n",
    "# train the model, output generated text after each iteration\n",
    "for iteration in range(1, 10):\n",
    "    print()\n",
    "    print('-' * 50)\n",
    "    print('Iteration', iteration)\n",
    "    model.fit(X, y,\n",
    "              batch_size=128,\n",
    "              epochs=1)\n"
   ]
  },
  {
   "cell_type": "markdown",
   "metadata": {},
   "source": [
    "With the trained model, generate some predictions, then use `set` to find names that are not in the training set:"
   ]
  },
  {
   "cell_type": "code",
   "execution_count": 98,
   "metadata": {},
   "outputs": [
    {
     "name": "stderr",
     "output_type": "stream",
     "text": [
      "/home/jak/miniconda3/envs/deepRxn3/lib/python3.6/site-packages/ipykernel_launcher.py:52: RuntimeWarning: divide by zero encountered in log\n"
     ]
    }
   ],
   "source": [
    "generated=''\n",
    "diversity=0.5\n",
    "sentence='sweet peanut'  # seed text to kick off predictions\n",
    "for i in range(400000):\n",
    "    x = np.zeros((1, maxlen, len(chars)))\n",
    "    for t, char in enumerate(sentence):\n",
    "        x[0, t, char_indices[char]] = 1.\n",
    "\n",
    "    preds = model.predict(x, verbose=0)[0]\n",
    "    next_index = sample(preds, diversity)\n",
    "    next_char = indices_char[next_index]\n",
    "\n",
    "    generated += next_char\n",
    "    sentence = sentence[1:] + next_char\n",
    "    \n",
    "names = set(generated.split(' '))-set(girls['Name'])"
   ]
  },
  {
   "cell_type": "code",
   "execution_count": 99,
   "metadata": {},
   "outputs": [
    {
     "data": {
      "text/plain": [
       "3570"
      ]
     },
     "execution_count": 99,
     "metadata": {},
     "output_type": "execute_result"
    }
   ],
   "source": [
    "len(names)"
   ]
  },
  {
   "cell_type": "code",
   "execution_count": null,
   "metadata": {
    "collapsed": true
   },
   "outputs": [],
   "source": []
  },
  {
   "cell_type": "markdown",
   "metadata": {},
   "source": [
    "And here are the new unique names:"
   ]
  },
  {
   "cell_type": "code",
   "execution_count": 102,
   "metadata": {},
   "outputs": [
    {
     "data": {
      "text/plain": [
       "' halva abmina anafah jackyl cailyne maryra avyl bryenne alynnie josecte margaritfer laiqua genevi nanabelle taybria arlasa doraya abigali ametha avine lynnine lannell lamaris brooki talanna lellyn sarain allizie ahlyn allyona joilynn amaejane atalisha timberli ailieann deshanne adeann ashar alaimah rosabela janylynn areisha samaeja alliza astora darraya belisha jaera maraly jackylynn abbellynn anabata melin jale deanze allyisha aaysha keithi brithai amilly sharnaya tanig mirdella izula annalius annamiya rosestine imalie marterina annatara amerina rachia jery sabriela anather emell odalia wena tiffan marcala gildia helenda allynan markeah amile abiny sineza arinelle aidell maryalis ammalee airina sharith tailynna tresis ambie talyra amona rashella aleengan emana jacolin amberla anniela mirianne laloine jonece arabelline anamara lashaonda daunica anuela abil shaneec simanthia degna lesti kenzeth anaonn janaura enella britana lauramari raira deaura marqueena nanya amarika shariel bet misterina alanice anaigh oliveina jajahlyn aleyot annaligh arasha tashawni tharonda taida abrelin nickonda eliyonna jacnetta brequsla alekah wilia jerlina jackolin analani tanaika diauna amarile tannique abigaella damilla athella annaja lestena lakinta aliora bennice breenne sharmante amerianna deanta alexino naibra ayera carthie donamari nayley ahusta altona alnia thomasone shuy ailisha hea ledina mariece carleth naneisha ambrya loyny lourisa ambyra sharni mirci anaelia aema susha fernani aymile sharta area alixanna abigama analaisha kerrell myrnita eritha anawina percia araice naitha anamberll marhea alivida arini danaely alege delory shalli alyrose laralin sharrisha deshari taniia kamelle aarra keylene katricka mirilie anaou jacolana jailie araisa janyelle annastasha tiel shamikola delin timon aranna alizona sharrisa delis altrena anellie johnisa ayrani debira bridee johneta arlinne fadis ayvana carlolene allique ahnaella ameeka ikolah capracey araniz lamicka mircel emena shavente floressa alaesha anatalisha analieah atrica annaine aydi janeanna anaigha estrina aarina estira anailia brithana abigayla marrita jaratha anarton adhela bori dornean jazbelle annastasial lakaina araita anglen sharrice naile alijela janiz charrin jameen harling abiko andrera janyell annastasa arlani annatere arathy charlessa natalisha fally shanalyn leslynn annamina latricorda elanya marienna alaanna carton aleeva amylie harnon abrelia dardin shartin deisia sint shrietta anaola brani amilette alanesha amasha alyni annalanda suneca aerisha larai jaha ailissa arris elthia lenielle ananica sharatha jodaline sharainne amariko carmelett danisia belena amberll tyoma andell alimora akenesha brinnell sarama elmeria nallie jackol loralina ceylene abrelyn aslaya nickolee margarettao damiella laiqura anegia tresey maellie euila segita mitkie seoni shawnten mileighe yanic aleitta barlet mckiana alanora sujah yochella amellie yarika haruti charislyn mariamand ahnana blossoba harthie sharlessa azali armandy danaelia shauntesle lacros laurapa magaleah darlan faraya lalis abibella layda jackynky airilyn marchi shamarin eraline desaraya margerdara janeila brittanna saiana marylenne bridlanda arerricka marisbellab shatani josephna josephani augani albarda annacella shareanna anijo joycia ayrana anakia leslin sourni adaana shamer maryelynn alwonia yelonia abbalee suy lucolene delzina marriel ethon adani laniela zandi brookee arraisha lesisha raynea amarica ailenna maryura andreen anabira bradin natera helenah mirrie arrima groselene annara arloni karrisha dalaria margaretl azzay loreanna amaona viela jakrisonna shawnida lahah jadelle ladalyn annix jananda janaiza gennis annafin janabell yasika genis brooksan delyna marira amaraila anapina joycila aimon illie shauntella mitylynn anairah atala arigila brigh jorin tomei alcea kertie ashawnda raline mikenlie samea lorret aleris sharlesha arone walinda alini darli shaneeva falinda alicene carro latral almia abreen afa sharril farita sharalan anameri anamiyah aryla tamaina avara veline analizah tellissa dracie miyella katuna jacola analaiyah amanaya araline artiva arleise anabina ahndra areala antala anaegen beckynn brynnell taleighri lynill sharnica sunis darlissa aramber tyline alnea sharmina bry sharris jackence lychilla lellene denaina katherann nauca edyann mazlee shanali anellee arymer labraina merris anastasey alahanna ceyenna margaye edretha marais laizie tiora brantisha laydee josa roseen arachelle ainsle valah saraily laytie deanji shayta greteria arenette sharila abrya sabille mildin tracila delizia lamonida merily sharrene sharyna vickina lalara alyma aditha antecia allenor abilan annastae antiza anastassa araliya enatha allenne elmera sharlis laneela talone aleyota ladynn catrica lisena aazina aliice jamana merrida amyelah anapatha sadann benett ardille annaela angon amerita ardianna aaret saraida tuena laceyana ladaila anabita jayunda ayrina anaima merylene anatasha aunice amberill donalle angley aramaa lorelia karling darreen astani alizell marwillee niaom tracis brielie janiette sharranna catherinna takaysha asla janelynn anestine yanica amyela jatha kassida sharonice berdi brookset gilla amarice jamilly naora latraina jamane sharanie shadoni aramina ashaura antosha margon aeria oleana glennidia eusta shachell georgiannan alria laneen lateah jenas jaysen araha allyella brendall analayia ardini adyne arima youna anadeetha denassia kelbertina kerrilla latila melanis aurena laterita aliotha yack jacrist rickella anijea aleyotta sanaida aelynne samell alealia jaccio abreah brylla ameran gidva detha laurista abriell margerat adellen harty amoniya beaya anaela milarie leyalony aruchell aleyahna passa charoll yanisia ahydi janeill angellin araima anapola tihari rayela jaleighe jamilyna imila marisu tonyana emella allenie sellie alniese anaine ledon gerra lakiana britla suana anamaisha karreen anejah sharneil arailah ellone antonishia analinda alsi sananda bolla arua arberlyn naomina lorelis aluane lawita branni camalie lune chorra mariala alamarie ariandra yanea arvanna timie alyxani keirsta anallie deciha jacis shaniko alaelia amechaya chaunita althi ayetta dellista albi latiania margerl charris mauricka sharnene famida minora mishi marha anyoma marlori adamena takrista annaina maryalina aloche sanaja amothia amelli marisi ayha anassie lanara nanae alleida adalann hadora aterraa aneke analiston haylene mirgarett alaenia yanella amigaya carotha elwana anama taloni lakierah shalila lynnna arlanie janyka abrahli urletta amarila magisha tylinn anamberlle javena antonell adyle anaros jananna damaine arithi shamarina cajdy arlora alexsha ailer antonis sharianna dairia arrisha saraisha laniisha charlolenel armil jeryle rosiah aenah armenice arusta alenie lavauna bierra amelyna gabriells alanisha tamigida rachaela jaja aressa nickenze latrally shassia daysida bridann jennyn takinda anamya aleahann agin jatya dalora tamadi kenniela jazmenia anelisha aalynn annalita sarahna ashericka bernica alliva nathaona shaneena alenne jerricke shaneba sharring ardi arikia sielin jackhie atallie morri sarangellae myronda taralie shakeesha alaima yanny aleahna abynn jacolla sharrinta anamie jackkhey saylen carrisha angeleene sharontce jilane mydie armila annaiah audrell gery jackshe aricelle sharlom larria latonora latraine shamicha allinia britanne kenleen anglena destoney ainsi alayya gindi sharylin jainesha janeana ladae markinza anamai rosis karay cherriann shaventin shavin taizia saraira anestina janeea jannisha alicola brillie aleaia daysita mitris delley tametta mariara amakia tuieline danelyn alyisha annelissa lashila arleis amerya lomia latidya anaol bra charlston janeica latarina averia ahta damaisha lenei jacol madylla tielynn alyron marcelinda airia janailee leonoma aarene jaran anathale margarne latoura marylouan laja ayonnah abreng margarettes araann alyoria samandra analeeya ahnina batty colla almila azanetta mariley mergarn harlington hannelle ailanna tambyn milden joila laigen shadance ailiah harri arache moda abrena kimberlynne cayda annalyssee jacolee analania cataria marusta abbelle jerelynn braicy anigia maryanni tikilah laurigan archa taliisha arana amilana sharleth anamona faryna amille amiana abbeline yuis farri aroni magah ashali carroo saraine nady sonell janasa alichon carollene lenalda aleann trinsley marusha mariamari lanine charlou drackie allitha karea aramae gigisa mitzell allizabeth anataisha sharinta siela brancee ahriella arionni shanellin lathanya arcanten marriell aarrah sharelie tickie laraena anmaria jachel bernadita kennata sanamya lenie marchon marqueria abalis hartha patha liliza arisi aronie brieli anambaria airana alfrieta shanelyn sarayna sharondra bellica teili nafie aleee luber aishon jacksi layven yalila shawanta mitce karlean desoraha antoinettet patyra anania veliana yollie fandie marpera ladea latrita salyn gemari laramarie mitzalle imabel alraine belizel jackyla amberline geneeve madylene karmelle temma davinica adelinda anyella annija jatani annami alagaya avica deanjie donalie desteree jackerine janynda anathane maalia rozaina aimya tomasin madylinn aderia latandia aracelin aarone meryana jackenzie shanalynn anamella geora lavenie daileyanna margoletta brookse sharlani amarean tamiira aluwana archy amatha amellin allyette analana brilla aleri lameerah delysha lataneira lebonna iusha shaylena chayli ameighanda janali jalanne jozence demaisha aleenna sovie alieana jackolannai tereya hartia analeena analishia dessree tanania anaha taneira jastana annala bobbari adann shathya aisanna sharyla aylisa lazidy amamara aatrin mardelin lertie imona analista ameleen daranna sarana lavante shareya britonna aleeahna tarani anaonna jozen elliny sharenice chassa keilene shawita marfah anifa nahlie arandra anabelline margarettam aluisha albine jenniffryd anamira larali rosah alejandr lanella shassandran aleala tanaira eleona janawie laceila elbina sharontina armandia arema gaylie viloha shaneita jahaya marjela twalynn ameil anathia araine ambari arenna amerisha jackko rosauna araisha britnea harmona vernda adyna faissa marithera nastora cailene haroline ananna ashlanda leeia lanatin antoia aligan rosen abaline ramana anassia lackina amerida jackka tamida lacayla geordobel charah sharolanne alrana aliota lafinda shastan tiaina nealia arada jennamari anaon denely jalaira ainda anneliss lamida sharenia arriann delira salonia dalain berti bernadetha annakaha milethi abigaye nack astina josipemena jamilea sanie anathal natiah danaera samanna athelle alleesha darriann abina lateganya marlani mardia anamer tonnye alynon anaide ramara amillene allinie sharrin brieleigh miralyn abelia ander lanana miraira mariamara ainna santora faisha aralie analara latiasia joelinda delyah phoebfa syleen talori donall alalie lashaela alicis kaylenne latiira janana araetha anrie janaley amandi jamyna bellie birdiann borby layasha nahi donamary darleine adailah marity rekala mariaman adalan maryaella cossie leonom monara desaraia abban maryjon aryson alonee aramena arili jahlis abila lovanne janaeli georra merilene arinetta janethe labrella ahnony anaunda mariabellee demarist ashayra amaranda aally kharlis amarita genisa sharnen sharolin jovenice honetta brithianna cazania sonisha anabera chaile trinida shatayla alberian latitha genessia jackron brieilah alfana amaijo denelia janawine akeirah markelia lachee aelisha comina sharalin susmarie naicia mariaunna abuna anersta delendra aligori anastasea darelynn shaerie amigari jacrourita abrila lanaha lanison antoney aniona perrita anabin laniel ellistina georri janeita talany sharesha araeli arani antra ammali helinda cartie genelie sindiya sharond kaytrin brieta aleyanna aryna aliceya thatia zamana brookla lacella anhala aishella matilie anaiva olivetta amilena myat aishana mollyn naiko abreena armaine janeela fabrianre alegann averin malaira alacie manni allino lorya lasann angaline nailynn marcellen jaccy antaya adaina jally annata shanter marryann karmeline yelodeta tonny ellysha arae jacreyia anaelis laca matielia alizolia allery roana lanani joyvon anevetta hathie sotha racha latreel binthon aneana lalarine jeysena myris aydell leonta antoiney aleora lendell carmalene darrianne ambil anyona rathe jaccayla anaiia mariamane lacis alaidra honna leonon aruona airisha bridyn yessie enea amillin chemirah melie alalia saraana nackie annama laurabella lauret anastasee gabreela devrina dawnon aymena joma alegana jameena alyyah abbella sharranda bettyn dalera annalica arlonna tyl mathelle abigaela denelys sharmana emeriann athela patris yelia aryleen trianis sezana abigailea nadisha mitcha anathala talaei elaira rozabella ainib athelli beliza marmiel laiquita malynie francio mickisha carolla ashasha alann maruste alexani eleida antorina laburla leontita ammari awonna jaco arala aluulah sharont liannna amitra marmara coreah marvelita illena arinita slaria janabelle andrie alleyann adaliaann tiberly amaniya ginda adisha alexandha antoinettee delliana avria britna sonalie donali ambyrn karmelina alleri brianta ancrita satrya suza rachalyn alamia annalio mekaya darlon janili elizabene sharul ailinne sinisha annafiah cillie laora anahela brancty airiah arelynn arantha jachonda jacoline latong amarana alyya santica aarol ardeline jacline alarya alliena ramany fanchesten jackenzee sharranne shameena ladeesha johnece lawre theata zyli daysey dellei sharnesha laiko marxa jackhi beard tamaisha nayera amitora janeetta anami geralie analyra alaen anahty nahana lacea avise airara charlsee mitari alliesha arachon anamiya charalin lakiia takinta fanchea raila andrela dellianne altrita margrad timith almai alicie shamilah anaita alandi tailyna talora janailah anaora anamena deanjni valenie tomai alahya amony shita lagila margarettal tanadia yesta jennali lacrie kayyla brielani shikola saraita aneba meribel fai drousita aranice eugane analissia thereita camrina amyka tavana loret laanesha taibel harcelle ralissa ayyna ainlin mista sharonis evala arrole taranie sylvena ellyen ahnai hadayna anarita hadona latyla annameri mitchella arallis yollma harna tijaanna rosannah annajah lynnlye jerinda aleenann valenia analysha nivie verlonia yanetta journelin farrria markitah kharline sharaina tiligh amileen antepha taneta adae aeriah jackoll amitri abyra alexonda aymila cayanna tersha arany annatam alavia mathaly brichia amyr mariamar arraanna lacha blossou yosezaria lezali sinni sharriann mageli merricka abreella antoineth genasia myrti laterisha alinida lacanda josemina lanera deanjmah dameah leontia loralin antera suenna algann amae markeelah aydea esile raheen marbrie marbelle annasta lahelynn zarabella lebortha bridan arudie nanara ahmaika ardelinda elinorna shartine yane caylynne jahlie amanetta sherrit caralin brida arrae britannah artelina amigan sanaica jaeler lameta alixine anabelah shagunda marjayah nah brennell marfrien lavane aterisha latiia amabeth ladontra aranny ayuly haria arnina bryl cherrisa yolly sharnei johnet alangell veli aranni shavane takayna jaika shawena zyta margeron layta mictori ralann rossina arthana camonia jahnie amamiya miisha loyla jochelin shawane shathara astoris charlota bernadeth sharrine lanori janail allenia aroline janta shaunty takhira miriamari daida shrinetta abrene kennida ammilyn arranda karitha avelee breie laday abini shamida deanqua alalisha terriz narisha chalisha wile aludia lauras waleni marisolle lanelia aubril anafa abbigae allista ardila brendyl joseve gaella shreye arlanna araida lakintice tresla ellenia aludena donallin annakar maryalyn lorellie analyina arlenie anra denellia enalis carmiline anabitha sharani anatha laraila ananique jackh markenna anataria naha alen samelia ahla badelyn sharenne anamir deirah marcenda allenis mellia annalien brithane ketsha allini dassia ariesha leanta aliotta jackkri lucrette marabell zytara dellis jeneana jodalena allijah lelanna brielene rebela jennon merill aliche ladyn gizabelle adeyana tanifa betsa joenna brithani rangel thed loue aracelyn demida nayiah laraa harche amakola shawnelda aleengana allin allija arenia sinesha aramand suya barlissa aresa meralda sebelle antoye brinelle abrelle rabina latiica erlyn ranelli arelena tifera tembi alronda aunida arila mayry josifelin ayvanna alaniah latrida destonee alixandera esterla farrica danivi ambyn codean lorarne josejana telona karrana marigis ashaon annige amaril dalita altone alliysha treala aluanna ahmaina sharence aannah ivyn alyoma aaylin trayia saranta tangike ambara briden sharelyn annakayla araah aleeanna analika lelodia ardona aola josea kellianna margern areitha ayaira lammie kenneda aureta telania laranna liston aylanda janeque analita naita myrty farnie sharlina lovon arinida dareline azanida fredria darrinda sharrence yazpe a neitha abigane is devria janton faunie laha yuris abrita alloni aailia telora lashantee salie vanni dameeka margarettel embar alimona siamaria esteja janycre damea lakindy sherisha amonia sharnida shanani enaiza aramani anabetha matilia ligana ashondra danellin deshanie mirgarette arama sameelah lafrae anatala abreela alizella alsia sharoline abraina velle athali antoyne wilzenica shassie briquetta arsann anamaa margrinda emberle jassa lanona sharet natiesha annaporne sharelia annaisha latou annahta ardea lakeigha farea lalissa arabi merrike alesta alixiah harcita brittaninas shamaita kandina sharalie alexandy jelinda braedin layko masta ranica margara aalanna genalie iononna tamiela jackri zyna aise ahma latamisha forea sanica dalenia jolenia ameda daroni armaana aidi sharelee arabin laton anamberle amberlita annaha mirilyn ailinna harthee lolinda aeya jorette irika micae carlou latreah sharisha chanton margarettas ananta erily alynora anaronda braida allica arkeah janiela maryalisha mirgaritta alijory shaita aracia manore johnei sharean tanalia katherinn alizema sharanna carisle jeaneille charlyda zataria harthon joden antison karlenia laralynn shatandra alagori sharanne alrie shaminta mirrianne keneya brookella aizie amiko araanna anavia rennella janathon sunesha tannelie sanasha emania deluine jacoleen amariga delther anabila bridky telaa hartina latranya ailianna lashaine barrilyn eugenisha allyni laiquetta jennamara anafie marisida aronica arybelle brittnah allinda anastezia rudin carvonda sharle alyora kareann doraana anakie vanasha ameren brookt susta marcelind anastaessa anathilla markeara tumisha rosalis amanica annastace arionia surana genessih latoa aesena deaya dennica amaina arrina naasha lobin elessia leonona anastaela zinetha carmelinece laureta armia aisille areka yuana abyla alalis lavaunda madelynnn sheriell angelen jacqueliner marlonda tabuna clou tamilah lesla sharit cattieli anaona karira fayra malivia bethanene alexandi marjanda sakirah cheari tijonie bidni sitanna maca sharrina sylvetta marhika brandicen aimah shantani sharny bassie miron alnie autza corlinda senaa ayula rossida amaran marialina fronda tanniela tijorie sharnil seeara leonann ginnetta mignona nickon talysta larisia shaneet talyda aillin sharyline alig lakiena sharneld toneen alixanda kathianna sineta sharloka ailya sharneta amiith alleyana josabella jaziza valani agiverna jennsley mitca brandida elbin lanaida marmanda adye eunicka henne jackkayla vanti analassia enaina aera donira shantere adretha brittanyn mariamanda anagila gignell nahira lakinzie marotha aruella aliiah lawonia annati shaera anafi darritha arlenia davinda samila carrosha starlie ramiko laasha marma aremina aleenia markaita aatha brooksy dameya lovelie antoneda damaig almara brendel zabrell abigae deline bryonda aranie takaisha saye sharneen sanesha aleke barrianna amarige aratha sarasha bellle nauta lajua pathan jorilyn mitzey valea darsia kamelline lakinda anamay shariell jackrit anataya laurace shamellia anaina gerritc areita carther danani angelind brionta dellissa melli lauralinda eleenora aramarie delza lennerda analine atalica anglis laona amon takimah araette amanika jackkia analeen dellina areline aubrill mister lorenta mashara arabie aleyonna azucie anaura maryonda sharathi lacaria yazzie lealor adoni antisa alyurisha aena leanell zanika aegann carona alega abaya analesha jasanna aarice sharelynn asura dalie aleeni jannique suelle ejana alleyonna amarisha johneth trassia amaricka naitia amygay sharasha alizora annabeta elizida emellen amaabela adelain adrah laice marfrida raema sanaika annamara lafera eudonia donaly car maralie anamaree damida shaja tambera ashela turena jennella jeritha deleni alyysha sharnana alra alexena alivita antoina maudi arment lolie marvinna ashaila mariami alwanda aydie bricey rennell mikeara allae alalanda alaniia abagela analyisha ashawn ladani anastora karisna lesleen miloni abona amikola carlot ticky analeee yakeya jordyll landice timina latah anamayra marima delanni miriamande amanella darsa teryli ahlisa shariona aryne kenoya aunita darlanna arieanne jayzen jackry deawanna stapha tanaelei jackha alezabeth alimia sharlia margarata brenell timah shantone sharriana ailenne journa adaida mariamarie adaila antony stepha alexio brionda lataunda ercilla saraili enaisha arice jennne caritha arlessa loul arrist camon arida brittanyla marzaell sannell hazsli latreesa trita tonyra alyotta anera aliko faitha margiadesha margarettar alleanna maroa jackola antorine shynna annafi jazmah arlonni latraann aleyona laonna tiaha johnis margarettae sameri alyhna alekia lourenda derleen laniffie harie harcia marylore delliss jaane alexanta lakynia sharyll aitha mardelyn janata alixandi tanani bethana meritha ralisa anriana amarida shawnter sharriell azamina aracie lauralin yestine halin sharonte darcha srena lanassia garrit akinah timeela lamita aunicka allenora talari lamana cartis sharnella shamene eleenor tanequita johnean phelia talaria ashaundra aral jennami amanny jahelisha anauria shawrence armianna marisuson alexandrial dakie deshani brenty kamita laceya janifa daresa jonace maudia deanzee ajilynn analaiah elizon hartine timberla lava alixni aleizabel aleonora shareelyn alielah amanola carta josefia denelli brithy arauna delra aday jannella brittanne analeeah taniza ainya malpha yella adhia jalisea jamen amelynn amamia alliela anamarit trislyn magari marielyn arvinne donnaton cartyn alejandry allinor destineigh brylene deneli alfino anakayla jackrie jaelena bonnella carila sharonder ekha micola landie ameela albaris naronia jenisia shatania tacquetta jamiana aliisha analaina yoma layty carida aneja maalah arylin mikenla marysanna araley shareyana mernetta haligha sharmilyn laraisha meryna karringtone emylin armalie lakola saris ashan mardani ceily ionora alabita harvine sarahanna ginn brittann sinnil harlingtina abbyla aleye jokayla alariah nancros merilla analane marelia vennis sharslynn lateri shorrie anagisha anateria shaito alava jordaleen alazya teke abita rosanni lefaria anatara naydi shamaina jaxy yulean bryleen josisha eunell tamighel alakie camena alanica anamyah analynne anamani mariabel anajanna aricke leonerde robery alyesha arle aleany jacree manah abrilla alrianne daera anikora condel sharonta ayara tannielle samanya ariannna jennisha braye leri alnina trenis tyrri ahra airena shawnicia donina lataha alnibet margarettg brolene derris lanaila ausura berlanda naidi ashlah tallee sudea soniia shawanter adelan jackris lalanie layelene alanne genessey lashani dezaraya yunne walenia marielee kayjo allynne tresi analaine annelin latiisha ahtina yasa tameta ayarah amaisha artima aisonna laterine sharrinda allira enasta jachell analla mitchi raheli anathily arazia harrit matchelle hylene tumi aramari lacrisa lakinty darsella araen antonini raitha destineigha sharari gilpha mangelene katalana laita deanterina fredra litra emilian amillee aleenor alathia abbela arishia taelie altis marcal sharelin amygan arlan anann yolla auguad latriya yazzma nasina susisha brange calonda khati satha alijanda rosente deayah lenneth eralin chharina lakindi tangana allei autha brodetta amonya angilda arison eugenis anao tanabia amanite jamaina araa abbale nageth araleigh cherris abbalyn taliiah shaunten mirda katabina isadoma anniza taraisha miriamand arell marchil sharnylla rateria jastelin delaria lanaie sharnie tamiza sharilla jaralyn makiera sanasia jackayla jasimyn alaika terriell anarina airy brillon sharton alliia genevey arenesha rosonna aita everle saraeli enali carmelinda alkia braitha latani tikeira marzaha erit janycka janane yarinda marielli shaniza daralin lafla anathana anavie rothea analitha darlesta amanya delliya shaulita alone arula mikinda aaryonna ashahla adiona elizett amonina sonamari timma maryala anamanda alivina trinibe lenella brique shareli ayaya latra anazja analiesha analona jacha aleanora sharti ahlie lanieva arieann sharylyn micaayla neja analiana davenne alizabet sharrymae charida alleeni sahlon abbel surielle lalina lataree arachell shaibre alny analica timona anahta maryce jennna alixie ancottha arthen ameriann jannee janamiya ramica margay lellana mirced alatha jerriya alleree magdilyn azona anadeana adhely tallisa carminda arane tauria joyna mikensie lataniah delipa alander tackha tamigi amillyn yamilia antasha anabalin alaha alonora analassa jackkha astaira mikhari leniela adelila brierna delliann yesea karal lawnita latanna am lawyle ahmaiya srevana marza araney aberah anabaha amaridi ginnida aderica antessia reane monigida luina francen leonell brantera suchelle eegan salva yasima jayunna aralina ratana josepa areuna jeomeri briera donaldon arbita jacqual siopia janatha adalica aneaha lamie cartia age amelyn darlice timoni margian ahmaisha roshia batie avela janemisha alizett jordence meriana analnie geneann mardeline elonia darneen jahann mareitha arachi deanjia jackrisha franche catonia mardela shanterina almil pateria lawrine maralys allania laylora maalie shamiel montee takha talanie shawannie mikari janneka rakinda lamiel nelisha mirgaret anambla leonanne anafina marten torena tataisha loine deisie analanne margarea delys alme analija anabala sherit tresiya sayna arieda adaena anausta avaina faonia aanielah moniza cassa evelinne jacoda janees richay arathia allika aneasa darlonne alnya miriell audelyn lelora anastasa grethana ananisha aleston talaira angelinda alahi arissia anamaika arisia braila jessis lisber jaanni gillia shahley anail alizene mikinja janaika anasteza anamaira srinsley deli latricka tamice denaira britina laneila miriann georgiannal soree laija aileanna shrinta aleiva almerana laurasa tieana shawnara marymary louisha darlea myrelle taklynn arionn arnalyn aleiora abryah evanda arkira abyna aerita alrena abigaila billeen harter janamarie janymi brithyl alyen gilsa loraline amamie arise arabina timana ahnnna halinda marcelin katila dontell tamamia aleannah voncen charrisa takayia lantesha anamisha arenis rishia althya brindalyn tereida amonita avanda aleyotte dalyna joita maillee yulista anamina damaika ailma carylin aleice yune shawnica nainah tallah bradelyn marielynn alinia alices sharantha yurita deritha vantoria amaritha fassta naileigh amonica markaisha audrian roslene shanten britha lattiana jayha jonave jameeghan marriella eilia shassa darlye lahlia ardin talery alexyah kerranda lamila janicca bathyl jackylee alinge jaceynn merya ehigia avamee deanja janawana arasia aora saydia jachlene'"
      ]
     },
     "execution_count": 102,
     "metadata": {},
     "output_type": "execute_result"
    }
   ],
   "source": [
    "' '.join([n for n in names if len(n)<12 ])"
   ]
  },
  {
   "cell_type": "code",
   "execution_count": null,
   "metadata": {
    "collapsed": true
   },
   "outputs": [],
   "source": []
  }
 ],
 "metadata": {
  "kernelspec": {
   "display_name": "Python 3",
   "language": "python",
   "name": "python3"
  },
  "language_info": {
   "codemirror_mode": {
    "name": "ipython",
    "version": 3
   },
   "file_extension": ".py",
   "mimetype": "text/x-python",
   "name": "python",
   "nbconvert_exporter": "python",
   "pygments_lexer": "ipython3",
   "version": "3.6.1"
  }
 },
 "nbformat": 4,
 "nbformat_minor": 2
}
