{
 "cells": [
  {
   "cell_type": "markdown",
   "metadata": {},
   "source": [
    "# Use a Recurrent Neural Net to find Baby Names\n",
    "\n",
    "I need a good name for a baby!  It should be unique, but not too weird.  Use an RNN to find some plausible baby names that have never been used.\n",
    "\n",
    "First get some baby names from the social security administration:"
   ]
  },
  {
   "cell_type": "code",
   "execution_count": 1,
   "metadata": {
    "collapsed": false
   },
   "outputs": [
    {
     "name": "stdout",
     "output_type": "stream",
     "text": [
      "--2017-09-15 22:51:17--  https://www.ssa.gov/oact/babynames/names.zip\n",
      "Resolving www.ssa.gov (www.ssa.gov)... 137.200.39.19, 2001:1930:e03::aaaa\n",
      "Connecting to www.ssa.gov (www.ssa.gov)|137.200.39.19|:443... connected.\n",
      "HTTP request sent, awaiting response... 200 OK\n",
      "Length: 246 [text/html]\n",
      "Saving to: ‘names.zip.1’\n",
      "\n",
      "names.zip.1           0%[                    ]       0  --.-KB/s               names.zip.1         100%[===================>]     246  --.-KB/s    in 0s      \n",
      "\n",
      "2017-09-15 22:51:17 (52.3 MB/s) - ‘names.zip.1’ saved [246/246]\n",
      "\n"
     ]
    }
   ],
   "source": [
    "!wget https://www.ssa.gov/oact/babynames/names.zip"
   ]
  },
  {
   "cell_type": "markdown",
   "metadata": {},
   "source": [
    "Next, extract the name info:"
   ]
  },
  {
   "cell_type": "code",
   "execution_count": 2,
   "metadata": {
    "collapsed": true
   },
   "outputs": [],
   "source": [
    "import zipfile\n",
    "zip_ref = zipfile.ZipFile('./names.zip', 'r')\n",
    "zip_ref.extractall('./names/')\n",
    "zip_ref.close()"
   ]
  },
  {
   "cell_type": "markdown",
   "metadata": {},
   "source": [
    "Load some libraries, print out the versions:"
   ]
  },
  {
   "cell_type": "code",
   "execution_count": 3,
   "metadata": {
    "collapsed": false
   },
   "outputs": [
    {
     "name": "stderr",
     "output_type": "stream",
     "text": [
      "Using Theano backend.\n"
     ]
    },
    {
     "data": {
      "application/json": {
       "Software versions": [
        {
         "module": "Python",
         "version": "3.5.2 64bit [GCC 4.4.7 20120313 (Red Hat 4.4.7-1)]"
        },
        {
         "module": "IPython",
         "version": "5.1.0"
        },
        {
         "module": "OS",
         "version": "Linux 4.4.0 93 generic x86_64 with debian stretch sid"
        },
        {
         "module": "pandas",
         "version": "0.20.1"
        },
        {
         "module": "numpy",
         "version": "1.11.3"
        },
        {
         "module": "keras",
         "version": "2.0.5"
        },
        {
         "module": "matplotlib",
         "version": "2.0.2"
        }
       ]
      },
      "text/html": [
       "<table><tr><th>Software</th><th>Version</th></tr><tr><td>Python</td><td>3.5.2 64bit [GCC 4.4.7 20120313 (Red Hat 4.4.7-1)]</td></tr><tr><td>IPython</td><td>5.1.0</td></tr><tr><td>OS</td><td>Linux 4.4.0 93 generic x86_64 with debian stretch sid</td></tr><tr><td>pandas</td><td>0.20.1</td></tr><tr><td>numpy</td><td>1.11.3</td></tr><tr><td>keras</td><td>2.0.5</td></tr><tr><td>matplotlib</td><td>2.0.2</td></tr><tr><td colspan='2'>Fri Sep 15 22:51:43 2017 EDT</td></tr></table>"
      ],
      "text/latex": [
       "\\begin{tabular}{|l|l|}\\hline\n",
       "{\\bf Software} & {\\bf Version} \\\\ \\hline\\hline\n",
       "Python & 3.5.2 64bit [GCC 4.4.7 20120313 (Red Hat 4.4.7-1)] \\\\ \\hline\n",
       "IPython & 5.1.0 \\\\ \\hline\n",
       "OS & Linux 4.4.0 93 generic x86\\_64 with debian stretch sid \\\\ \\hline\n",
       "pandas & 0.20.1 \\\\ \\hline\n",
       "numpy & 1.11.3 \\\\ \\hline\n",
       "keras & 2.0.5 \\\\ \\hline\n",
       "matplotlib & 2.0.2 \\\\ \\hline\n",
       "\\hline \\multicolumn{2}{|l|}{Fri Sep 15 22:51:43 2017 EDT} \\\\ \\hline\n",
       "\\end{tabular}\n"
      ],
      "text/plain": [
       "Software versions\n",
       "Python 3.5.2 64bit [GCC 4.4.7 20120313 (Red Hat 4.4.7-1)]\n",
       "IPython 5.1.0\n",
       "OS Linux 4.4.0 93 generic x86_64 with debian stretch sid\n",
       "pandas 0.20.1\n",
       "numpy 1.11.3\n",
       "keras 2.0.5\n",
       "matplotlib 2.0.2\n",
       "Fri Sep 15 22:51:43 2017 EDT"
      ]
     },
     "execution_count": 3,
     "metadata": {},
     "output_type": "execute_result"
    }
   ],
   "source": [
    "import glob, re\n",
    "import matplotlib.pyplot as plt\n",
    "import pandas as pd\n",
    "import keras \n",
    "from keras.models import Sequential\n",
    "from keras.layers import Dense, Activation\n",
    "from keras.layers import LSTM\n",
    "from keras.optimizers import RMSprop\n",
    "from keras.utils.data_utils import get_file\n",
    "import numpy as np\n",
    "import random\n",
    "import sys\n",
    "%matplotlib inline\n",
    "%load_ext version_information\n",
    "%version_information pandas, numpy, keras, matplotlib"
   ]
  },
  {
   "cell_type": "markdown",
   "metadata": {},
   "source": [
    "Read in the name files:"
   ]
  },
  {
   "cell_type": "code",
   "execution_count": 4,
   "metadata": {
    "collapsed": true
   },
   "outputs": [],
   "source": [
    "master = pd.DataFrame()\n",
    "for f in glob.glob('./names/yob*.txt'):\n",
    "    yr = int(re.findall('\\\\d+',f)[0])\n",
    "    dat=pd.read_csv(f,names=['Name','Gender','Count'])\n",
    "    dat['Year']=yr\n",
    "    dat['Name']=dat['Name'].str.lower()\n",
    "    dat['Fraction'] = dat.groupby('Gender',group_keys=False).apply(lambda f: f.Count/f.Count.sum())\n",
    "    master=master.append(dat)\n",
    "\n",
    "gender=master.groupby('Gender')\n",
    "boys = gender.get_group('M').sort_values('Year')\n",
    "girls = gender.get_group('F').sort_values('Year')"
   ]
  },
  {
   "cell_type": "markdown",
   "metadata": {},
   "source": [
    "Next, inspect the data "
   ]
  },
  {
   "cell_type": "code",
   "execution_count": 5,
   "metadata": {
    "collapsed": false
   },
   "outputs": [
    {
     "name": "stdout",
     "output_type": "stream",
     "text": [
      "            Name Gender  Count  Year  Fraction\n",
      "11093      haile      F      9  2016  0.000005\n",
      "2071     lovenia      F     16  1938  0.000015\n",
      "1006       marti      F    124  1971  0.000075\n",
      "29496  keanthony      M      6  2004  0.000003\n",
      "23515       bode      M      8  1998  0.000004\n",
      "20093   cantrell      M     15  1996  0.000008\n",
      "31416    kehinde      M      6  2006  0.000003\n",
      "12517      brian      M  23053  1985  0.012478\n",
      "3924      jannah      F     27  1995  0.000015\n",
      "24941     alhaji      M      5  1996  0.000003\n",
      "6141      terisa      F     11  1979  0.000007\n",
      "3421      memory      F     19  1973  0.000013\n",
      "9105     jajaira      F      9  1994  0.000005\n",
      "15868    talaiah      F      6  2004  0.000003\n",
      "12069        noe      M    195  1978  0.000119\n",
      "20729      nadav      M     20  1999  0.000010\n",
      "15468     joseph      M  29836  1991  0.014773\n",
      "28772      adith      M      5  2002  0.000003\n",
      "8775      gaynor      M      8  1919  0.000008\n",
      "22536      riaan      M     33  2013  0.000018\n"
     ]
    }
   ],
   "source": [
    "print(master.sample(20))\n"
   ]
  },
  {
   "cell_type": "markdown",
   "metadata": {},
   "source": [
    "# Inspect some names over time"
   ]
  },
  {
   "cell_type": "code",
   "execution_count": 6,
   "metadata": {
    "collapsed": false,
    "scrolled": false
   },
   "outputs": [
    {
     "data": {
      "text/plain": [
       "<matplotlib.legend.Legend at 0x7faf3b8d7b38>"
      ]
     },
     "execution_count": 6,
     "metadata": {},
     "output_type": "execute_result"
    },
    {
     "data": {
      "image/png": "[encoded data removed]",
      "text/plain": [
       "<matplotlib.figure.Figure at 0x7faf40468a20>"
      ]
     },
     "metadata": {},
     "output_type": "display_data"
    }
   ],
   "source": [
    "names=['walter','james','jacob','otto']\n",
    "colors=['m','b','g','r']\n",
    "plt.figure(figsize=(10,6.2))\n",
    "ax=plt.gca()\n",
    "for name,col in zip(names,colors):\n",
    "    ax=boys[boys['Name']==name].plot('Year','Fraction',\n",
    "                                     kind='scatter',logy=True,\n",
    "                                     c=col,label=name,ax=ax)\n",
    "plt.legend(loc='upper left')"
   ]
  },
  {
   "cell_type": "code",
   "execution_count": 22,
   "metadata": {
    "collapsed": false,
    "scrolled": false
   },
   "outputs": [
    {
     "data": {
      "text/plain": [
       "<matplotlib.legend.Legend at 0x7faee7de5f60>"
      ]
     },
     "execution_count": 22,
     "metadata": {},
     "output_type": "execute_result"
    },
    {
     "data": {
      "image/png": "[encoded data removed]",
      "text/plain": [
       "<matplotlib.figure.Figure at 0x7faeda61be48>"
      ]
     },
     "metadata": {},
     "output_type": "display_data"
    }
   ],
   "source": [
    "names=['thea','erin','ava','theodora']\n",
    "colors=['m','b','g','r']\n",
    "plt.figure(figsize=(10,6.2))\n",
    "ax=plt.gca()\n",
    "for name,col in zip(names,colors):\n",
    "    ax=girls[girls['Name']==name].plot('Year','Fraction',\n",
    "                                     kind='scatter',logy=True,\n",
    "                                     c=col,label=name,ax=ax)\n",
    "plt.legend(loc='upper left')"
   ]
  },
  {
   "cell_type": "markdown",
   "metadata": {},
   "source": [
    "Find names that are <0.05% but have been increasing recently and are short"
   ]
  },
  {
   "cell_type": "code",
   "execution_count": 66,
   "metadata": {
    "collapsed": false,
    "scrolled": false
   },
   "outputs": [
    {
     "name": "stdout",
     "output_type": "stream",
     "text": [
      "Name\n",
      "thea      0.807795\n",
      "freya     0.715218\n",
      "remi      0.711081\n",
      "aviana    0.648063\n",
      "margot    0.637247\n",
      "ariah     0.627236\n",
      "saylor    0.611804\n",
      "amina     0.591874\n",
      "maisie    0.591520\n",
      "lennon    0.577528\n",
      "carter    0.570391\n",
      "ariyah    0.565308\n",
      "zelda     0.564787\n",
      "river     0.564308\n",
      "adley     0.541589\n",
      "amara     0.538825\n",
      "poppy     0.523006\n",
      "jessa     0.517731\n",
      "blake     0.506577\n",
      "milani    0.495600\n",
      "Name: Delta, dtype: float64\n"
     ]
    }
   ],
   "source": [
    "namesnow = girls.loc[(girls.Fraction<1e-3)& (girls.Fraction>1e-4)&((girls.Year==2016) |(girls.Year==2013)) ,:]\n",
    "\n",
    "name_piv = pd.pivot_table(namesnow,values='Fraction',index=['Name'],columns=['Year'])\n",
    "name_piv['Delta']=(name_piv[2016]-name_piv[2013])/name_piv[2016]\n",
    "promising = name_piv.Delta.nlargest(30)\n",
    "\n",
    "print(promising.loc[promising.index.str.len()<7])\n"
   ]
  },
  {
   "cell_type": "code",
   "execution_count": 65,
   "metadata": {
    "collapsed": false
   },
   "outputs": [
    {
     "data": {
      "text/plain": [
       "(array([  1.95310000e+04,   8.94860000e+04,   2.20394000e+05,\n",
       "          5.75725000e+05,   1.43163000e+05,   5.27260000e+04,\n",
       "          1.73980000e+04,   6.77000000e+02,   4.98000000e+02,\n",
       "          2.26000000e+02]),\n",
       " array([  2. ,   3.3,   4.6,   5.9,   7.2,   8.5,   9.8,  11.1,  12.4,\n",
       "         13.7,  15. ]),\n",
       " <a list of 10 Patch objects>)"
      ]
     },
     "execution_count": 65,
     "metadata": {},
     "output_type": "execute_result"
    },
    {
     "data": {
      "image/png": "[encoded data removed]",
      "text/plain": [
       "<matplotlib.figure.Figure at 0x7faf26a02550>"
      ]
     },
     "metadata": {},
     "output_type": "display_data"
    }
   ],
   "source": [
    "# average length\n",
    "plt.hist(girls.Name.str.len())"
   ]
  },
  {
   "cell_type": "markdown",
   "metadata": {},
   "source": [
    "For fun, how many girls names are palindromes?"
   ]
  },
  {
   "cell_type": "code",
   "execution_count": 68,
   "metadata": {
    "collapsed": false
   },
   "outputs": [
    {
     "data": {
      "text/html": [
       "<div>\n",
       "<style>\n",
       "    .dataframe thead tr:only-child th {\n",
       "        text-align: right;\n",
       "    }\n",
       "\n",
       "    .dataframe thead th {\n",
       "        text-align: left;\n",
       "    }\n",
       "\n",
       "    .dataframe tbody tr th {\n",
       "        vertical-align: top;\n",
       "    }\n",
       "</style>\n",
       "<table border=\"1\" class=\"dataframe\">\n",
       "  <thead>\n",
       "    <tr style=\"text-align: right;\">\n",
       "      <th></th>\n",
       "      <th>Count</th>\n",
       "      <th>Year</th>\n",
       "      <th>Fraction</th>\n",
       "    </tr>\n",
       "    <tr>\n",
       "      <th>Name</th>\n",
       "      <th></th>\n",
       "      <th></th>\n",
       "      <th></th>\n",
       "    </tr>\n",
       "  </thead>\n",
       "  <tbody>\n",
       "    <tr>\n",
       "      <th>ardra</th>\n",
       "      <td>7.0</td>\n",
       "      <td>1970.5</td>\n",
       "      <td>0.000005</td>\n",
       "    </tr>\n",
       "    <tr>\n",
       "      <th>eme</th>\n",
       "      <td>6.5</td>\n",
       "      <td>2009.0</td>\n",
       "      <td>0.000004</td>\n",
       "    </tr>\n",
       "    <tr>\n",
       "      <th>abba</th>\n",
       "      <td>6.0</td>\n",
       "      <td>1924.0</td>\n",
       "      <td>0.000005</td>\n",
       "    </tr>\n",
       "    <tr>\n",
       "      <th>ava</th>\n",
       "      <td>156.0</td>\n",
       "      <td>1948.0</td>\n",
       "      <td>0.000155</td>\n",
       "    </tr>\n",
       "    <tr>\n",
       "      <th>aicia</th>\n",
       "      <td>5.5</td>\n",
       "      <td>1984.5</td>\n",
       "      <td>0.000003</td>\n",
       "    </tr>\n",
       "    <tr>\n",
       "      <th>ailia</th>\n",
       "      <td>5.0</td>\n",
       "      <td>2009.0</td>\n",
       "      <td>0.000003</td>\n",
       "    </tr>\n",
       "    <tr>\n",
       "      <th>lil</th>\n",
       "      <td>6.5</td>\n",
       "      <td>1957.5</td>\n",
       "      <td>0.000004</td>\n",
       "    </tr>\n",
       "    <tr>\n",
       "      <th>hayah</th>\n",
       "      <td>5.5</td>\n",
       "      <td>2010.0</td>\n",
       "      <td>0.000003</td>\n",
       "    </tr>\n",
       "    <tr>\n",
       "      <th>havah</th>\n",
       "      <td>6.0</td>\n",
       "      <td>2009.5</td>\n",
       "      <td>0.000003</td>\n",
       "    </tr>\n",
       "    <tr>\n",
       "      <th>azeeza</th>\n",
       "      <td>5.5</td>\n",
       "      <td>2013.0</td>\n",
       "      <td>0.000003</td>\n",
       "    </tr>\n",
       "  </tbody>\n",
       "</table>\n",
       "</div>"
      ],
      "text/plain": [
       "        Count    Year  Fraction\n",
       "Name                           \n",
       "ardra     7.0  1970.5  0.000005\n",
       "eme       6.5  2009.0  0.000004\n",
       "abba      6.0  1924.0  0.000005\n",
       "ava     156.0  1948.0  0.000155\n",
       "aicia     5.5  1984.5  0.000003\n",
       "ailia     5.0  2009.0  0.000003\n",
       "lil       6.5  1957.5  0.000004\n",
       "hayah     5.5  2010.0  0.000003\n",
       "havah     6.0  2009.5  0.000003\n",
       "azeeza    5.5  2013.0  0.000003"
      ]
     },
     "execution_count": 68,
     "metadata": {},
     "output_type": "execute_result"
    }
   ],
   "source": [
    "def is_palindrome(s):\n",
    "    return(str(s) == str(s)[::-1])\n",
    "\n",
    "p=girls.Name.copy().map(is_palindrome).values\n",
    "girls.loc[p,:].groupby(['Name']).agg('median').sort_values('Fraction',ascending=False).sample(10)"
   ]
  },
  {
   "cell_type": "markdown",
   "metadata": {},
   "source": [
    "# Train the Recurrent Neural Net\n",
    "\n",
    "Ok, get to work: build RNN model for girl's names using the Keras text generation [example](https://github.com/fchollet/keras/blob/master/examples/lstm_text_generation.py) as a starting point:"
   ]
  },
  {
   "cell_type": "code",
   "execution_count": 92,
   "metadata": {
    "collapsed": false,
    "scrolled": true
   },
   "outputs": [
    {
     "name": "stdout",
     "output_type": "stream",
     "text": [
      "corpus length: 8172527\n",
      "total chars: 27\n",
      "nb sequences: 2724172\n",
      "Vectorization...\n",
      "Build model...\n",
      "Iteration: 1, Loss: 1.56\n",
      "Iteration: 2, Loss: 1.48\n",
      "Iteration: 3, Loss: 1.52\n",
      "Iteration: 4, Loss: 1.54\n",
      "Iteration: 5, Loss: 1.61\n",
      "Iteration: 6, Loss: 1.58\n",
      "Iteration: 7, Loss: 1.60\n",
      "Iteration: 8, Loss: 1.60\n",
      "Iteration: 9, Loss: 2.33\n"
     ]
    }
   ],
   "source": [
    "# blatant steal from : https://github.com/fchollet/keras/blob/master/examples/lstm_text_generation.py\n",
    "np.random.seed(8675309)\n",
    "\n",
    "text = ' '.join(girls['Name'].values)\n",
    "print('corpus length:', len(text))\n",
    "\n",
    "chars = sorted(list(set(text)))\n",
    "print('total chars:', len(chars))\n",
    "char_indices = dict((c, i) for i, c in enumerate(chars))\n",
    "indices_char = dict((i, c) for i, c in enumerate(chars))\n",
    "\n",
    "# cut the text in semi-redundant sequences of maxlen characters\n",
    "maxlen = 12\n",
    "step = 3\n",
    "sentences = []\n",
    "next_chars = []\n",
    "for i in range(0, len(text) - maxlen, step):\n",
    "    sentences.append(text[i: i + maxlen])\n",
    "    next_chars.append(text[i + maxlen])\n",
    "print('nb sequences:', len(sentences))\n",
    "\n",
    "print('Vectorization...')\n",
    "X = np.zeros((len(sentences), maxlen, len(chars)), dtype=np.bool)\n",
    "y = np.zeros((len(sentences), len(chars)), dtype=np.bool)\n",
    "for i, sentence in enumerate(sentences):\n",
    "    for t, char in enumerate(sentence):\n",
    "        X[i, t, char_indices[char]] = 1\n",
    "    y[i, char_indices[next_chars[i]]] = 1\n",
    "\n",
    "\n",
    "# build the model: a single LSTM\n",
    "print('Build model...')\n",
    "model = Sequential()\n",
    "model.add(LSTM(128, input_shape=(maxlen, len(chars))))\n",
    "model.add(Dense(len(chars)))\n",
    "model.add(Activation('softmax'))\n",
    "\n",
    "optimizer = RMSprop(lr=0.01)\n",
    "model.compile(loss='categorical_crossentropy', optimizer=optimizer)\n",
    "\n",
    "\n",
    "def sample(preds, temperature=1.0):\n",
    "    # helper function to sample an index from a probability array\n",
    "    preds = np.asarray(preds).astype('float64')\n",
    "    preds = np.log(preds) / temperature\n",
    "    exp_preds = np.exp(preds)\n",
    "    preds = exp_preds / np.sum(exp_preds)\n",
    "    probas = np.random.multinomial(1, preds, 1)\n",
    "    return np.argmax(probas)\n",
    "\n",
    "# train the model, output generated text after each iteration\n",
    "for iteration in range(1, 10):\n",
    "    results=model.fit(X, y,\n",
    "              batch_size=128,\n",
    "              epochs=1,\n",
    "              verbose=0)\n",
    "    print('Iteration: {}, Loss: {:3.2f}'.format(iteration,results.history['loss'][0]))\n"
   ]
  },
  {
   "cell_type": "markdown",
   "metadata": {},
   "source": [
    "With the trained model, generate some predictions, then use `set` to find names that are not in the training set:"
   ]
  },
  {
   "cell_type": "code",
   "execution_count": null,
   "metadata": {
    "collapsed": false
   },
   "outputs": [],
   "source": []
  },
  {
   "cell_type": "code",
   "execution_count": 105,
   "metadata": {
    "collapsed": false
   },
   "outputs": [],
   "source": [
    "np.random.seed(8675309)\n",
    "generated=''\n",
    "diversity=0.5\n",
    "sentence='sweet peanut'  # seed text to kick off predictions\n",
    "for i in range(40000):\n",
    "    x = np.zeros((1, maxlen, len(chars)))\n",
    "    for t, char in enumerate(sentence):\n",
    "        x[0, t, char_indices[char]] = 1.\n",
    "\n",
    "    preds = model.predict(x, verbose=0)[0]\n",
    "    next_index = sample(preds, diversity)\n",
    "    next_char = indices_char[next_index]\n",
    "\n",
    "    generated += next_char\n",
    "    sentence = sentence[1:] + next_char\n",
    "    \n",
    "names = set(generated.split(' '))-set(girls['Name'])"
   ]
  },
  {
   "cell_type": "code",
   "execution_count": 106,
   "metadata": {
    "collapsed": false
   },
   "outputs": [
    {
     "data": {
      "text/plain": [
       "2319"
      ]
     },
     "execution_count": 106,
     "metadata": {},
     "output_type": "execute_result"
    }
   ],
   "source": [
    "len(names)"
   ]
  },
  {
   "cell_type": "markdown",
   "metadata": {},
   "source": [
    "And here are the new unique names:"
   ]
  },
  {
   "cell_type": "code",
   "execution_count": 111,
   "metadata": {
    "collapsed": false
   },
   "outputs": [
    {
     "data": {
      "text/plain": [
       "'aaki aan aann adajor adanel adelli adhana adile adisha adola adolia adule adyley aeenne aelee aelina aellee aenna alaben alaha alahi alalee alanal alanne alasa aleann aleeni alelen alelyn alenen alenie aleore alet aleve algana alieme alienn alilee alilen alili alilla alilye alishe alite alitne alken allaha almie alocia alreta alyera alylen alysla amale amann ameed anaere anale analli anayel anc anca andell andith andly andlyn andole andon anelyn angita aniann anicel anilee anille anine anit aniy anleen annena annene antie anyse aquna arane arani arca arceta arcis ardur are area arele arette arier arilee arise arisia arki arle arnale aronne arylea aryley aurina ayle ayllee aylye barena bargee barise belley belli bellia bellie belyne benh benlie benta berare berden berdne berge beria berie beriel berin berine beris berise berlee bermie bern bersa bertra besha betth binda blona brahan brala bralia bramen branma branne brasla breel breita brenne brerie bres brese bressa brete brine brira britha brithe brobel broce bronie brora brosta byle caelle caide caitha caitta caliia camer camina camine canaa candil candre candua canell caneta cani canide canie canika canora cansla canta cantie canton caraer carane carara carcha carci cardi cardy care carele carici carida carile carily carima carira carire carish carken carlae carler carlly carlne carlol carlom carlya carnia carnty carria carrla carse carsta cart carta carti cartie caryla caryne casa cassly cat cata catase catele catell catema catene cates catet cathan cathel cathon catira catis catita catsie cattae cattel cattyn caylar caynal celesa celne cendie cenna centta cerane certa cessie chalen chall chalu chamy chann channe channi charas charhe charin charre charti chenta cherta chila chor chrieh chrinn cilis ciltie cilyn cima ciny clala clalee clana clanda clar claran clarol clasie clee cleida cleine clena clenne clere clesa clesee clessa cliera clina cline clitah clol clona clyce cockie coler con condi condie condy cone conia conta coran corane corcia corcie corcy core corell coria coriel corila corima corira coris corlee corli corlie corlin corria coton cotty dabia dada dadie dadone daie daki dalie dallen dalyan damena damone danale dance danda dande dandel dandie daneia danena darai darane daree dareem dareta dariha dariie darila darily darima darkan darna darnee darsta darti dartia darton darys datane datele daunne delah delahe delar delen delese deley delin deline dellee delley delli delly delola deloya delra delye demae demine denala denda dendre denela denen denil denra deraka deran derana derara dere deren derily derine derisa derla derli derlia dernys desah desala desan descie dese desh desice desie desla deslee deslia destga destia desya dicha dielyn dileen dinee dissa dissha diyah donike donnea donnin dorana dorlyn doron dorria duret duri durina dyda eamie elann elanne elar eleani eleara eleela eleez eleie elelle elenne eleona elete eliena elila elionn eliss ellaha ellane ellell elliar ellita elme elmen elmie elnale elnane elnele elone elonel elor elore elorie elorin elsene elshia elslee elysi emena emisa emonna ene eranda eranie eranna erele erese erya esia esisha esonda estani estina evelle evelli evena evenda evene evenna everne evle fale falea falia falie fanele fanis fanni farlee felia fellee fra fre galie garira geenel gendre girale greior hadita hagady haleis halira halsie hamin hande hanta harra harren harsa harta hasha helani helren hili ilen inie inisda jaca jacel jacele jaceta jacha jacona jadina jadlia jadra jaele jalada jalai jale jalean jalell jalle jallee jally jamaan jaman jamana jamane jandie janena jangee janiea janja janjis janky janla janlla jannex jansie jararr jarene jarice jary jaslee jassha jatha jathie jatra jeelaa jeete jel jele jelea jelee jeleen jeli jelidi jelie jeliie jelila jelili jelira jelita jella jellee jelley jellia jemil jendi jendra jeneb jenena jeneth jenila jenite jennoa jenta jeonna jerdra jeren jerese jerlie jerren jesca jesci jesdie jessha jessl jessla jestia jilia jinne jinnna jodila jodlee jodon jodona jodus jodwa joetha jogi joha johnte jolis jollee joltia joney jorana joriia jorila jorile jorine joris joriy joriya jorra jortie jos josada josale joscal joscer josena joshia josice josli josque jossee josste jostie jrene jretha kamana kamien kamio kamis kan kanena kanice kanie kanni kantie karane karell karile karr kashen kasley kaslie kaslya kassa kasta katele katema katene kater katit katita katsie katyn kavera keille kekera keline kellha kelyna kendie kenee keniia kenlia kenne kensa kenton kimany kimene kimien kissia kiunn kondra konha kylith kyndie kynie kynnee kyssa kyssia laara labbie lacha lachen lachia laciah lacila laden ladi ladria lagie lahra laja lajan lajana lajoh lajoha lako lakole lalane lalea laleel laleen lalen lalian lalina lamie landie lanele lanesy laniel lann lannda lapha larcia laris lasan lashie lastia late laten lathe latiel latila latti lava lavely lawa lawni lawnia leanye lecfa leelia leenne leesia leessa leilen lencia lendie lendre leniia lenne lenta leria lerie lerria leshie lesla lesse levell lickia lide lilber lileen lilell lilver liundy liven livini locfa loelia loera loissa lolha lolica lolice lolie lolina lolis lolyn londe londra lonese lonids lonis lonith lorani lorda lorika loril lorila lorile lorit lornon losha lovan lover lowa lucisa ludlen lune luneva lunoda luse luser lysna maasan madale madane madda made madta maele maert maice maiel mainne maiwne makla manell manice maraa marabe marale marana marane marani marcen mardia mardyn mare marele margas margre margun marha mariie maril marila marile marima marire mariri marity markah markhe marlaa marma marsel mart martae martan marten martis martra martyn marwne maryd maryle masla matert matesa maua mauma mavo mayel maytie meanne meau melice meliia mellee mellen melyn mendre menen menie menina menis meran mere meriha mers mesda metane mienna mil milita milliy milor mine mirie mondie monsi nacone nadel naella najoh naka naleda narie nayenn neslie nevie nilean nilia nilie nilona nine nlin nolany nolien norice onice osela paclha paida paima paimi paira palia palita pannia pannis pasa patha patnie patrie peanna petha peya racees racene racha racher rachia raesen ragie ragire raivia rajoha rangia raslee reenna reessa reier riera rilana rinde roberl robess rolana roli rolia roliah romira rondel rondle rone ronila ronney rora rorana roresa rorith rosah rosani roseia roset rosete rosqui rostia rrzora sabell sachia saelee sahnis saisia saitha sakel salan salany salian salie salne salyce samane same sameli sanel sanese sanil sanina sanisa sanith sanlie sanni sarile sarlas sashai sashar sashau satan sater sathe sather satila saukia sayi sayle saylen sely semi sendra senoni seraan serice sesta shahra shakie shakol shalra shamie shamii sharle sharti shashi shavi shende shenie shesta shilie shisha shojan shonne shosha siella silene sine sla sondie sonne sontia sourie srandi sucel sumis surida suser sustan sylene syndra syndre synith tafera talnee tamahe tame telani telen telie telima teline temena temie ter terny terola tesera thelea ticena tilie tilien tilina tilinn tilyna tinne tinney tirea tisana tisell tishah tisi tissa titha tyale tymani tymann tyndra tyndy tynne vainna velyne vene verala veran versi vesha vielle visha weyne zacha zae zaka zamy zuna'"
      ]
     },
     "execution_count": 111,
     "metadata": {},
     "output_type": "execute_result"
    }
   ],
   "source": [
    "' '.join(sorted([n for n in names if len(n)<7 and len(n)>2]))"
   ]
  },
  {
   "cell_type": "code",
   "execution_count": null,
   "metadata": {
    "collapsed": false
   },
   "outputs": [],
   "source": []
  },
  {
   "cell_type": "code",
   "execution_count": null,
   "metadata": {
    "collapsed": true
   },
   "outputs": [],
   "source": []
  }
 ],
 "metadata": {
  "anaconda-cloud": {},
  "kernelspec": {
   "display_name": "Python [default]",
   "language": "python",
   "name": "python3"
  },
  "language_info": {
   "codemirror_mode": {
    "name": "ipython",
    "version": 3
   },
   "file_extension": ".py",
   "mimetype": "text/x-python",
   "name": "python",
   "nbconvert_exporter": "python",
   "pygments_lexer": "ipython3",
   "version": "3.5.2"
  }
 },
 "nbformat": 4,
 "nbformat_minor": 2
}
