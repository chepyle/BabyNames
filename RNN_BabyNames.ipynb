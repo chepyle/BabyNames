{
 "cells": [
  {
   "cell_type": "markdown",
   "metadata": {},
   "source": [
    "# Use a Recurrent Neural Net to find Baby Names\n",
    "\n",
    "I need a good name for a baby!  It should be unique, but not too weird.  Use an RNN to find some plausible baby names that have never been used.\n",
    "\n",
    "First get some baby names from the social security administration:"
   ]
  },
  {
   "cell_type": "code",
   "execution_count": 1,
   "metadata": {
    "collapsed": false
   },
   "outputs": [
    {
     "name": "stdout",
     "output_type": "stream",
     "text": [
      "--2017-09-04 20:06:03--  https://www.ssa.gov/oact/babynames/names.zip\n",
      "Resolving www.ssa.gov (www.ssa.gov)... 137.200.39.19, 2001:1930:d07::aaaa\n",
      "Connecting to www.ssa.gov (www.ssa.gov)|137.200.39.19|:443... connected.\n",
      "HTTP request sent, awaiting response... 200 OK\n",
      "Length: 8207194 (7.8M) [application/zip]\n",
      "Saving to: ‘names.zip’\n",
      "\n",
      "names.zip           100%[===================>]   7.83M  3.15MB/s    in 2.5s    \n",
      "\n",
      "2017-09-04 20:06:05 (3.15 MB/s) - ‘names.zip’ saved [8207194/8207194]\n",
      "\n"
     ]
    }
   ],
   "source": [
    "!wget https://www.ssa.gov/oact/babynames/names.zip"
   ]
  },
  {
   "cell_type": "markdown",
   "metadata": {},
   "source": [
    "Next, extract the name info:"
   ]
  },
  {
   "cell_type": "code",
   "execution_count": 2,
   "metadata": {
    "collapsed": true
   },
   "outputs": [],
   "source": [
    "import zipfile\n",
    "zip_ref = zipfile.ZipFile('./names.zip', 'r')\n",
    "zip_ref.extractall('./names/')\n",
    "zip_ref.close()"
   ]
  },
  {
   "cell_type": "markdown",
   "metadata": {},
   "source": [
    "Load some libraries, print out the versions:"
   ]
  },
  {
   "cell_type": "code",
   "execution_count": 3,
   "metadata": {
    "collapsed": false
   },
   "outputs": [
    {
     "name": "stderr",
     "output_type": "stream",
     "text": [
      "Using TensorFlow backend.\n"
     ]
    },
    {
     "data": {
      "application/json": {
       "Software versions": [
        {
         "module": "Python",
         "version": "3.5.2 64bit [GCC 4.4.7 20120313 (Red Hat 4.4.7-1)]"
        },
        {
         "module": "IPython",
         "version": "5.1.0"
        },
        {
         "module": "OS",
         "version": "Linux 4.4.0 93 generic x86_64 with debian stretch sid"
        },
        {
         "module": "pandas",
         "version": "0.20.1"
        },
        {
         "module": "numpy",
         "version": "1.11.3"
        },
        {
         "module": "keras",
         "version": "2.0.5"
        },
        {
         "module": "matplotlib",
         "version": "2.0.2"
        }
       ]
      },
      "text/html": [
       "<table><tr><th>Software</th><th>Version</th></tr><tr><td>Python</td><td>3.5.2 64bit [GCC 4.4.7 20120313 (Red Hat 4.4.7-1)]</td></tr><tr><td>IPython</td><td>5.1.0</td></tr><tr><td>OS</td><td>Linux 4.4.0 93 generic x86_64 with debian stretch sid</td></tr><tr><td>pandas</td><td>0.20.1</td></tr><tr><td>numpy</td><td>1.11.3</td></tr><tr><td>keras</td><td>2.0.5</td></tr><tr><td>matplotlib</td><td>2.0.2</td></tr><tr><td colspan='2'>Mon Sep 04 20:06:09 2017 EDT</td></tr></table>"
      ],
      "text/latex": [
       "\\begin{tabular}{|l|l|}\\hline\n",
       "{\\bf Software} & {\\bf Version} \\\\ \\hline\\hline\n",
       "Python & 3.5.2 64bit [GCC 4.4.7 20120313 (Red Hat 4.4.7-1)] \\\\ \\hline\n",
       "IPython & 5.1.0 \\\\ \\hline\n",
       "OS & Linux 4.4.0 93 generic x86\\_64 with debian stretch sid \\\\ \\hline\n",
       "pandas & 0.20.1 \\\\ \\hline\n",
       "numpy & 1.11.3 \\\\ \\hline\n",
       "keras & 2.0.5 \\\\ \\hline\n",
       "matplotlib & 2.0.2 \\\\ \\hline\n",
       "\\hline \\multicolumn{2}{|l|}{Mon Sep 04 20:06:09 2017 EDT} \\\\ \\hline\n",
       "\\end{tabular}\n"
      ],
      "text/plain": [
       "Software versions\n",
       "Python 3.5.2 64bit [GCC 4.4.7 20120313 (Red Hat 4.4.7-1)]\n",
       "IPython 5.1.0\n",
       "OS Linux 4.4.0 93 generic x86_64 with debian stretch sid\n",
       "pandas 0.20.1\n",
       "numpy 1.11.3\n",
       "keras 2.0.5\n",
       "matplotlib 2.0.2\n",
       "Mon Sep 04 20:06:09 2017 EDT"
      ]
     },
     "execution_count": 3,
     "metadata": {},
     "output_type": "execute_result"
    }
   ],
   "source": [
    "import glob, re\n",
    "import matplotlib.pyplot as plt\n",
    "import pandas as pd\n",
    "import keras \n",
    "from keras.models import Sequential\n",
    "from keras.layers import Dense, Activation\n",
    "from keras.layers import LSTM\n",
    "from keras.optimizers import RMSprop\n",
    "from keras.utils.data_utils import get_file\n",
    "import numpy as np\n",
    "import random\n",
    "import sys\n",
    "%matplotlib inline\n",
    "%load_ext version_information\n",
    "%version_information pandas, numpy, keras, matplotlib"
   ]
  },
  {
   "cell_type": "markdown",
   "metadata": {},
   "source": [
    "Read in the name files:"
   ]
  },
  {
   "cell_type": "code",
   "execution_count": 4,
   "metadata": {
    "collapsed": true
   },
   "outputs": [],
   "source": [
    "master = pd.DataFrame()\n",
    "for f in glob.glob('./names/yob*.txt'):\n",
    "    yr = int(re.findall('\\\\d+',f)[0])\n",
    "    dat=pd.read_csv(f,names=['Name','Gender','Count'])\n",
    "    dat['Year']=yr\n",
    "    dat['Name']=dat['Name'].str.lower()\n",
    "    dat['Fraction'] = dat.groupby('Gender',group_keys=False).apply(lambda f: f.Count/f.Count.sum())\n",
    "    master=master.append(dat)\n",
    "\n",
    "gender=master.groupby('Gender')\n",
    "boys = gender.get_group('M').sort_values('Year')\n",
    "girls = gender.get_group('F').sort_values('Year')"
   ]
  },
  {
   "cell_type": "markdown",
   "metadata": {},
   "source": [
    "Next, inspect the data "
   ]
  },
  {
   "cell_type": "code",
   "execution_count": 5,
   "metadata": {
    "collapsed": false
   },
   "outputs": [
    {
     "name": "stdout",
     "output_type": "stream",
     "text": [
      "            Name Gender  Count  Year  Fraction\n",
      "27142      mayur      M      7  2002  0.000004\n",
      "8886    garielle      F     12  2004  0.000007\n",
      "8091   cristobal      M     23  1953  0.000012\n",
      "9204      carvin      M      6  1928  0.000005\n",
      "15595    tarrant      M      5  1973  0.000003\n",
      "20883       kory      M     81  2015  0.000042\n",
      "9191       jerri      M      7  1948  0.000004\n",
      "1669    migdalia      F     32  1950  0.000019\n",
      "11527    refujio      M      6  1962  0.000003\n",
      "464       haylee      F    543  1994  0.000304\n",
      "17699    javarus      M      5  1978  0.000003\n",
      "10784     tylene      F      7  1989  0.000004\n",
      "1522      dagmar      F      6  1901  0.000025\n",
      "17707   macallan      F      5  2016  0.000003\n",
      "6027      jersie      F     21  2016  0.000012\n",
      "3165      davita      F     16  1965  0.000009\n",
      "7184     gurnoor      F     18  2007  0.000009\n",
      "28338     jossue      M      8  2014  0.000004\n",
      "7936       jerra      F      5  1969  0.000003\n",
      "6369        ruta      F      5  1953  0.000003\n"
     ]
    }
   ],
   "source": [
    "print(master.sample(20))\n"
   ]
  },
  {
   "cell_type": "markdown",
   "metadata": {},
   "source": [
    "# Inspect some names over time"
   ]
  },
  {
   "cell_type": "code",
   "execution_count": 6,
   "metadata": {
    "collapsed": false,
    "scrolled": false
   },
   "outputs": [
    {
     "data": {
      "text/plain": [
       "<matplotlib.legend.Legend at 0x7f3a6c675e80>"
      ]
     },
     "execution_count": 6,
     "metadata": {},
     "output_type": "execute_result"
    },
    {
     "data": {
      "image/png": "[encoded data removed]",
      "text/plain": [
       "<matplotlib.figure.Figure at 0x7f3a6bac8550>"
      ]
     },
     "metadata": {},
     "output_type": "display_data"
    }
   ],
   "source": [
    "names=['walter','james','jacob','otto']\n",
    "colors=['m','b','g','r']\n",
    "plt.figure(figsize=(10,6.2))\n",
    "ax=plt.gca()\n",
    "for name,col in zip(names,colors):\n",
    "    ax=boys[boys['Name']==name].plot('Year','Fraction',\n",
    "                                     kind='scatter',logy=True,\n",
    "                                     c=col,label=name,ax=ax)\n",
    "plt.legend(loc='upper left')"
   ]
  },
  {
   "cell_type": "markdown",
   "metadata": {},
   "source": [
    "Find names that are <0.05% but have been increasing recently"
   ]
  },
  {
   "cell_type": "code",
   "execution_count": 7,
   "metadata": {
    "collapsed": false,
    "scrolled": false
   },
   "outputs": [
    {
     "name": "stdout",
     "output_type": "stream",
     "text": [
      "Name\n",
      "remington    0.652234\n",
      "ophelia      0.648767\n",
      "aviana       0.648063\n",
      "margot       0.637247\n",
      "saylor       0.611804\n",
      "avianna      0.605694\n",
      "maisie       0.591520\n",
      "magnolia     0.577816\n",
      "lennon       0.577528\n",
      "carter       0.570391\n",
      "ariyah       0.565308\n",
      "zelda        0.564787\n",
      "julieta      0.547190\n",
      "adley        0.541589\n",
      "poppy        0.523006\n",
      "jessa        0.517731\n",
      "addilynn     0.516430\n",
      "milani       0.495600\n",
      "ariadne      0.488748\n",
      "jolene       0.488532\n",
      "zaylee       0.487759\n",
      "oakley       0.483646\n",
      "elora        0.481632\n",
      "henley       0.467801\n",
      "itzayana     0.458151\n",
      "everleigh    0.449295\n",
      "collins      0.447726\n",
      "remy         0.444301\n",
      "lilith       0.442420\n",
      "braelynn     0.442174\n",
      "Name: Delta, dtype: float64\n"
     ]
    }
   ],
   "source": [
    "namesnow = girls.loc[(girls.Fraction<5e-4)& (girls.Fraction>1e-4)&((girls.Year==2016) |(girls.Year==2013)) ,:]\n",
    "\n",
    "name_piv = pd.pivot_table(namesnow,values='Fraction',index=['Name'],columns=['Year'])\n",
    "name_piv['Delta']=(name_piv[2016]-name_piv[2013])/name_piv[2016]\n",
    "promising = name_piv.Delta.nlargest(30)\n",
    "print(promising)\n"
   ]
  },
  {
   "cell_type": "markdown",
   "metadata": {},
   "source": [
    "For fun, how many girls names are palindromes?"
   ]
  },
  {
   "cell_type": "code",
   "execution_count": 8,
   "metadata": {
    "collapsed": false
   },
   "outputs": [
    {
     "data": {
      "text/html": [
       "<div>\n",
       "<style>\n",
       "    .dataframe thead tr:only-child th {\n",
       "        text-align: right;\n",
       "    }\n",
       "\n",
       "    .dataframe thead th {\n",
       "        text-align: left;\n",
       "    }\n",
       "\n",
       "    .dataframe tbody tr th {\n",
       "        vertical-align: top;\n",
       "    }\n",
       "</style>\n",
       "<table border=\"1\" class=\"dataframe\">\n",
       "  <thead>\n",
       "    <tr style=\"text-align: right;\">\n",
       "      <th></th>\n",
       "      <th>Count</th>\n",
       "      <th>Year</th>\n",
       "      <th>Fraction</th>\n",
       "    </tr>\n",
       "    <tr>\n",
       "      <th>Name</th>\n",
       "      <th></th>\n",
       "      <th></th>\n",
       "      <th></th>\n",
       "    </tr>\n",
       "  </thead>\n",
       "  <tbody>\n",
       "    <tr>\n",
       "      <th>anna</th>\n",
       "      <td>5429.0</td>\n",
       "      <td>1948.0</td>\n",
       "      <td>0.004743</td>\n",
       "    </tr>\n",
       "    <tr>\n",
       "      <th>hannah</th>\n",
       "      <td>295.0</td>\n",
       "      <td>1948.0</td>\n",
       "      <td>0.000667</td>\n",
       "    </tr>\n",
       "    <tr>\n",
       "      <th>ada</th>\n",
       "      <td>628.0</td>\n",
       "      <td>1948.0</td>\n",
       "      <td>0.000403</td>\n",
       "    </tr>\n",
       "    <tr>\n",
       "      <th>ava</th>\n",
       "      <td>156.0</td>\n",
       "      <td>1948.0</td>\n",
       "      <td>0.000155</td>\n",
       "    </tr>\n",
       "    <tr>\n",
       "      <th>ana</th>\n",
       "      <td>224.0</td>\n",
       "      <td>1948.5</td>\n",
       "      <td>0.000131</td>\n",
       "    </tr>\n",
       "    <tr>\n",
       "      <th>eve</th>\n",
       "      <td>127.0</td>\n",
       "      <td>1948.0</td>\n",
       "      <td>0.000111</td>\n",
       "    </tr>\n",
       "    <tr>\n",
       "      <th>nan</th>\n",
       "      <td>51.0</td>\n",
       "      <td>1940.5</td>\n",
       "      <td>0.000108</td>\n",
       "    </tr>\n",
       "    <tr>\n",
       "      <th>aja</th>\n",
       "      <td>194.0</td>\n",
       "      <td>1995.0</td>\n",
       "      <td>0.000106</td>\n",
       "    </tr>\n",
       "    <tr>\n",
       "      <th>elle</th>\n",
       "      <td>170.0</td>\n",
       "      <td>1999.0</td>\n",
       "      <td>0.000096</td>\n",
       "    </tr>\n",
       "    <tr>\n",
       "      <th>emme</th>\n",
       "      <td>84.0</td>\n",
       "      <td>2002.5</td>\n",
       "      <td>0.000045</td>\n",
       "    </tr>\n",
       "    <tr>\n",
       "      <th>aya</th>\n",
       "      <td>52.5</td>\n",
       "      <td>1994.5</td>\n",
       "      <td>0.000030</td>\n",
       "    </tr>\n",
       "    <tr>\n",
       "      <th>hanah</th>\n",
       "      <td>36.5</td>\n",
       "      <td>1997.5</td>\n",
       "      <td>0.000020</td>\n",
       "    </tr>\n",
       "    <tr>\n",
       "      <th>aviva</th>\n",
       "      <td>32.0</td>\n",
       "      <td>1979.0</td>\n",
       "      <td>0.000019</td>\n",
       "    </tr>\n",
       "    <tr>\n",
       "      <th>aziza</th>\n",
       "      <td>34.0</td>\n",
       "      <td>1994.5</td>\n",
       "      <td>0.000019</td>\n",
       "    </tr>\n",
       "    <tr>\n",
       "      <th>adda</th>\n",
       "      <td>12.0</td>\n",
       "      <td>1916.5</td>\n",
       "      <td>0.000019</td>\n",
       "    </tr>\n",
       "    <tr>\n",
       "      <th>renner</th>\n",
       "      <td>6.0</td>\n",
       "      <td>1909.0</td>\n",
       "      <td>0.000018</td>\n",
       "    </tr>\n",
       "    <tr>\n",
       "      <th>ara</th>\n",
       "      <td>19.0</td>\n",
       "      <td>1948.0</td>\n",
       "      <td>0.000016</td>\n",
       "    </tr>\n",
       "    <tr>\n",
       "      <th>atta</th>\n",
       "      <td>5.0</td>\n",
       "      <td>1904.5</td>\n",
       "      <td>0.000015</td>\n",
       "    </tr>\n",
       "    <tr>\n",
       "      <th>awa</th>\n",
       "      <td>26.5</td>\n",
       "      <td>2004.5</td>\n",
       "      <td>0.000015</td>\n",
       "    </tr>\n",
       "    <tr>\n",
       "      <th>eevee</th>\n",
       "      <td>24.0</td>\n",
       "      <td>2014.0</td>\n",
       "      <td>0.000013</td>\n",
       "    </tr>\n",
       "    <tr>\n",
       "      <th>alla</th>\n",
       "      <td>10.0</td>\n",
       "      <td>1938.0</td>\n",
       "      <td>0.000011</td>\n",
       "    </tr>\n",
       "    <tr>\n",
       "      <th>itati</th>\n",
       "      <td>17.0</td>\n",
       "      <td>2004.5</td>\n",
       "      <td>0.000009</td>\n",
       "    </tr>\n",
       "    <tr>\n",
       "      <th>maram</th>\n",
       "      <td>16.0</td>\n",
       "      <td>2000.5</td>\n",
       "      <td>0.000009</td>\n",
       "    </tr>\n",
       "    <tr>\n",
       "      <th>asa</th>\n",
       "      <td>14.0</td>\n",
       "      <td>1985.0</td>\n",
       "      <td>0.000008</td>\n",
       "    </tr>\n",
       "    <tr>\n",
       "      <th>layal</th>\n",
       "      <td>14.0</td>\n",
       "      <td>2003.0</td>\n",
       "      <td>0.000008</td>\n",
       "    </tr>\n",
       "    <tr>\n",
       "      <th>ama</th>\n",
       "      <td>10.5</td>\n",
       "      <td>1971.5</td>\n",
       "      <td>0.000008</td>\n",
       "    </tr>\n",
       "    <tr>\n",
       "      <th>anona</th>\n",
       "      <td>8.0</td>\n",
       "      <td>1930.5</td>\n",
       "      <td>0.000008</td>\n",
       "    </tr>\n",
       "    <tr>\n",
       "      <th>ala</th>\n",
       "      <td>9.0</td>\n",
       "      <td>1979.0</td>\n",
       "      <td>0.000007</td>\n",
       "    </tr>\n",
       "    <tr>\n",
       "      <th>otto</th>\n",
       "      <td>6.0</td>\n",
       "      <td>1918.0</td>\n",
       "      <td>0.000006</td>\n",
       "    </tr>\n",
       "    <tr>\n",
       "      <th>amma</th>\n",
       "      <td>7.0</td>\n",
       "      <td>1937.0</td>\n",
       "      <td>0.000006</td>\n",
       "    </tr>\n",
       "    <tr>\n",
       "      <th>...</th>\n",
       "      <td>...</td>\n",
       "      <td>...</td>\n",
       "      <td>...</td>\n",
       "    </tr>\n",
       "    <tr>\n",
       "      <th>assa</th>\n",
       "      <td>6.0</td>\n",
       "      <td>2008.5</td>\n",
       "      <td>0.000003</td>\n",
       "    </tr>\n",
       "    <tr>\n",
       "      <th>nin</th>\n",
       "      <td>6.0</td>\n",
       "      <td>1998.0</td>\n",
       "      <td>0.000003</td>\n",
       "    </tr>\n",
       "    <tr>\n",
       "      <th>ece</th>\n",
       "      <td>6.0</td>\n",
       "      <td>2009.0</td>\n",
       "      <td>0.000003</td>\n",
       "    </tr>\n",
       "    <tr>\n",
       "      <th>ivi</th>\n",
       "      <td>6.0</td>\n",
       "      <td>2006.5</td>\n",
       "      <td>0.000003</td>\n",
       "    </tr>\n",
       "    <tr>\n",
       "      <th>aba</th>\n",
       "      <td>5.5</td>\n",
       "      <td>1988.5</td>\n",
       "      <td>0.000003</td>\n",
       "    </tr>\n",
       "    <tr>\n",
       "      <th>aicia</th>\n",
       "      <td>5.5</td>\n",
       "      <td>1984.5</td>\n",
       "      <td>0.000003</td>\n",
       "    </tr>\n",
       "    <tr>\n",
       "      <th>neven</th>\n",
       "      <td>6.0</td>\n",
       "      <td>2009.0</td>\n",
       "      <td>0.000003</td>\n",
       "    </tr>\n",
       "    <tr>\n",
       "      <th>axa</th>\n",
       "      <td>6.0</td>\n",
       "      <td>2007.0</td>\n",
       "      <td>0.000003</td>\n",
       "    </tr>\n",
       "    <tr>\n",
       "      <th>afifa</th>\n",
       "      <td>6.0</td>\n",
       "      <td>2007.5</td>\n",
       "      <td>0.000003</td>\n",
       "    </tr>\n",
       "    <tr>\n",
       "      <th>aleela</th>\n",
       "      <td>6.0</td>\n",
       "      <td>2007.0</td>\n",
       "      <td>0.000003</td>\n",
       "    </tr>\n",
       "    <tr>\n",
       "      <th>ede</th>\n",
       "      <td>5.0</td>\n",
       "      <td>1959.0</td>\n",
       "      <td>0.000003</td>\n",
       "    </tr>\n",
       "    <tr>\n",
       "      <th>azeeza</th>\n",
       "      <td>5.5</td>\n",
       "      <td>2013.0</td>\n",
       "      <td>0.000003</td>\n",
       "    </tr>\n",
       "    <tr>\n",
       "      <th>hayah</th>\n",
       "      <td>5.5</td>\n",
       "      <td>2010.0</td>\n",
       "      <td>0.000003</td>\n",
       "    </tr>\n",
       "    <tr>\n",
       "      <th>azza</th>\n",
       "      <td>5.0</td>\n",
       "      <td>2004.0</td>\n",
       "      <td>0.000003</td>\n",
       "    </tr>\n",
       "    <tr>\n",
       "      <th>lal</th>\n",
       "      <td>5.0</td>\n",
       "      <td>2013.0</td>\n",
       "      <td>0.000003</td>\n",
       "    </tr>\n",
       "    <tr>\n",
       "      <th>nylyn</th>\n",
       "      <td>5.0</td>\n",
       "      <td>2016.0</td>\n",
       "      <td>0.000003</td>\n",
       "    </tr>\n",
       "    <tr>\n",
       "      <th>ailia</th>\n",
       "      <td>5.0</td>\n",
       "      <td>2009.0</td>\n",
       "      <td>0.000003</td>\n",
       "    </tr>\n",
       "    <tr>\n",
       "      <th>aia</th>\n",
       "      <td>5.0</td>\n",
       "      <td>2012.5</td>\n",
       "      <td>0.000003</td>\n",
       "    </tr>\n",
       "    <tr>\n",
       "      <th>ele</th>\n",
       "      <td>5.0</td>\n",
       "      <td>1999.0</td>\n",
       "      <td>0.000003</td>\n",
       "    </tr>\n",
       "    <tr>\n",
       "      <th>eillie</th>\n",
       "      <td>5.0</td>\n",
       "      <td>2010.0</td>\n",
       "      <td>0.000003</td>\n",
       "    </tr>\n",
       "    <tr>\n",
       "      <th>iri</th>\n",
       "      <td>5.0</td>\n",
       "      <td>2015.0</td>\n",
       "      <td>0.000003</td>\n",
       "    </tr>\n",
       "    <tr>\n",
       "      <th>avva</th>\n",
       "      <td>5.0</td>\n",
       "      <td>2009.0</td>\n",
       "      <td>0.000003</td>\n",
       "    </tr>\n",
       "    <tr>\n",
       "      <th>alala</th>\n",
       "      <td>5.0</td>\n",
       "      <td>2006.0</td>\n",
       "      <td>0.000003</td>\n",
       "    </tr>\n",
       "    <tr>\n",
       "      <th>hawah</th>\n",
       "      <td>5.0</td>\n",
       "      <td>2001.0</td>\n",
       "      <td>0.000003</td>\n",
       "    </tr>\n",
       "    <tr>\n",
       "      <th>noon</th>\n",
       "      <td>5.0</td>\n",
       "      <td>2005.5</td>\n",
       "      <td>0.000003</td>\n",
       "    </tr>\n",
       "    <tr>\n",
       "      <th>yanay</th>\n",
       "      <td>5.0</td>\n",
       "      <td>2009.0</td>\n",
       "      <td>0.000003</td>\n",
       "    </tr>\n",
       "    <tr>\n",
       "      <th>nayan</th>\n",
       "      <td>5.0</td>\n",
       "      <td>2008.0</td>\n",
       "      <td>0.000003</td>\n",
       "    </tr>\n",
       "    <tr>\n",
       "      <th>alela</th>\n",
       "      <td>5.0</td>\n",
       "      <td>2006.0</td>\n",
       "      <td>0.000003</td>\n",
       "    </tr>\n",
       "    <tr>\n",
       "      <th>artra</th>\n",
       "      <td>5.0</td>\n",
       "      <td>1962.0</td>\n",
       "      <td>0.000003</td>\n",
       "    </tr>\n",
       "    <tr>\n",
       "      <th>viv</th>\n",
       "      <td>5.0</td>\n",
       "      <td>1960.0</td>\n",
       "      <td>0.000002</td>\n",
       "    </tr>\n",
       "  </tbody>\n",
       "</table>\n",
       "<p>91 rows × 3 columns</p>\n",
       "</div>"
      ],
      "text/plain": [
       "         Count    Year  Fraction\n",
       "Name                            \n",
       "anna    5429.0  1948.0  0.004743\n",
       "hannah   295.0  1948.0  0.000667\n",
       "ada      628.0  1948.0  0.000403\n",
       "ava      156.0  1948.0  0.000155\n",
       "ana      224.0  1948.5  0.000131\n",
       "eve      127.0  1948.0  0.000111\n",
       "nan       51.0  1940.5  0.000108\n",
       "aja      194.0  1995.0  0.000106\n",
       "elle     170.0  1999.0  0.000096\n",
       "emme      84.0  2002.5  0.000045\n",
       "aya       52.5  1994.5  0.000030\n",
       "hanah     36.5  1997.5  0.000020\n",
       "aviva     32.0  1979.0  0.000019\n",
       "aziza     34.0  1994.5  0.000019\n",
       "adda      12.0  1916.5  0.000019\n",
       "renner     6.0  1909.0  0.000018\n",
       "ara       19.0  1948.0  0.000016\n",
       "atta       5.0  1904.5  0.000015\n",
       "awa       26.5  2004.5  0.000015\n",
       "eevee     24.0  2014.0  0.000013\n",
       "alla      10.0  1938.0  0.000011\n",
       "itati     17.0  2004.5  0.000009\n",
       "maram     16.0  2000.5  0.000009\n",
       "asa       14.0  1985.0  0.000008\n",
       "layal     14.0  2003.0  0.000008\n",
       "ama       10.5  1971.5  0.000008\n",
       "anona      8.0  1930.5  0.000008\n",
       "ala        9.0  1979.0  0.000007\n",
       "otto       6.0  1918.0  0.000006\n",
       "amma       7.0  1937.0  0.000006\n",
       "...        ...     ...       ...\n",
       "assa       6.0  2008.5  0.000003\n",
       "nin        6.0  1998.0  0.000003\n",
       "ece        6.0  2009.0  0.000003\n",
       "ivi        6.0  2006.5  0.000003\n",
       "aba        5.5  1988.5  0.000003\n",
       "aicia      5.5  1984.5  0.000003\n",
       "neven      6.0  2009.0  0.000003\n",
       "axa        6.0  2007.0  0.000003\n",
       "afifa      6.0  2007.5  0.000003\n",
       "aleela     6.0  2007.0  0.000003\n",
       "ede        5.0  1959.0  0.000003\n",
       "azeeza     5.5  2013.0  0.000003\n",
       "hayah      5.5  2010.0  0.000003\n",
       "azza       5.0  2004.0  0.000003\n",
       "lal        5.0  2013.0  0.000003\n",
       "nylyn      5.0  2016.0  0.000003\n",
       "ailia      5.0  2009.0  0.000003\n",
       "aia        5.0  2012.5  0.000003\n",
       "ele        5.0  1999.0  0.000003\n",
       "eillie     5.0  2010.0  0.000003\n",
       "iri        5.0  2015.0  0.000003\n",
       "avva       5.0  2009.0  0.000003\n",
       "alala      5.0  2006.0  0.000003\n",
       "hawah      5.0  2001.0  0.000003\n",
       "noon       5.0  2005.5  0.000003\n",
       "yanay      5.0  2009.0  0.000003\n",
       "nayan      5.0  2008.0  0.000003\n",
       "alela      5.0  2006.0  0.000003\n",
       "artra      5.0  1962.0  0.000003\n",
       "viv        5.0  1960.0  0.000002\n",
       "\n",
       "[91 rows x 3 columns]"
      ]
     },
     "execution_count": 8,
     "metadata": {},
     "output_type": "execute_result"
    }
   ],
   "source": [
    "def is_palindrome(s):\n",
    "    return(str(s) == str(s)[::-1])\n",
    "\n",
    "p=girls.Name.copy().map(is_palindrome).values\n",
    "girls.loc[p,:].groupby(['Name']).agg('median').sort_values('Fraction',ascending=False)"
   ]
  },
  {
   "cell_type": "markdown",
   "metadata": {},
   "source": [
    "# Train the Recurrent Neural Net\n",
    "\n",
    "Ok, get to work: build RNN model for girl's names using the Keras text generation [example](https://github.com/fchollet/keras/blob/master/examples/lstm_text_generation.py) as a starting point:"
   ]
  },
  {
   "cell_type": "code",
   "execution_count": 9,
   "metadata": {
    "collapsed": false,
    "scrolled": true
   },
   "outputs": [
    {
     "name": "stdout",
     "output_type": "stream",
     "text": [
      "corpus length: 8172527\n",
      "total chars: 27\n",
      "nb sequences: 2724172\n",
      "Vectorization...\n",
      "Build model...\n",
      "\n",
      "--------------------------------------------------\n",
      "Iteration 1\n",
      "Loss: 1.53\n",
      "\n",
      "--------------------------------------------------\n",
      "Iteration 2\n",
      "Loss: 1.45\n",
      "\n",
      "--------------------------------------------------\n",
      "Iteration 3\n",
      "Loss: 1.49\n",
      "\n",
      "--------------------------------------------------\n",
      "Iteration 4\n",
      "Loss: 1.56\n",
      "\n",
      "--------------------------------------------------\n",
      "Iteration 5\n",
      "Loss: 1.55\n",
      "\n",
      "--------------------------------------------------\n",
      "Iteration 6\n",
      "Loss: 1.49\n",
      "\n",
      "--------------------------------------------------\n",
      "Iteration 7\n",
      "Loss: 1.51\n",
      "\n",
      "--------------------------------------------------\n",
      "Iteration 8\n",
      "Loss: 1.55\n",
      "\n",
      "--------------------------------------------------\n",
      "Iteration 9\n",
      "Loss: 1.54\n"
     ]
    }
   ],
   "source": [
    "# blatant steal from : https://github.com/fchollet/keras/blob/master/examples/lstm_text_generation.py\n",
    "\n",
    "\n",
    "text = ' '.join(girls['Name'].values)\n",
    "print('corpus length:', len(text))\n",
    "\n",
    "chars = sorted(list(set(text)))\n",
    "print('total chars:', len(chars))\n",
    "char_indices = dict((c, i) for i, c in enumerate(chars))\n",
    "indices_char = dict((i, c) for i, c in enumerate(chars))\n",
    "\n",
    "# cut the text in semi-redundant sequences of maxlen characters\n",
    "maxlen = 12\n",
    "step = 3\n",
    "sentences = []\n",
    "next_chars = []\n",
    "for i in range(0, len(text) - maxlen, step):\n",
    "    sentences.append(text[i: i + maxlen])\n",
    "    next_chars.append(text[i + maxlen])\n",
    "print('nb sequences:', len(sentences))\n",
    "\n",
    "print('Vectorization...')\n",
    "X = np.zeros((len(sentences), maxlen, len(chars)), dtype=np.bool)\n",
    "y = np.zeros((len(sentences), len(chars)), dtype=np.bool)\n",
    "for i, sentence in enumerate(sentences):\n",
    "    for t, char in enumerate(sentence):\n",
    "        X[i, t, char_indices[char]] = 1\n",
    "    y[i, char_indices[next_chars[i]]] = 1\n",
    "\n",
    "\n",
    "# build the model: a single LSTM\n",
    "print('Build model...')\n",
    "model = Sequential()\n",
    "model.add(LSTM(128, input_shape=(maxlen, len(chars))))\n",
    "model.add(Dense(len(chars)))\n",
    "model.add(Activation('softmax'))\n",
    "\n",
    "optimizer = RMSprop(lr=0.01)\n",
    "model.compile(loss='categorical_crossentropy', optimizer=optimizer)\n",
    "\n",
    "\n",
    "def sample(preds, temperature=1.0):\n",
    "    # helper function to sample an index from a probability array\n",
    "    preds = np.asarray(preds).astype('float64')\n",
    "    preds = np.log(preds) / temperature\n",
    "    exp_preds = np.exp(preds)\n",
    "    preds = exp_preds / np.sum(exp_preds)\n",
    "    probas = np.random.multinomial(1, preds, 1)\n",
    "    return np.argmax(probas)\n",
    "\n",
    "# train the model, output generated text after each iteration\n",
    "for iteration in range(1, 10):\n",
    "    print('-' * 50)\n",
    "    print('Iteration', iteration)\n",
    "    results=model.fit(X, y,\n",
    "              batch_size=128,\n",
    "              epochs=1,\n",
    "              verbose=0)\n",
    "    print('Loss: {:3.2f}'.format(results.history['loss'][0]))\n"
   ]
  },
  {
   "cell_type": "markdown",
   "metadata": {},
   "source": [
    "With the trained model, generate some predictions, then use `set` to find names that are not in the training set:"
   ]
  },
  {
   "cell_type": "code",
   "execution_count": null,
   "metadata": {
    "collapsed": false
   },
   "outputs": [],
   "source": []
  },
  {
   "cell_type": "code",
   "execution_count": 10,
   "metadata": {
    "collapsed": false
   },
   "outputs": [
    {
     "name": "stderr",
     "output_type": "stream",
     "text": [
      "/home/jak/miniconda3/lib/python3.5/site-packages/ipykernel/__main__.py:45: RuntimeWarning: divide by zero encountered in log\n"
     ]
    }
   ],
   "source": [
    "generated=''\n",
    "diversity=0.5\n",
    "sentence='sweet peanut'  # seed text to kick off predictions\n",
    "for i in range(40000):\n",
    "    x = np.zeros((1, maxlen, len(chars)))\n",
    "    for t, char in enumerate(sentence):\n",
    "        x[0, t, char_indices[char]] = 1.\n",
    "\n",
    "    preds = model.predict(x, verbose=0)[0]\n",
    "    next_index = sample(preds, diversity)\n",
    "    next_char = indices_char[next_index]\n",
    "\n",
    "    generated += next_char\n",
    "    sentence = sentence[1:] + next_char\n",
    "    \n",
    "names = set(generated.split(' '))-set(girls['Name'])"
   ]
  },
  {
   "cell_type": "code",
   "execution_count": 11,
   "metadata": {
    "collapsed": false
   },
   "outputs": [
    {
     "data": {
      "text/plain": [
       "696"
      ]
     },
     "execution_count": 11,
     "metadata": {},
     "output_type": "execute_result"
    }
   ],
   "source": [
    "len(names)"
   ]
  },
  {
   "cell_type": "markdown",
   "metadata": {},
   "source": [
    "And here are the new unique names:"
   ]
  },
  {
   "cell_type": "code",
   "execution_count": 13,
   "metadata": {
    "collapsed": false
   },
   "outputs": [
    {
     "data": {
      "text/plain": [
       "' kaidane denas ailan sumonn alexyann kaide alechitha erenda geralee genaline allessia kendaline jesseman tamary berden andreda analila takika tannna laris eleshie kenndale brittti anavia lareena bernardene challe arila rannell marimargen aryshia delme alexika alaka annesta alexss brynita adalese jakoli arelee ellandra vennet dortheen dusta mardis jolann marylonda amyleen deris ellalie laverni lavetha annari addacia janabel arleya adeletta alexstann naybella latila sumoda dorenn lavandra jasselyn abrylah brittann achaunda arlan aleahna amaera arlanna alexs alessamai kathlenn marylune marisone carsley estephann timmar ardille britttie kirlynn neali argina trody ardi alayley janinia gennesta delce katisa lurestina alessha ardenna alexan addyla latiley alexene kireni analika janicha alann juliuna amelyn makindra myrine laryla amardina nealia sumonda latieann genarie alayyah jadema lenella yaah arylani lavann jacquelinen larise abiga kendlee lavari conchice deneas arteris tymiah nee adola verenia mavon jasme jodei katann yesslyn jaleith tanton anale aubreeah anyis allyssma stemmalia carolia harsie latovenia arude jasse alysina tanan ellanna odesta demarica mariesla saraija annaliyana alexson kamane lavonita marylora bernaina johnnee darrina markelin tyni berenia araka jordoth alayra keatherina ellit betalle juliun deasla natsey arylynn arylann argann jassonia addelia arylavina arecka sharondra ardette kerinn maketria deshelle tristie achell sanie alessab arriann carmanda trenilda halura alexse talta arelynn adais doreana dessadean araline adelan chellin munne alexiann lathen berisha tammalyn frederi alexsana amarith timicha laton bethenn abbrye alexsie alexsi rosslee kinndel cartie jasson arryse arith joellet jannnetta ellenn arala charlota bersery jadina lavura jadena aville aricalynn janema solberta deziria arume caede brynell katryl everea tameri alanne jodalee darmen janiet ardesia arlann denella alep arsia faytha bethenne tanie hellani derriann artianna arylle arylon jakenah jesseta fabiolani areisa latalee evere albin trealer bernare marylanda alexon britttine joianna ravia annalika adalela jolinn araylee arthen lorainna delvena aberta aleyssie nikeith delan dennye kashaya arisse bernae alissama karrita theodoree delian lakeith datrena avilla alaylie herrita adelette analki addith arell geraldea tamki deinda abyrleigh brittter arylor lutil avonia tyiasha annaliet verica jadida janasabel arilee helisha deneema halin joklia lavernie geralin alefen janethia adisha marighann larynne alexyka juliisa suti arylin alexsita shannett estelatt jakena lesla tanyal maryluna janamai ramena dorrina lavanne laylea bernet santon aleyson beania alltery maryjan alissta lorith britanye jakerine adalita javya tameitha jennest alexsanna elleyna britttan elmin otesia falinda othan alexsiah jannisha lawira jassarin treasella adolina jeraldea greet dorett alashana alexsma valaira jasita britthann mareetta brititen janiella alelsina jodelyn vendrie dellaris tanyat makinta janasa alexsan denalda sumina ranett jessemina noriann yachell laynna stayana allenia ginea marson aviann avzell orisa deshella arise arbyn varnette alyssie bernadie maryelia alilie abina genaria alexani janees arisell alet ortine trinetha anabo anastasa anneron arylyn shyris jakeri dellan berena yashena tanasa janain natila lylaina janyeth latie aryenna lenno marity jossia odestan brinne gennet taneysa aryenn jannetha laniette anabi laveth aedyla javianne destan arve janabeth amishia harton alegen aldan tammya ellenne yanetta arilena ardea arile jaskolynn marys berland bryntanie marylulie alexande mariaure alleyann trynella avigan marylore alebert deianne aryla agli alexsemarie saricita lava aryce arilya jakina everen kathelynn jorda dewania rannette alisagia abya arileen dellail avaria alesseria chanisa yamiria akiani rannita harrieth kassita maritia alisssa marilen laronia carijah geneline denniett tynetha alaylor darland carinn trynetta alliani adise janamarie amarita johnani ellot lakenay joycel aeli jashera avane allann are tanani tanyran argone ellima raneel allynne addela arcia lorala arle delphha karsie cassonda benora brityna annastasha kathrie willianna tissia annelica valenta takiita aarina allyss ariesha fatricka emmala sycill kellhelle gredet kaidi argus evangelinee berenita alexen ne kenyal armaine jannalis alexita sanuela orisann arissia makinda darlani jesselina adrae donniette annama alaita aryse jaquilina joenna alegesse arshatha dorletta ammey chatine bettelea jenneka lillisa arilea alexian deshann janyin halily anasta janase arialy marylunda jarine latola demayah trin jenei arlesta erill arynna lavava ariselle jacquan lemard amarell adelarie jearlina britttann arilin alysaid derisa aryle janeith kendalida alexstan estrel avura amaryle addin abannah tristel donnalisa trynette jakeiah alaitha betheni natasta laveti arylia aliberita alexna denaice laverita omary trynleigh alexin almelinda desona aleeanna helenora barriana steshena argena janaika ellitha wendylyn amalli kasida latomi nassiota valendi aryre arsiah yaylyn maritica laurei alith aleeann timarine kierrea carsi derrin aldenia arylee demarisa makilla oneicia kathilyn aryen lores marodia jassaria alysssa aarile artil bernarden addilene mareet lavadia dorinn shynda alexell elima britland analita maricie laita alesson darilee jasida jazziana suy'"
      ]
     },
     "execution_count": 13,
     "metadata": {},
     "output_type": "execute_result"
    }
   ],
   "source": [
    "' '.join([n for n in names if len(n)<12 ])"
   ]
  },
  {
   "cell_type": "code",
   "execution_count": null,
   "metadata": {
    "collapsed": true
   },
   "outputs": [],
   "source": []
  }
 ],
 "metadata": {
  "anaconda-cloud": {},
  "kernelspec": {
   "display_name": "Python [default]",
   "language": "python",
   "name": "python3"
  },
  "language_info": {
   "codemirror_mode": {
    "name": "ipython",
    "version": 3
   },
   "file_extension": ".py",
   "mimetype": "text/x-python",
   "name": "python",
   "nbconvert_exporter": "python",
   "pygments_lexer": "ipython3",
   "version": "3.5.2"
  }
 },
 "nbformat": 4,
 "nbformat_minor": 2
}
